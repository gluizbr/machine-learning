{
 "cells": [
  {
   "cell_type": "markdown",
   "metadata": {},
   "source": [
    "# 0. Introdução"
   ]
  },
  {
   "cell_type": "markdown",
   "metadata": {},
   "source": [
    "**Trabalho Clustering**:\n",
    "\n",
    "Aluno: Gabriel Luiz\n",
    "\n",
    "Disciplina: Tópico em Aprendizado de Máquina\n",
    "\n",
    "**Objetivos** :\n",
    "\n",
    "- Escolha dois datasets rotulados.\n",
    "- Realize a análise estatística, visualização e pré-processamento dos dados.\n",
    "- Realize os experimentos criando duas bases de teste distintas:\n",
    "- - considerando todos os atributos do dataset ;\n",
    "- - selecionando alguns atributos e descartando outros;\n",
    "- Aplique três métodos de clustering distintos nas duas bases acima.\n",
    "- Para cada dataset , em cada uma das bases, analise os resultados\n",
    " segundo medidas de qualidade de clustering , usando índices de\n",
    " validação interna (SSW, SSB, silhueta, Calinski-Harabasz, Dunn e\n",
    " Davis-Bouldin) e externa (pureza, entropia, acurácia, F-measure ,\n",
    " ARI, NMI).\n",
    "- Proponha uma maneira adicional de comparar os resultados obtidos\n",
    "além das medidas acima.\n",
    "- Compare e interprete os resultados dos dois experimentos em cada dataset\n"
   ]
  },
  {
   "cell_type": "markdown",
   "metadata": {},
   "source": [
    "## 0.1 Dependências"
   ]
  },
  {
   "cell_type": "markdown",
   "metadata": {},
   "source": [
    "Para realização da tarefa foram utilizados as seguintes bibliotecas:"
   ]
  },
  {
   "cell_type": "code",
   "execution_count": 2,
   "metadata": {
    "pycharm": {
     "name": "#%%\n"
    }
   },
   "outputs": [],
   "source": [
    "from datetime import datetime\n",
    "import numpy as np\n",
    "import pandas as pd\n",
    "from sklearn.cluster import *\n",
    "import seaborn as sns\n",
    "from sklearn import preprocessing\n",
    "import matplotlib.pyplot as plt\n",
    "from clustering.labelMatch import rotulos, labelmatch, compute_err\n",
    "from sklearn.feature_selection import SelectKBest\n",
    "from sklearn.feature_selection import chi2\n",
    "from sklearn.metrics import f1_score\n",
    "from sklearn.metrics import accuracy_score\n",
    "from sklearn.metrics import confusion_matrix\n",
    "from sklearn.metrics import silhouette_score\n",
    "from sklearn.metrics import calinski_harabasz_score\n",
    "from sklearn.metrics import adjusted_rand_score\n",
    "from sklearn.metrics import adjusted_mutual_info_score\n",
    "from sklearn.metrics.pairwise import euclidean_distances\n",
    "from scipy.stats import mode\n",
    "from munkres import Munkres"
   ]
  },
  {
   "cell_type": "markdown",
   "metadata": {},
   "source": [
    "# 1. Dados"
   ]
  },
  {
   "cell_type": "markdown",
   "metadata": {},
   "source": [
    "Para realização das tarefas envolvidas neste relatório utilizou-se o arquivo **dim128.csv** que contém dados não descritos, onde foram feitos para a realização de clustering que se encontram no site:\n",
    "http://cs.uef.fi/sipu/datasets/"
   ]
  },
  {
   "cell_type": "markdown",
   "metadata": {},
   "source": [
    "## 1.1 Carregamento do arquivo"
   ]
  },
  {
   "cell_type": "code",
   "execution_count": 3,
   "metadata": {
    "pycharm": {
     "name": "#%%\n"
    }
   },
   "outputs": [],
   "source": [
    "dataset = './dataset/dim128/dim128.csv'\n",
    "clusters = './dataset/dim128/dim128pa.csv'"
   ]
  },
  {
   "cell_type": "code",
   "execution_count": 4,
   "metadata": {
    "pycharm": {
     "name": "#%%\n"
    }
   },
   "outputs": [],
   "source": [
    "data = pd.read_csv(\n",
    "    dataset,\n",
    "    header = None\n",
    "    )\n",
    "\n",
    "label = pd.read_csv(\n",
    "    clusters,\n",
    "    header = None\n",
    "    )"
   ]
  },
  {
   "cell_type": "code",
   "execution_count": 5,
   "metadata": {
    "pycharm": {
     "name": "#%%\n"
    }
   },
   "outputs": [
    {
     "data": {
      "text/plain": "   0    1    2    3    4    5    6    7    8    9    ...  118  119  120  121  \\\n0  145  142  131  135  208  209   65  128  183  131  ...  199  218  182   53   \n1  149  148  137  137  213  209   71  125  183  125  ...  198  222  182   52   \n2  151  144  135  132  210  208   67  124  183  128  ...  198  218  182   52   \n3  148  141  136  135  207  209   65  127  184  130  ...  197  219  184   50   \n4  146  145  136  135  208  212   70  130  185  129  ...  199  217  182   52   \n\n   122  123  124  125  126  127  \n0  144  198   93   34   99   79  \n1  148  198   97   35   99   78  \n2  144  196   93   38  101   78  \n3  144  198   92   36  101   82  \n4  148  198   95   36   96   80  \n\n[5 rows x 128 columns]",
      "text/html": "<div>\n<style scoped>\n    .dataframe tbody tr th:only-of-type {\n        vertical-align: middle;\n    }\n\n    .dataframe tbody tr th {\n        vertical-align: top;\n    }\n\n    .dataframe thead th {\n        text-align: right;\n    }\n</style>\n<table border=\"1\" class=\"dataframe\">\n  <thead>\n    <tr style=\"text-align: right;\">\n      <th></th>\n      <th>0</th>\n      <th>1</th>\n      <th>2</th>\n      <th>3</th>\n      <th>4</th>\n      <th>5</th>\n      <th>6</th>\n      <th>7</th>\n      <th>8</th>\n      <th>9</th>\n      <th>...</th>\n      <th>118</th>\n      <th>119</th>\n      <th>120</th>\n      <th>121</th>\n      <th>122</th>\n      <th>123</th>\n      <th>124</th>\n      <th>125</th>\n      <th>126</th>\n      <th>127</th>\n    </tr>\n  </thead>\n  <tbody>\n    <tr>\n      <th>0</th>\n      <td>145</td>\n      <td>142</td>\n      <td>131</td>\n      <td>135</td>\n      <td>208</td>\n      <td>209</td>\n      <td>65</td>\n      <td>128</td>\n      <td>183</td>\n      <td>131</td>\n      <td>...</td>\n      <td>199</td>\n      <td>218</td>\n      <td>182</td>\n      <td>53</td>\n      <td>144</td>\n      <td>198</td>\n      <td>93</td>\n      <td>34</td>\n      <td>99</td>\n      <td>79</td>\n    </tr>\n    <tr>\n      <th>1</th>\n      <td>149</td>\n      <td>148</td>\n      <td>137</td>\n      <td>137</td>\n      <td>213</td>\n      <td>209</td>\n      <td>71</td>\n      <td>125</td>\n      <td>183</td>\n      <td>125</td>\n      <td>...</td>\n      <td>198</td>\n      <td>222</td>\n      <td>182</td>\n      <td>52</td>\n      <td>148</td>\n      <td>198</td>\n      <td>97</td>\n      <td>35</td>\n      <td>99</td>\n      <td>78</td>\n    </tr>\n    <tr>\n      <th>2</th>\n      <td>151</td>\n      <td>144</td>\n      <td>135</td>\n      <td>132</td>\n      <td>210</td>\n      <td>208</td>\n      <td>67</td>\n      <td>124</td>\n      <td>183</td>\n      <td>128</td>\n      <td>...</td>\n      <td>198</td>\n      <td>218</td>\n      <td>182</td>\n      <td>52</td>\n      <td>144</td>\n      <td>196</td>\n      <td>93</td>\n      <td>38</td>\n      <td>101</td>\n      <td>78</td>\n    </tr>\n    <tr>\n      <th>3</th>\n      <td>148</td>\n      <td>141</td>\n      <td>136</td>\n      <td>135</td>\n      <td>207</td>\n      <td>209</td>\n      <td>65</td>\n      <td>127</td>\n      <td>184</td>\n      <td>130</td>\n      <td>...</td>\n      <td>197</td>\n      <td>219</td>\n      <td>184</td>\n      <td>50</td>\n      <td>144</td>\n      <td>198</td>\n      <td>92</td>\n      <td>36</td>\n      <td>101</td>\n      <td>82</td>\n    </tr>\n    <tr>\n      <th>4</th>\n      <td>146</td>\n      <td>145</td>\n      <td>136</td>\n      <td>135</td>\n      <td>208</td>\n      <td>212</td>\n      <td>70</td>\n      <td>130</td>\n      <td>185</td>\n      <td>129</td>\n      <td>...</td>\n      <td>199</td>\n      <td>217</td>\n      <td>182</td>\n      <td>52</td>\n      <td>148</td>\n      <td>198</td>\n      <td>95</td>\n      <td>36</td>\n      <td>96</td>\n      <td>80</td>\n    </tr>\n  </tbody>\n</table>\n<p>5 rows × 128 columns</p>\n</div>"
     },
     "execution_count": 5,
     "metadata": {},
     "output_type": "execute_result"
    }
   ],
   "source": [
    "data.head()"
   ]
  },
  {
   "cell_type": "code",
   "execution_count": 6,
   "metadata": {
    "pycharm": {
     "name": "#%%\n"
    },
    "scrolled": true
   },
   "outputs": [
    {
     "data": {
      "text/plain": "               0            1            2            3            4    \\\ncount  1024.000000  1024.000000  1024.000000  1024.000000  1024.000000   \nmean    125.248047   150.040039   134.053711   134.069336   118.694336   \nstd      51.254859    48.465458    49.652222    38.661577    54.941676   \nmin      31.000000    45.000000    42.000000    46.000000    35.000000   \n25%      89.500000   129.500000   104.500000   100.750000    76.500000   \n50%     117.000000   145.000000   142.000000   139.500000   111.000000   \n75%     158.500000   191.000000   174.000000   167.000000   158.000000   \nmax     220.000000   225.000000   205.000000   195.000000   227.000000   \n\n               5            6            7            8            9    ...  \\\ncount  1024.000000  1024.000000  1024.000000  1024.000000  1024.000000  ...   \nmean    145.112305   125.099609   117.110352   108.508789   126.273438  ...   \nstd      44.562082    51.200904    48.900247    51.715931    50.317170  ...   \nmin      65.000000    52.000000    41.000000    31.000000    41.000000  ...   \n25%     111.250000    66.000000    72.000000    68.000000    89.000000  ...   \n50%     143.000000   130.000000   116.000000   100.000000   121.500000  ...   \n75%     180.000000   171.250000   152.250000   137.250000   176.000000  ...   \nmax     218.000000   207.000000   220.000000   207.000000   218.000000  ...   \n\n               118          119          120          121          122  \\\ncount  1024.000000  1024.000000  1024.000000  1024.000000  1024.000000   \nmean    145.520508   133.936523   130.793945   136.500000   136.348633   \nstd      54.379262    55.852890    58.455433    52.589374    51.880328   \nmin      34.000000    42.000000    41.000000    47.000000    30.000000   \n25%     105.750000    90.750000    83.000000   103.500000   100.250000   \n50%     150.500000   133.000000   111.500000   134.000000   133.000000   \n75%     194.000000   187.000000   195.750000   184.500000   187.000000   \nmax     223.000000   224.000000   222.000000   218.000000   218.000000   \n\n               123          124          125          126          127  \ncount  1024.000000  1024.000000  1024.000000  1024.000000  1024.000000  \nmean    117.336914   123.756836    99.931641   110.326172   151.151367  \nstd      60.981599    46.710213    49.196389    60.645574    49.358342  \nmin      32.000000    25.000000    27.000000    30.000000    58.000000  \n25%      60.750000    94.000000    63.000000    54.750000   114.750000  \n50%     113.500000   124.000000    87.500000    98.000000   179.500000  \n75%     181.250000   159.000000   128.250000   168.000000   190.000000  \nmax     209.000000   210.000000   194.000000   215.000000   204.000000  \n\n[8 rows x 128 columns]",
      "text/html": "<div>\n<style scoped>\n    .dataframe tbody tr th:only-of-type {\n        vertical-align: middle;\n    }\n\n    .dataframe tbody tr th {\n        vertical-align: top;\n    }\n\n    .dataframe thead th {\n        text-align: right;\n    }\n</style>\n<table border=\"1\" class=\"dataframe\">\n  <thead>\n    <tr style=\"text-align: right;\">\n      <th></th>\n      <th>0</th>\n      <th>1</th>\n      <th>2</th>\n      <th>3</th>\n      <th>4</th>\n      <th>5</th>\n      <th>6</th>\n      <th>7</th>\n      <th>8</th>\n      <th>9</th>\n      <th>...</th>\n      <th>118</th>\n      <th>119</th>\n      <th>120</th>\n      <th>121</th>\n      <th>122</th>\n      <th>123</th>\n      <th>124</th>\n      <th>125</th>\n      <th>126</th>\n      <th>127</th>\n    </tr>\n  </thead>\n  <tbody>\n    <tr>\n      <th>count</th>\n      <td>1024.000000</td>\n      <td>1024.000000</td>\n      <td>1024.000000</td>\n      <td>1024.000000</td>\n      <td>1024.000000</td>\n      <td>1024.000000</td>\n      <td>1024.000000</td>\n      <td>1024.000000</td>\n      <td>1024.000000</td>\n      <td>1024.000000</td>\n      <td>...</td>\n      <td>1024.000000</td>\n      <td>1024.000000</td>\n      <td>1024.000000</td>\n      <td>1024.000000</td>\n      <td>1024.000000</td>\n      <td>1024.000000</td>\n      <td>1024.000000</td>\n      <td>1024.000000</td>\n      <td>1024.000000</td>\n      <td>1024.000000</td>\n    </tr>\n    <tr>\n      <th>mean</th>\n      <td>125.248047</td>\n      <td>150.040039</td>\n      <td>134.053711</td>\n      <td>134.069336</td>\n      <td>118.694336</td>\n      <td>145.112305</td>\n      <td>125.099609</td>\n      <td>117.110352</td>\n      <td>108.508789</td>\n      <td>126.273438</td>\n      <td>...</td>\n      <td>145.520508</td>\n      <td>133.936523</td>\n      <td>130.793945</td>\n      <td>136.500000</td>\n      <td>136.348633</td>\n      <td>117.336914</td>\n      <td>123.756836</td>\n      <td>99.931641</td>\n      <td>110.326172</td>\n      <td>151.151367</td>\n    </tr>\n    <tr>\n      <th>std</th>\n      <td>51.254859</td>\n      <td>48.465458</td>\n      <td>49.652222</td>\n      <td>38.661577</td>\n      <td>54.941676</td>\n      <td>44.562082</td>\n      <td>51.200904</td>\n      <td>48.900247</td>\n      <td>51.715931</td>\n      <td>50.317170</td>\n      <td>...</td>\n      <td>54.379262</td>\n      <td>55.852890</td>\n      <td>58.455433</td>\n      <td>52.589374</td>\n      <td>51.880328</td>\n      <td>60.981599</td>\n      <td>46.710213</td>\n      <td>49.196389</td>\n      <td>60.645574</td>\n      <td>49.358342</td>\n    </tr>\n    <tr>\n      <th>min</th>\n      <td>31.000000</td>\n      <td>45.000000</td>\n      <td>42.000000</td>\n      <td>46.000000</td>\n      <td>35.000000</td>\n      <td>65.000000</td>\n      <td>52.000000</td>\n      <td>41.000000</td>\n      <td>31.000000</td>\n      <td>41.000000</td>\n      <td>...</td>\n      <td>34.000000</td>\n      <td>42.000000</td>\n      <td>41.000000</td>\n      <td>47.000000</td>\n      <td>30.000000</td>\n      <td>32.000000</td>\n      <td>25.000000</td>\n      <td>27.000000</td>\n      <td>30.000000</td>\n      <td>58.000000</td>\n    </tr>\n    <tr>\n      <th>25%</th>\n      <td>89.500000</td>\n      <td>129.500000</td>\n      <td>104.500000</td>\n      <td>100.750000</td>\n      <td>76.500000</td>\n      <td>111.250000</td>\n      <td>66.000000</td>\n      <td>72.000000</td>\n      <td>68.000000</td>\n      <td>89.000000</td>\n      <td>...</td>\n      <td>105.750000</td>\n      <td>90.750000</td>\n      <td>83.000000</td>\n      <td>103.500000</td>\n      <td>100.250000</td>\n      <td>60.750000</td>\n      <td>94.000000</td>\n      <td>63.000000</td>\n      <td>54.750000</td>\n      <td>114.750000</td>\n    </tr>\n    <tr>\n      <th>50%</th>\n      <td>117.000000</td>\n      <td>145.000000</td>\n      <td>142.000000</td>\n      <td>139.500000</td>\n      <td>111.000000</td>\n      <td>143.000000</td>\n      <td>130.000000</td>\n      <td>116.000000</td>\n      <td>100.000000</td>\n      <td>121.500000</td>\n      <td>...</td>\n      <td>150.500000</td>\n      <td>133.000000</td>\n      <td>111.500000</td>\n      <td>134.000000</td>\n      <td>133.000000</td>\n      <td>113.500000</td>\n      <td>124.000000</td>\n      <td>87.500000</td>\n      <td>98.000000</td>\n      <td>179.500000</td>\n    </tr>\n    <tr>\n      <th>75%</th>\n      <td>158.500000</td>\n      <td>191.000000</td>\n      <td>174.000000</td>\n      <td>167.000000</td>\n      <td>158.000000</td>\n      <td>180.000000</td>\n      <td>171.250000</td>\n      <td>152.250000</td>\n      <td>137.250000</td>\n      <td>176.000000</td>\n      <td>...</td>\n      <td>194.000000</td>\n      <td>187.000000</td>\n      <td>195.750000</td>\n      <td>184.500000</td>\n      <td>187.000000</td>\n      <td>181.250000</td>\n      <td>159.000000</td>\n      <td>128.250000</td>\n      <td>168.000000</td>\n      <td>190.000000</td>\n    </tr>\n    <tr>\n      <th>max</th>\n      <td>220.000000</td>\n      <td>225.000000</td>\n      <td>205.000000</td>\n      <td>195.000000</td>\n      <td>227.000000</td>\n      <td>218.000000</td>\n      <td>207.000000</td>\n      <td>220.000000</td>\n      <td>207.000000</td>\n      <td>218.000000</td>\n      <td>...</td>\n      <td>223.000000</td>\n      <td>224.000000</td>\n      <td>222.000000</td>\n      <td>218.000000</td>\n      <td>218.000000</td>\n      <td>209.000000</td>\n      <td>210.000000</td>\n      <td>194.000000</td>\n      <td>215.000000</td>\n      <td>204.000000</td>\n    </tr>\n  </tbody>\n</table>\n<p>8 rows × 128 columns</p>\n</div>"
     },
     "execution_count": 6,
     "metadata": {},
     "output_type": "execute_result"
    }
   ],
   "source": [
    "data.describe()"
   ]
  },
  {
   "cell_type": "markdown",
   "metadata": {},
   "source": [
    "# 2. Pré-processamento"
   ]
  },
  {
   "cell_type": "markdown",
   "metadata": {},
   "source": [
    "#### Validações efetivadas:\n",
    "- 1. Dados faltantes representados por \"NaN\"\n",
    "- 2. Dados que não possuem valores númericos"
   ]
  },
  {
   "cell_type": "code",
   "execution_count": 7,
   "metadata": {
    "pycharm": {
     "name": "#%%\n"
    }
   },
   "outputs": [],
   "source": [
    "# data.isna().sum()"
   ]
  },
  {
   "cell_type": "code",
   "execution_count": 8,
   "metadata": {
    "pycharm": {
     "name": "#%%\n"
    }
   },
   "outputs": [],
   "source": [
    "# for col in data:\n",
    "#     print(col, data[col].unique())"
   ]
  },
  {
   "cell_type": "markdown",
   "metadata": {},
   "source": [
    "#### 2.1 Conclusão:\n",
    "- Os dados não possuem a necessidade de pré-processamento visto que já estão todos com valores validos"
   ]
  },
  {
   "cell_type": "markdown",
   "metadata": {},
   "source": [
    "###  2.3 Análise estatística"
   ]
  },
  {
   "cell_type": "code",
   "execution_count": 9,
   "metadata": {
    "pycharm": {
     "name": "#%%\n"
    }
   },
   "outputs": [
    {
     "data": {
      "text/plain": "          0         1         2         3         4         5         6    \\\n0    1.000000 -0.298556  0.099976  0.022622  0.147617  0.121319 -0.126459   \n1   -0.298556  1.000000 -0.185263  0.432802 -0.292705  0.061192 -0.019780   \n2    0.099976 -0.185263  1.000000  0.067625  0.362365 -0.028879  0.080121   \n3    0.022622  0.432802  0.067625  1.000000  0.099326 -0.144059 -0.112927   \n4    0.147617 -0.292705  0.362365  0.099326  1.000000  0.293487 -0.131999   \n..        ...       ...       ...       ...       ...       ...       ...   \n123  0.034045  0.016683 -0.044062 -0.358739  0.033921  0.005289  0.050475   \n124  0.463972 -0.548772  0.567061 -0.241791  0.189920 -0.258597  0.129884   \n125 -0.023602  0.217301 -0.184789  0.213103 -0.551513 -0.268762  0.541192   \n126 -0.188079  0.429549 -0.021832 -0.361639  0.109259  0.058695  0.386794   \n127  0.311024 -0.073918  0.222362 -0.177917 -0.318805  0.066725  0.368015   \n\n          7         8         9    ...       118       119       120  \\\n0    0.467975  0.279398 -0.138266  ... -0.357315 -0.012444  0.125286   \n1    0.016283 -0.213111  0.143765  ... -0.173967  0.247016  0.633308   \n2    0.012888  0.007419  0.235775  ...  0.223319 -0.231223 -0.192837   \n3    0.266907 -0.429601 -0.028823  ... -0.416790 -0.262267  0.586108   \n4   -0.170449  0.577666 -0.063625  ...  0.227436 -0.035686  0.014784   \n..        ...       ...       ...  ...       ...       ...       ...   \n123 -0.220242  0.284786 -0.384904  ... -0.014952  0.285386 -0.044914   \n124  0.046233  0.049035  0.115393  ...  0.125422 -0.340187 -0.507953   \n125  0.318943 -0.447063  0.044297  ... -0.288177  0.100666  0.075201   \n126 -0.197502  0.433910  0.145782  ...  0.329098  0.320879 -0.103570   \n127  0.154835  0.012821  0.257718  ...  0.127201  0.133552 -0.133041   \n\n          121       122       123       124       125       126       127  \n0    0.218881 -0.253469  0.034045  0.463972 -0.023602 -0.188079  0.311024  \n1    0.059660  0.505386  0.016683 -0.548772  0.217301  0.429549 -0.073918  \n2    0.184547  0.445270 -0.044062  0.567061 -0.184789 -0.021832  0.222362  \n3   -0.148362  0.295559 -0.358739 -0.241791  0.213103 -0.361639 -0.177917  \n4   -0.217203  0.237352  0.033921  0.189920 -0.551513  0.109259 -0.318805  \n..        ...       ...       ...       ...       ...       ...       ...  \n123  0.278613  0.218825  1.000000 -0.225108 -0.049457  0.195657 -0.273943  \n124  0.413947 -0.233779 -0.225108  1.000000 -0.204440 -0.045870  0.515130  \n125 -0.131423 -0.175185 -0.049457 -0.204440  1.000000  0.001906  0.355830  \n126  0.085155  0.183157  0.195657 -0.045870  0.001906  1.000000  0.143927  \n127  0.203967 -0.040931 -0.273943  0.515130  0.355830  0.143927  1.000000  \n\n[128 rows x 128 columns]",
      "text/html": "<div>\n<style scoped>\n    .dataframe tbody tr th:only-of-type {\n        vertical-align: middle;\n    }\n\n    .dataframe tbody tr th {\n        vertical-align: top;\n    }\n\n    .dataframe thead th {\n        text-align: right;\n    }\n</style>\n<table border=\"1\" class=\"dataframe\">\n  <thead>\n    <tr style=\"text-align: right;\">\n      <th></th>\n      <th>0</th>\n      <th>1</th>\n      <th>2</th>\n      <th>3</th>\n      <th>4</th>\n      <th>5</th>\n      <th>6</th>\n      <th>7</th>\n      <th>8</th>\n      <th>9</th>\n      <th>...</th>\n      <th>118</th>\n      <th>119</th>\n      <th>120</th>\n      <th>121</th>\n      <th>122</th>\n      <th>123</th>\n      <th>124</th>\n      <th>125</th>\n      <th>126</th>\n      <th>127</th>\n    </tr>\n  </thead>\n  <tbody>\n    <tr>\n      <th>0</th>\n      <td>1.000000</td>\n      <td>-0.298556</td>\n      <td>0.099976</td>\n      <td>0.022622</td>\n      <td>0.147617</td>\n      <td>0.121319</td>\n      <td>-0.126459</td>\n      <td>0.467975</td>\n      <td>0.279398</td>\n      <td>-0.138266</td>\n      <td>...</td>\n      <td>-0.357315</td>\n      <td>-0.012444</td>\n      <td>0.125286</td>\n      <td>0.218881</td>\n      <td>-0.253469</td>\n      <td>0.034045</td>\n      <td>0.463972</td>\n      <td>-0.023602</td>\n      <td>-0.188079</td>\n      <td>0.311024</td>\n    </tr>\n    <tr>\n      <th>1</th>\n      <td>-0.298556</td>\n      <td>1.000000</td>\n      <td>-0.185263</td>\n      <td>0.432802</td>\n      <td>-0.292705</td>\n      <td>0.061192</td>\n      <td>-0.019780</td>\n      <td>0.016283</td>\n      <td>-0.213111</td>\n      <td>0.143765</td>\n      <td>...</td>\n      <td>-0.173967</td>\n      <td>0.247016</td>\n      <td>0.633308</td>\n      <td>0.059660</td>\n      <td>0.505386</td>\n      <td>0.016683</td>\n      <td>-0.548772</td>\n      <td>0.217301</td>\n      <td>0.429549</td>\n      <td>-0.073918</td>\n    </tr>\n    <tr>\n      <th>2</th>\n      <td>0.099976</td>\n      <td>-0.185263</td>\n      <td>1.000000</td>\n      <td>0.067625</td>\n      <td>0.362365</td>\n      <td>-0.028879</td>\n      <td>0.080121</td>\n      <td>0.012888</td>\n      <td>0.007419</td>\n      <td>0.235775</td>\n      <td>...</td>\n      <td>0.223319</td>\n      <td>-0.231223</td>\n      <td>-0.192837</td>\n      <td>0.184547</td>\n      <td>0.445270</td>\n      <td>-0.044062</td>\n      <td>0.567061</td>\n      <td>-0.184789</td>\n      <td>-0.021832</td>\n      <td>0.222362</td>\n    </tr>\n    <tr>\n      <th>3</th>\n      <td>0.022622</td>\n      <td>0.432802</td>\n      <td>0.067625</td>\n      <td>1.000000</td>\n      <td>0.099326</td>\n      <td>-0.144059</td>\n      <td>-0.112927</td>\n      <td>0.266907</td>\n      <td>-0.429601</td>\n      <td>-0.028823</td>\n      <td>...</td>\n      <td>-0.416790</td>\n      <td>-0.262267</td>\n      <td>0.586108</td>\n      <td>-0.148362</td>\n      <td>0.295559</td>\n      <td>-0.358739</td>\n      <td>-0.241791</td>\n      <td>0.213103</td>\n      <td>-0.361639</td>\n      <td>-0.177917</td>\n    </tr>\n    <tr>\n      <th>4</th>\n      <td>0.147617</td>\n      <td>-0.292705</td>\n      <td>0.362365</td>\n      <td>0.099326</td>\n      <td>1.000000</td>\n      <td>0.293487</td>\n      <td>-0.131999</td>\n      <td>-0.170449</td>\n      <td>0.577666</td>\n      <td>-0.063625</td>\n      <td>...</td>\n      <td>0.227436</td>\n      <td>-0.035686</td>\n      <td>0.014784</td>\n      <td>-0.217203</td>\n      <td>0.237352</td>\n      <td>0.033921</td>\n      <td>0.189920</td>\n      <td>-0.551513</td>\n      <td>0.109259</td>\n      <td>-0.318805</td>\n    </tr>\n    <tr>\n      <th>...</th>\n      <td>...</td>\n      <td>...</td>\n      <td>...</td>\n      <td>...</td>\n      <td>...</td>\n      <td>...</td>\n      <td>...</td>\n      <td>...</td>\n      <td>...</td>\n      <td>...</td>\n      <td>...</td>\n      <td>...</td>\n      <td>...</td>\n      <td>...</td>\n      <td>...</td>\n      <td>...</td>\n      <td>...</td>\n      <td>...</td>\n      <td>...</td>\n      <td>...</td>\n      <td>...</td>\n    </tr>\n    <tr>\n      <th>123</th>\n      <td>0.034045</td>\n      <td>0.016683</td>\n      <td>-0.044062</td>\n      <td>-0.358739</td>\n      <td>0.033921</td>\n      <td>0.005289</td>\n      <td>0.050475</td>\n      <td>-0.220242</td>\n      <td>0.284786</td>\n      <td>-0.384904</td>\n      <td>...</td>\n      <td>-0.014952</td>\n      <td>0.285386</td>\n      <td>-0.044914</td>\n      <td>0.278613</td>\n      <td>0.218825</td>\n      <td>1.000000</td>\n      <td>-0.225108</td>\n      <td>-0.049457</td>\n      <td>0.195657</td>\n      <td>-0.273943</td>\n    </tr>\n    <tr>\n      <th>124</th>\n      <td>0.463972</td>\n      <td>-0.548772</td>\n      <td>0.567061</td>\n      <td>-0.241791</td>\n      <td>0.189920</td>\n      <td>-0.258597</td>\n      <td>0.129884</td>\n      <td>0.046233</td>\n      <td>0.049035</td>\n      <td>0.115393</td>\n      <td>...</td>\n      <td>0.125422</td>\n      <td>-0.340187</td>\n      <td>-0.507953</td>\n      <td>0.413947</td>\n      <td>-0.233779</td>\n      <td>-0.225108</td>\n      <td>1.000000</td>\n      <td>-0.204440</td>\n      <td>-0.045870</td>\n      <td>0.515130</td>\n    </tr>\n    <tr>\n      <th>125</th>\n      <td>-0.023602</td>\n      <td>0.217301</td>\n      <td>-0.184789</td>\n      <td>0.213103</td>\n      <td>-0.551513</td>\n      <td>-0.268762</td>\n      <td>0.541192</td>\n      <td>0.318943</td>\n      <td>-0.447063</td>\n      <td>0.044297</td>\n      <td>...</td>\n      <td>-0.288177</td>\n      <td>0.100666</td>\n      <td>0.075201</td>\n      <td>-0.131423</td>\n      <td>-0.175185</td>\n      <td>-0.049457</td>\n      <td>-0.204440</td>\n      <td>1.000000</td>\n      <td>0.001906</td>\n      <td>0.355830</td>\n    </tr>\n    <tr>\n      <th>126</th>\n      <td>-0.188079</td>\n      <td>0.429549</td>\n      <td>-0.021832</td>\n      <td>-0.361639</td>\n      <td>0.109259</td>\n      <td>0.058695</td>\n      <td>0.386794</td>\n      <td>-0.197502</td>\n      <td>0.433910</td>\n      <td>0.145782</td>\n      <td>...</td>\n      <td>0.329098</td>\n      <td>0.320879</td>\n      <td>-0.103570</td>\n      <td>0.085155</td>\n      <td>0.183157</td>\n      <td>0.195657</td>\n      <td>-0.045870</td>\n      <td>0.001906</td>\n      <td>1.000000</td>\n      <td>0.143927</td>\n    </tr>\n    <tr>\n      <th>127</th>\n      <td>0.311024</td>\n      <td>-0.073918</td>\n      <td>0.222362</td>\n      <td>-0.177917</td>\n      <td>-0.318805</td>\n      <td>0.066725</td>\n      <td>0.368015</td>\n      <td>0.154835</td>\n      <td>0.012821</td>\n      <td>0.257718</td>\n      <td>...</td>\n      <td>0.127201</td>\n      <td>0.133552</td>\n      <td>-0.133041</td>\n      <td>0.203967</td>\n      <td>-0.040931</td>\n      <td>-0.273943</td>\n      <td>0.515130</td>\n      <td>0.355830</td>\n      <td>0.143927</td>\n      <td>1.000000</td>\n    </tr>\n  </tbody>\n</table>\n<p>128 rows × 128 columns</p>\n</div>"
     },
     "execution_count": 9,
     "metadata": {},
     "output_type": "execute_result"
    }
   ],
   "source": [
    "data.corr()"
   ]
  },
  {
   "cell_type": "markdown",
   "metadata": {},
   "source": [
    "### 2.4 Escalonando"
   ]
  },
  {
   "cell_type": "markdown",
   "metadata": {},
   "source": [
    "Para aplicação dos algoritmos escalona-se os dados afim de parametriza-los num certo intervalor (-1 a 1)"
   ]
  },
  {
   "cell_type": "code",
   "execution_count": 10,
   "metadata": {
    "pycharm": {
     "name": "#%%\n"
    }
   },
   "outputs": [],
   "source": [
    "scaler = preprocessing.StandardScaler()\n",
    "data_scaler = scaler.fit_transform(X = data)"
   ]
  },
  {
   "cell_type": "code",
   "execution_count": 11,
   "metadata": {
    "pycharm": {
     "name": "#%%\n"
    }
   },
   "outputs": [],
   "source": [
    "# data_scaler"
   ]
  },
  {
   "cell_type": "code",
   "execution_count": 12,
   "metadata": {
    "pycharm": {
     "name": "#%%\n"
    }
   },
   "outputs": [
    {
     "data": {
      "text/plain": "        0         1         2         3         4         5         6    \\\n0  0.385556 -0.165973 -0.061532  0.024084  1.626257  1.434379 -1.174373   \n1  0.463635 -0.042113  0.059368  0.075840  1.717307  1.434379 -1.057131   \n2  0.502675 -0.124687  0.019068 -0.053551  1.662677  1.411927 -1.135292   \n3  0.444115 -0.186617  0.039218  0.024084  1.608047  1.434379 -1.174373   \n4  0.405076 -0.104043  0.039218  0.024084  1.626257  1.501734 -1.076671   \n\n        7         8         9    ...       118       119       120       121  \\\n0  0.222800  1.441096  0.093981  ...  0.983934  1.505823  0.876413 -1.588549   \n1  0.161421  1.441096 -0.025321  ...  0.965536  1.577474  0.876413 -1.607574   \n2  0.140961  1.441096  0.034330  ...  0.965536  1.505823  0.876413 -1.607574   \n3  0.202340  1.460442  0.074098  ...  0.947138  1.523736  0.910643 -1.645623   \n4  0.263719  1.479787  0.054214  ...  0.983934  1.487910  0.876413 -1.607574   \n\n        122       123       124       125       126       127  \n0  0.147553  1.323391 -0.658782 -1.340827 -0.186851 -1.462501  \n1  0.224691  1.323391 -0.573106 -1.320491 -0.186851 -1.482771  \n2  0.147553  1.290578 -0.658782 -1.259481 -0.153857 -1.482771  \n3  0.147553  1.323391 -0.680201 -1.300154 -0.153857 -1.401691  \n4  0.224691  1.323391 -0.615944 -1.300154 -0.236343 -1.442231  \n\n[5 rows x 128 columns]",
      "text/html": "<div>\n<style scoped>\n    .dataframe tbody tr th:only-of-type {\n        vertical-align: middle;\n    }\n\n    .dataframe tbody tr th {\n        vertical-align: top;\n    }\n\n    .dataframe thead th {\n        text-align: right;\n    }\n</style>\n<table border=\"1\" class=\"dataframe\">\n  <thead>\n    <tr style=\"text-align: right;\">\n      <th></th>\n      <th>0</th>\n      <th>1</th>\n      <th>2</th>\n      <th>3</th>\n      <th>4</th>\n      <th>5</th>\n      <th>6</th>\n      <th>7</th>\n      <th>8</th>\n      <th>9</th>\n      <th>...</th>\n      <th>118</th>\n      <th>119</th>\n      <th>120</th>\n      <th>121</th>\n      <th>122</th>\n      <th>123</th>\n      <th>124</th>\n      <th>125</th>\n      <th>126</th>\n      <th>127</th>\n    </tr>\n  </thead>\n  <tbody>\n    <tr>\n      <th>0</th>\n      <td>0.385556</td>\n      <td>-0.165973</td>\n      <td>-0.061532</td>\n      <td>0.024084</td>\n      <td>1.626257</td>\n      <td>1.434379</td>\n      <td>-1.174373</td>\n      <td>0.222800</td>\n      <td>1.441096</td>\n      <td>0.093981</td>\n      <td>...</td>\n      <td>0.983934</td>\n      <td>1.505823</td>\n      <td>0.876413</td>\n      <td>-1.588549</td>\n      <td>0.147553</td>\n      <td>1.323391</td>\n      <td>-0.658782</td>\n      <td>-1.340827</td>\n      <td>-0.186851</td>\n      <td>-1.462501</td>\n    </tr>\n    <tr>\n      <th>1</th>\n      <td>0.463635</td>\n      <td>-0.042113</td>\n      <td>0.059368</td>\n      <td>0.075840</td>\n      <td>1.717307</td>\n      <td>1.434379</td>\n      <td>-1.057131</td>\n      <td>0.161421</td>\n      <td>1.441096</td>\n      <td>-0.025321</td>\n      <td>...</td>\n      <td>0.965536</td>\n      <td>1.577474</td>\n      <td>0.876413</td>\n      <td>-1.607574</td>\n      <td>0.224691</td>\n      <td>1.323391</td>\n      <td>-0.573106</td>\n      <td>-1.320491</td>\n      <td>-0.186851</td>\n      <td>-1.482771</td>\n    </tr>\n    <tr>\n      <th>2</th>\n      <td>0.502675</td>\n      <td>-0.124687</td>\n      <td>0.019068</td>\n      <td>-0.053551</td>\n      <td>1.662677</td>\n      <td>1.411927</td>\n      <td>-1.135292</td>\n      <td>0.140961</td>\n      <td>1.441096</td>\n      <td>0.034330</td>\n      <td>...</td>\n      <td>0.965536</td>\n      <td>1.505823</td>\n      <td>0.876413</td>\n      <td>-1.607574</td>\n      <td>0.147553</td>\n      <td>1.290578</td>\n      <td>-0.658782</td>\n      <td>-1.259481</td>\n      <td>-0.153857</td>\n      <td>-1.482771</td>\n    </tr>\n    <tr>\n      <th>3</th>\n      <td>0.444115</td>\n      <td>-0.186617</td>\n      <td>0.039218</td>\n      <td>0.024084</td>\n      <td>1.608047</td>\n      <td>1.434379</td>\n      <td>-1.174373</td>\n      <td>0.202340</td>\n      <td>1.460442</td>\n      <td>0.074098</td>\n      <td>...</td>\n      <td>0.947138</td>\n      <td>1.523736</td>\n      <td>0.910643</td>\n      <td>-1.645623</td>\n      <td>0.147553</td>\n      <td>1.323391</td>\n      <td>-0.680201</td>\n      <td>-1.300154</td>\n      <td>-0.153857</td>\n      <td>-1.401691</td>\n    </tr>\n    <tr>\n      <th>4</th>\n      <td>0.405076</td>\n      <td>-0.104043</td>\n      <td>0.039218</td>\n      <td>0.024084</td>\n      <td>1.626257</td>\n      <td>1.501734</td>\n      <td>-1.076671</td>\n      <td>0.263719</td>\n      <td>1.479787</td>\n      <td>0.054214</td>\n      <td>...</td>\n      <td>0.983934</td>\n      <td>1.487910</td>\n      <td>0.876413</td>\n      <td>-1.607574</td>\n      <td>0.224691</td>\n      <td>1.323391</td>\n      <td>-0.615944</td>\n      <td>-1.300154</td>\n      <td>-0.236343</td>\n      <td>-1.442231</td>\n    </tr>\n  </tbody>\n</table>\n<p>5 rows × 128 columns</p>\n</div>"
     },
     "execution_count": 12,
     "metadata": {},
     "output_type": "execute_result"
    }
   ],
   "source": [
    "data_scaled = pd.DataFrame(data_scaler)\n",
    "data_scaled.head()\n"
   ]
  },
  {
   "cell_type": "markdown",
   "metadata": {},
   "source": [
    "### 2.5 Plotando boxsplot"
   ]
  },
  {
   "cell_type": "markdown",
   "metadata": {},
   "source": [
    "Pelo boxsplot é possivel visualizar que há alguns outliers."
   ]
  },
  {
   "cell_type": "code",
   "execution_count": 13,
   "metadata": {
    "pycharm": {
     "name": "#%%\n"
    }
   },
   "outputs": [
    {
     "data": {
      "text/plain": "<matplotlib.axes._subplots.AxesSubplot at 0x7f8620f73208>"
     },
     "execution_count": 13,
     "metadata": {},
     "output_type": "execute_result"
    },
    {
     "data": {
      "text/plain": "<Figure size 2160x720 with 1 Axes>",
      "image/png": "[encoded data removed]"
     },
     "metadata": {
      "needs_background": "light"
     },
     "output_type": "display_data"
    }
   ],
   "source": [
    "data_scaled.plot(kind = 'box', figsize=(30,10), rot=90, )"
   ]
  },
  {
   "cell_type": "markdown",
   "metadata": {},
   "source": [
    "# 3. Clustering"
   ]
  },
  {
   "cell_type": "markdown",
   "metadata": {},
   "source": [
    "## 3.1 Dataset Completo"
   ]
  },
  {
   "cell_type": "markdown",
   "metadata": {},
   "source": [
    "### 3.1.1 K-Means"
   ]
  },
  {
   "cell_type": "code",
   "execution_count": 14,
   "metadata": {
    "pycharm": {
     "name": "#%%\n"
    }
   },
   "outputs": [],
   "source": [
    "data_kmeans = data_scaled.copy()"
   ]
  },
  {
   "cell_type": "code",
   "execution_count": 15,
   "metadata": {
    "pycharm": {
     "name": "#%%\n"
    }
   },
   "outputs": [
    {
     "data": {
      "text/plain": "KMeans(init='random', n_clusters=16)"
     },
     "execution_count": 15,
     "metadata": {},
     "output_type": "execute_result"
    }
   ],
   "source": [
    "kmeans = KMeans(n_clusters = 16, init = 'random')\n",
    "kmeans.fit(data_kmeans)"
   ]
  },
  {
   "cell_type": "code",
   "execution_count": 16,
   "metadata": {
    "pycharm": {
     "name": "#%%\n"
    }
   },
   "outputs": [
    {
     "data": {
      "text/plain": "<Figure size 432x288 with 1 Axes>",
      "image/png": "[encoded data removed]"
     },
     "metadata": {
      "needs_background": "light"
     },
     "output_type": "display_data"
    }
   ],
   "source": [
    "plt.scatter(data_scaler[:,0], data_scaler[:,31], s = 50, c = kmeans.labels_)\n",
    "plt.scatter(kmeans.cluster_centers_[:, 0], kmeans.cluster_centers_[:, 31], s = 100, c = 'red',label = 'Centroids')\n",
    "plt.title('Silhuetas e seus clusters')\n",
    "plt.xlabel('COMPACTNESS')\n",
    "plt.ylabel('RADIUS_RATIO')\n",
    "plt.legend()\n",
    "plt.show()\n"
   ]
  },
  {
   "cell_type": "markdown",
   "metadata": {},
   "source": [
    "### 3.1.2 Agglomerative Clustering"
   ]
  },
  {
   "cell_type": "code",
   "execution_count": 17,
   "metadata": {
    "pycharm": {
     "name": "#%%\n"
    }
   },
   "outputs": [],
   "source": [
    "data_agglo = data_scaled.copy()"
   ]
  },
  {
   "cell_type": "code",
   "execution_count": 18,
   "metadata": {
    "pycharm": {
     "name": "#%%\n"
    }
   },
   "outputs": [
    {
     "data": {
      "text/plain": "AgglomerativeClustering(n_clusters=16)"
     },
     "execution_count": 18,
     "metadata": {},
     "output_type": "execute_result"
    }
   ],
   "source": [
    "agglo = AgglomerativeClustering(n_clusters=16, linkage='ward')\n",
    "agglo.fit(data_agglo)"
   ]
  },
  {
   "cell_type": "code",
   "execution_count": 19,
   "metadata": {
    "pycharm": {
     "name": "#%%\n"
    }
   },
   "outputs": [
    {
     "data": {
      "text/plain": "<matplotlib.collections.PathCollection at 0x7f861d7fb128>"
     },
     "execution_count": 19,
     "metadata": {},
     "output_type": "execute_result"
    },
    {
     "data": {
      "text/plain": "<Figure size 432x288 with 1 Axes>",
      "image/png": "[encoded data removed]"
     },
     "metadata": {
      "needs_background": "light"
     },
     "output_type": "display_data"
    }
   ],
   "source": [
    "plt.scatter(data_scaler[:,0],data_scaler[:,31], c=agglo.labels_, cmap='rainbow')"
   ]
  },
  {
   "cell_type": "markdown",
   "metadata": {},
   "source": [
    "### 3.1.3 Spectral Clustering"
   ]
  },
  {
   "cell_type": "code",
   "execution_count": 20,
   "metadata": {
    "pycharm": {
     "name": "#%%\n"
    }
   },
   "outputs": [],
   "source": [
    "data_spectral = data_scaled.copy()"
   ]
  },
  {
   "cell_type": "code",
   "execution_count": 21,
   "metadata": {
    "pycharm": {
     "name": "#%%\n"
    }
   },
   "outputs": [
    {
     "data": {
      "text/plain": "SpectralClustering(n_clusters=16)"
     },
     "execution_count": 21,
     "metadata": {},
     "output_type": "execute_result"
    }
   ],
   "source": [
    "spectral = SpectralClustering(n_clusters=16)\n",
    "spectral.fit(data_spectral)\n"
   ]
  },
  {
   "cell_type": "code",
   "execution_count": 22,
   "metadata": {
    "pycharm": {
     "name": "#%%\n"
    }
   },
   "outputs": [
    {
     "data": {
      "text/plain": "<Figure size 432x288 with 1 Axes>",
      "image/png": "[encoded data removed]"
     },
     "metadata": {
      "needs_background": "light"
     },
     "output_type": "display_data"
    }
   ],
   "source": [
    "plt.scatter(data_scaler[:,0], data_scaler[:,31], c = spectral.labels_)\n",
    "plt.title('Silhuetas e seus clusters')\n",
    "plt.xlabel('COMPACTNESS')\n",
    "plt.ylabel('RADIUS_RATIO')\n",
    "plt.show()"
   ]
  },
  {
   "cell_type": "markdown",
   "metadata": {},
   "source": [
    "## 3.2 Dataset com atributos selecionados"
   ]
  },
  {
   "cell_type": "code",
   "execution_count": 23,
   "metadata": {
    "pycharm": {
     "name": "#%%\n"
    }
   },
   "outputs": [],
   "source": [
    "data_reduzida = pd.DataFrame(SelectKBest(chi2, k=100).fit_transform(data, label))\n",
    "data_reduzida.shape\n",
    "\n",
    "data_scaler2 = scaler.fit_transform(X = data_reduzida)"
   ]
  },
  {
   "cell_type": "code",
   "execution_count": 24,
   "metadata": {
    "pycharm": {
     "name": "#%%\n"
    }
   },
   "outputs": [],
   "source": [
    "# data_scaler2"
   ]
  },
  {
   "cell_type": "code",
   "execution_count": 25,
   "metadata": {
    "pycharm": {
     "name": "#%%\n"
    }
   },
   "outputs": [
    {
     "data": {
      "text/plain": "         0         1         2         3         4         5         6   \\\n0  0.385556 -0.061532  1.626257 -1.174373  0.222800  1.441096  0.093981   \n1  0.463635  0.059368  1.717307 -1.057131  0.161421  1.441096 -0.025321   \n2  0.502675  0.019068  1.662677 -1.135292  0.140961  1.441096  0.034330   \n3  0.444115  0.039218  1.608047 -1.174373  0.202340  1.460442  0.074098   \n4  0.405076  0.039218  1.626257 -1.076671  0.263719  1.479787  0.054214   \n\n         7         8         9   ...        90        91        92        93  \\\n0  0.659131  0.791048  1.101567  ...  0.983934  1.505823  0.876413 -1.588549   \n1  0.624542  0.827657  1.081989  ...  0.965536  1.577474  0.876413 -1.607574   \n2  0.676425  0.754439  1.101567  ...  0.965536  1.505823  0.876413 -1.607574   \n3  0.659131  0.809353  1.062412  ...  0.947138  1.523736  0.910643 -1.645623   \n4  0.693720  0.827657  1.042834  ...  0.983934  1.487910  0.876413 -1.607574   \n\n         94        95        96        97        98        99  \n0  0.147553  1.323391 -0.658782 -1.340827 -0.186851 -1.462501  \n1  0.224691  1.323391 -0.573106 -1.320491 -0.186851 -1.482771  \n2  0.147553  1.290578 -0.658782 -1.259481 -0.153857 -1.482771  \n3  0.147553  1.323391 -0.680201 -1.300154 -0.153857 -1.401691  \n4  0.224691  1.323391 -0.615944 -1.300154 -0.236343 -1.442231  \n\n[5 rows x 100 columns]",
      "text/html": "<div>\n<style scoped>\n    .dataframe tbody tr th:only-of-type {\n        vertical-align: middle;\n    }\n\n    .dataframe tbody tr th {\n        vertical-align: top;\n    }\n\n    .dataframe thead th {\n        text-align: right;\n    }\n</style>\n<table border=\"1\" class=\"dataframe\">\n  <thead>\n    <tr style=\"text-align: right;\">\n      <th></th>\n      <th>0</th>\n      <th>1</th>\n      <th>2</th>\n      <th>3</th>\n      <th>4</th>\n      <th>5</th>\n      <th>6</th>\n      <th>7</th>\n      <th>8</th>\n      <th>9</th>\n      <th>...</th>\n      <th>90</th>\n      <th>91</th>\n      <th>92</th>\n      <th>93</th>\n      <th>94</th>\n      <th>95</th>\n      <th>96</th>\n      <th>97</th>\n      <th>98</th>\n      <th>99</th>\n    </tr>\n  </thead>\n  <tbody>\n    <tr>\n      <th>0</th>\n      <td>0.385556</td>\n      <td>-0.061532</td>\n      <td>1.626257</td>\n      <td>-1.174373</td>\n      <td>0.222800</td>\n      <td>1.441096</td>\n      <td>0.093981</td>\n      <td>0.659131</td>\n      <td>0.791048</td>\n      <td>1.101567</td>\n      <td>...</td>\n      <td>0.983934</td>\n      <td>1.505823</td>\n      <td>0.876413</td>\n      <td>-1.588549</td>\n      <td>0.147553</td>\n      <td>1.323391</td>\n      <td>-0.658782</td>\n      <td>-1.340827</td>\n      <td>-0.186851</td>\n      <td>-1.462501</td>\n    </tr>\n    <tr>\n      <th>1</th>\n      <td>0.463635</td>\n      <td>0.059368</td>\n      <td>1.717307</td>\n      <td>-1.057131</td>\n      <td>0.161421</td>\n      <td>1.441096</td>\n      <td>-0.025321</td>\n      <td>0.624542</td>\n      <td>0.827657</td>\n      <td>1.081989</td>\n      <td>...</td>\n      <td>0.965536</td>\n      <td>1.577474</td>\n      <td>0.876413</td>\n      <td>-1.607574</td>\n      <td>0.224691</td>\n      <td>1.323391</td>\n      <td>-0.573106</td>\n      <td>-1.320491</td>\n      <td>-0.186851</td>\n      <td>-1.482771</td>\n    </tr>\n    <tr>\n      <th>2</th>\n      <td>0.502675</td>\n      <td>0.019068</td>\n      <td>1.662677</td>\n      <td>-1.135292</td>\n      <td>0.140961</td>\n      <td>1.441096</td>\n      <td>0.034330</td>\n      <td>0.676425</td>\n      <td>0.754439</td>\n      <td>1.101567</td>\n      <td>...</td>\n      <td>0.965536</td>\n      <td>1.505823</td>\n      <td>0.876413</td>\n      <td>-1.607574</td>\n      <td>0.147553</td>\n      <td>1.290578</td>\n      <td>-0.658782</td>\n      <td>-1.259481</td>\n      <td>-0.153857</td>\n      <td>-1.482771</td>\n    </tr>\n    <tr>\n      <th>3</th>\n      <td>0.444115</td>\n      <td>0.039218</td>\n      <td>1.608047</td>\n      <td>-1.174373</td>\n      <td>0.202340</td>\n      <td>1.460442</td>\n      <td>0.074098</td>\n      <td>0.659131</td>\n      <td>0.809353</td>\n      <td>1.062412</td>\n      <td>...</td>\n      <td>0.947138</td>\n      <td>1.523736</td>\n      <td>0.910643</td>\n      <td>-1.645623</td>\n      <td>0.147553</td>\n      <td>1.323391</td>\n      <td>-0.680201</td>\n      <td>-1.300154</td>\n      <td>-0.153857</td>\n      <td>-1.401691</td>\n    </tr>\n    <tr>\n      <th>4</th>\n      <td>0.405076</td>\n      <td>0.039218</td>\n      <td>1.626257</td>\n      <td>-1.076671</td>\n      <td>0.263719</td>\n      <td>1.479787</td>\n      <td>0.054214</td>\n      <td>0.693720</td>\n      <td>0.827657</td>\n      <td>1.042834</td>\n      <td>...</td>\n      <td>0.983934</td>\n      <td>1.487910</td>\n      <td>0.876413</td>\n      <td>-1.607574</td>\n      <td>0.224691</td>\n      <td>1.323391</td>\n      <td>-0.615944</td>\n      <td>-1.300154</td>\n      <td>-0.236343</td>\n      <td>-1.442231</td>\n    </tr>\n  </tbody>\n</table>\n<p>5 rows × 100 columns</p>\n</div>"
     },
     "execution_count": 25,
     "metadata": {},
     "output_type": "execute_result"
    }
   ],
   "source": [
    "data_scaled2 = pd.DataFrame(data_scaler2)\n",
    "data_scaled2.head()\n"
   ]
  },
  {
   "cell_type": "markdown",
   "metadata": {},
   "source": [
    "### 3.2.1 K-Means"
   ]
  },
  {
   "cell_type": "code",
   "execution_count": 26,
   "metadata": {
    "pycharm": {
     "name": "#%%\n"
    }
   },
   "outputs": [],
   "source": [
    "data_kmeans2 = data_scaled2.copy()"
   ]
  },
  {
   "cell_type": "code",
   "execution_count": 27,
   "metadata": {
    "pycharm": {
     "name": "#%%\n"
    }
   },
   "outputs": [
    {
     "data": {
      "text/plain": "KMeans(init='random', n_clusters=16)"
     },
     "execution_count": 27,
     "metadata": {},
     "output_type": "execute_result"
    }
   ],
   "source": [
    "kmeans2 = KMeans(n_clusters = 16, init = 'random')\n",
    "kmeans2.fit(data_kmeans2)"
   ]
  },
  {
   "cell_type": "code",
   "execution_count": 28,
   "metadata": {
    "pycharm": {
     "name": "#%%\n"
    }
   },
   "outputs": [
    {
     "data": {
      "text/plain": "<Figure size 432x288 with 1 Axes>",
      "image/png": "[encoded data removed]"
     },
     "metadata": {
      "needs_background": "light"
     },
     "output_type": "display_data"
    }
   ],
   "source": [
    "plt.scatter(data_scaler2[:,0], data_scaler2[:,3], s = 50, c = kmeans2.labels_)\n",
    "plt.scatter(kmeans2.cluster_centers_[:, 0], kmeans2.cluster_centers_[:, 3], s = 100, c = 'red',label = 'Centroids')\n",
    "plt.title('Silhuetas e seus clusters')\n",
    "plt.xlabel('COMPACTNESS')\n",
    "plt.ylabel('RADIUS_RATIO')\n",
    "plt.legend()\n",
    "plt.show()"
   ]
  },
  {
   "cell_type": "markdown",
   "metadata": {},
   "source": [
    "### 3.2.2 Agglomerative Clustering"
   ]
  },
  {
   "cell_type": "code",
   "execution_count": 29,
   "metadata": {
    "pycharm": {
     "name": "#%%\n"
    }
   },
   "outputs": [],
   "source": [
    "data_agglo2 = data_scaled2.copy()"
   ]
  },
  {
   "cell_type": "code",
   "execution_count": 30,
   "metadata": {
    "pycharm": {
     "name": "#%%\n"
    }
   },
   "outputs": [
    {
     "data": {
      "text/plain": "AgglomerativeClustering(n_clusters=16)"
     },
     "execution_count": 30,
     "metadata": {},
     "output_type": "execute_result"
    }
   ],
   "source": [
    "agglo2 = AgglomerativeClustering(n_clusters=16, linkage='ward')\n",
    "agglo2.fit(data_agglo2)"
   ]
  },
  {
   "cell_type": "code",
   "execution_count": 31,
   "metadata": {
    "pycharm": {
     "name": "#%%\n"
    }
   },
   "outputs": [
    {
     "data": {
      "text/plain": "<matplotlib.collections.PathCollection at 0x7f861dc3e4e0>"
     },
     "execution_count": 31,
     "metadata": {},
     "output_type": "execute_result"
    },
    {
     "data": {
      "text/plain": "<Figure size 432x288 with 1 Axes>",
      "image/png": "[encoded data removed]"
     },
     "metadata": {
      "needs_background": "light"
     },
     "output_type": "display_data"
    }
   ],
   "source": [
    "plt.scatter(data_scaler2[:,0],data_scaler2[:,3], c=agglo2.labels_, cmap='rainbow')"
   ]
  },
  {
   "cell_type": "markdown",
   "metadata": {},
   "source": [
    "### 3.2.3"
   ]
  },
  {
   "cell_type": "code",
   "execution_count": 32,
   "metadata": {
    "pycharm": {
     "name": "#%%\n"
    }
   },
   "outputs": [],
   "source": [
    "data_spectral2 = data_scaled2.copy()"
   ]
  },
  {
   "cell_type": "code",
   "execution_count": 33,
   "metadata": {
    "pycharm": {
     "name": "#%%\n"
    }
   },
   "outputs": [
    {
     "data": {
      "text/plain": "SpectralClustering(n_clusters=16)"
     },
     "execution_count": 33,
     "metadata": {},
     "output_type": "execute_result"
    }
   ],
   "source": [
    "spectral2 = SpectralClustering(n_clusters=16)\n",
    "spectral2.fit(data_spectral2)\n"
   ]
  },
  {
   "cell_type": "code",
   "execution_count": 34,
   "metadata": {
    "pycharm": {
     "name": "#%%\n"
    }
   },
   "outputs": [
    {
     "data": {
      "text/plain": "<Figure size 432x288 with 1 Axes>",
      "image/png": "[encoded data removed]"
     },
     "metadata": {
      "needs_background": "light"
     },
     "output_type": "display_data"
    }
   ],
   "source": [
    "plt.scatter(data_scaler2[:,0], data_scaler2[:,3], c = spectral2.labels_)\n",
    "plt.title('Silhuetas e seus clusters')\n",
    "plt.xlabel('COMPACTNESS')\n",
    "plt.ylabel('RADIUS_RATIO')\n",
    "plt.show()\n"
   ]
  },
  {
   "cell_type": "markdown",
   "metadata": {},
   "source": [
    "# 4. Avaliação"
   ]
  },
  {
   "cell_type": "code",
   "execution_count": 35,
   "metadata": {
    "pycharm": {
     "name": "#%%\n"
    }
   },
   "outputs": [],
   "source": [
    "lista = np.array(label[0].tolist())\n",
    "for idx, value in np.ndenumerate(lista):\n",
    "    lista[idx] = value - 1"
   ]
  },
  {
   "cell_type": "markdown",
   "metadata": {},
   "source": [
    "### 4.1.1 KMeans - Completo"
   ]
  },
  {
   "cell_type": "code",
   "execution_count": 36,
   "metadata": {
    "pycharm": {
     "name": "#%%\n"
    }
   },
   "outputs": [],
   "source": [
    "dataset = data.values\n",
    "\n",
    "class Data:\n",
    "    namostras = 0\n",
    "    ndim = 0\n",
    "    ncluster = 0\n",
    "\n",
    "newData = Data()\n",
    "\n",
    "newData.namostras = len(data)\n",
    "newData.ndim = len(data.columns)\n",
    "newData.ncluster = 16\n",
    "\n",
    "\n",
    "labels_true = lista\n",
    "\n",
    "\n",
    "predict = rotulos(kmeans.cluster_centers_, 16, dataset, newData)"
   ]
  },
  {
   "cell_type": "code",
   "execution_count": 37,
   "metadata": {
    "collapsed": false,
    "jupyter": {
     "outputs_hidden": false
    },
    "pycharm": {
     "name": "#%%\n"
    }
   },
   "outputs": [
    {
     "data": {
      "text/plain": "array([11., 11., 11., ...,  4.,  4.,  4.])"
     },
     "execution_count": 37,
     "metadata": {},
     "output_type": "execute_result"
    }
   ],
   "source": [
    "predict"
   ]
  },
  {
   "cell_type": "code",
   "execution_count": 38,
   "metadata": {
    "pycharm": {
     "name": "#%%\n"
    }
   },
   "outputs": [],
   "source": [
    "# labels_predict sao as labels ja organizadas para comparacao correta com os rotulos originais do conjunto de dados\n",
    "labels_predict = labelmatch(labels_true,predict,newData.ncluster)"
   ]
  },
  {
   "cell_type": "code",
   "execution_count": 39,
   "metadata": {
    "pycharm": {
     "name": "#%%\n"
    }
   },
   "outputs": [
    {
     "name": "stdout",
     "output_type": "stream",
     "text": [
      "KMeans - Completo\n",
      "\n",
      "Confusion Matrix: \n",
      " [[64  0  0  0  0  0  0  0  0  0  0  0  0  0  0  0]\n",
      " [ 0 64  0  0  0  0  0  0  0  0  0  0  0  0  0  0]\n",
      " [ 0  0 64  0  0  0  0  0  0  0  0  0  0  0  0  0]\n",
      " [ 0  0  0 64  0  0  0  0  0  0  0  0  0  0  0  0]\n",
      " [ 0  0  0  0 64  0  0  0  0  0  0  0  0  0  0  0]\n",
      " [ 0  0  0  0  0 64  0  0  0  0  0  0  0  0  0  0]\n",
      " [ 0  0  0  0  0  0 64  0  0  0  0  0  0  0  0  0]\n",
      " [ 0  0  0  0  0  0  0 64  0  0  0  0  0  0  0  0]\n",
      " [ 0  0  0  0  0  0  0  0 64  0  0  0  0  0  0  0]\n",
      " [ 0  0  0  0  0  0  0  0  0 64  0  0  0  0  0  0]\n",
      " [ 0  0  0  0  0  0  0  0  0  0 64  0  0  0  0  0]\n",
      " [ 0  0  0  0  0  0  0  0  0  0  0 64  0  0  0  0]\n",
      " [ 0  0  0  0  0  0  0  0  0  0  0  0 64  0  0  0]\n",
      " [ 0  0  0  0  0  0  0  0  0  0  0  0  0 64  0  0]\n",
      " [ 0  0  0  0  0  0  0  0  0  0  0  0  0  0 64  0]\n",
      " [ 0  0  0  0  0  0  0  0  0  0  0  0  0  0  0 64]]\n",
      "\n",
      "Calinski-Harabaz Score:  86413.56951870107\n",
      "\n",
      "Adjusted-Rand Score:  1.0\n",
      "\n",
      "Adjusted Mutual Info Score:  1.0\n",
      "\n",
      "F1 Score:  1.0\n",
      "\n",
      "Accuracy Score:  1.0\n",
      "\n",
      "Silhouette Score:  0.9746405449945033\n"
     ]
    }
   ],
   "source": [
    "# METRICAS PARA AVALIACAO DO CLUSTERING\n",
    "cft = confusion_matrix(labels_true, labels_predict)\n",
    "hbt = calinski_harabasz_score(dataset,labels_predict)\n",
    "arit = adjusted_rand_score(labels_true, labels_predict)\n",
    "amit = adjusted_mutual_info_score(labels_true, labels_predict)\n",
    "f1t = f1_score(labels_true, labels_predict, average='macro')\n",
    "accurracyt =accuracy_score(labels_true, labels_predict)\n",
    "silhouettet = silhouette_score(dataset, labels_predict)\n",
    "\n",
    "print('KMeans - Completo')\n",
    "print('\\nConfusion Matrix: \\n', cft)\n",
    "print('\\nCalinski-Harabaz Score: ',hbt)\n",
    "print('\\nAdjusted-Rand Score: ',arit)\n",
    "print('\\nAdjusted Mutual Info Score: ',amit)\n",
    "print('\\nF1 Score: ',f1t)\n",
    "print('\\nAccuracy Score: ',accurracyt)\n",
    "print('\\nSilhouette Score: ',silhouettet)\n",
    "\n",
    "result_kmeans_completo = np.array([\"KmeansCompleto\", hbt, arit, amit, f1t, accurracyt, silhouettet])"
   ]
  },
  {
   "cell_type": "markdown",
   "metadata": {},
   "source": [
    "### 4.1.2 KMeans - Selecionado"
   ]
  },
  {
   "cell_type": "code",
   "execution_count": 40,
   "metadata": {
    "pycharm": {
     "name": "#%%\n"
    }
   },
   "outputs": [],
   "source": [
    "dataset = data_reduzida.values\n",
    "\n",
    "class Data:\n",
    "    namostras = 0\n",
    "    ndim = 0\n",
    "    ncluster = 0\n",
    "\n",
    "newData = Data()\n",
    "\n",
    "newData.namostras = len(data_reduzida)\n",
    "newData.ndim = len(data_reduzida.columns)\n",
    "newData.ncluster = 16\n",
    "\n",
    "\n",
    "labels_true = lista"
   ]
  },
  {
   "cell_type": "code",
   "execution_count": 41,
   "metadata": {
    "pycharm": {
     "name": "#%%\n"
    }
   },
   "outputs": [
    {
     "name": "stdout",
     "output_type": "stream",
     "text": [
      "KMeans - Selecionado\n",
      "\n",
      "Confusion Matrix: \n",
      " [[64  0  0  0  0  0  0  0  0  0  0  0  0  0  0  0]\n",
      " [ 0 64  0  0  0  0  0  0  0  0  0  0  0  0  0  0]\n",
      " [ 0  0 64  0  0  0  0  0  0  0  0  0  0  0  0  0]\n",
      " [ 0  0  0 64  0  0  0  0  0  0  0  0  0  0  0  0]\n",
      " [64  0  0  0  0  0  0  0  0  0  0  0  0  0  0  0]\n",
      " [ 0  0  0  0  8 56  0  0  0  0  0  0  0  0  0  0]\n",
      " [ 0  0  0  0  0  0 64  0  0  0  0  0  0  0  0  0]\n",
      " [ 0  0 64  0  0  0  0  0  0  0  0  0  0  0  0  0]\n",
      " [ 0  0  0  0  0  0  0  0 64  0  0  0  0  0  0  0]\n",
      " [ 0  0  0  0  0  0  0  0  0 64  0  0  0  0  0  0]\n",
      " [ 0  0  0  0  0  0  0  0  0  0 64  0  0  0  0  0]\n",
      " [ 0  0  0  0  0  0  0  0  0  0  0 64  0  0  0  0]\n",
      " [ 0  0  0  0  0  0  0  0  0  0  0  0 64  0  0  0]\n",
      " [ 0  0  0  0  0  0  0  0  0  0  0  0  0 64  0  0]\n",
      " [ 0  0  0  0  0  0  0  0  0  0  0  0  0  0 64  0]\n",
      " [ 0  0  0  0  0  0  0  0  0  0  0  0  0  0  0 64]]\n",
      "\n",
      "Calinski-Harabaz Score:  554.3204348511993\n",
      "\n",
      "Adjusted-Rand Score:  0.8716755078204489\n",
      "\n",
      "Adjusted Mutual Info Score:  0.9619814752023069\n",
      "\n",
      "F1 Score:  0.8291666666666666\n",
      "\n",
      "Accuracy Score:  0.8671875\n",
      "\n",
      "Silhouette Score:  0.8033574906523815\n"
     ]
    }
   ],
   "source": [
    "# predict recebe os rotulos preditos pelo algoritmo de clustering\n",
    "predict = rotulos(kmeans2.cluster_centers_, 16, dataset, newData)\n",
    "\n",
    "# labels_predict sao as labels ja organizadas para comparacao correta com os rotulos originais do conjunto de dados\n",
    "labels_predict = labelmatch(labels_true,predict,newData.ncluster)\n",
    "\n",
    "# METRICAS PARA AVALIACAO DO CLUSTERING\n",
    "cft = confusion_matrix(labels_true, labels_predict)\n",
    "hbt = calinski_harabasz_score(dataset,labels_predict)\n",
    "arit = adjusted_rand_score(labels_true, labels_predict)\n",
    "amit = adjusted_mutual_info_score(labels_true, labels_predict)\n",
    "f1t = f1_score(labels_true, labels_predict, average='macro')\n",
    "accurracyt =accuracy_score(labels_true, labels_predict)\n",
    "silhouettet = silhouette_score(dataset, labels_predict)\n",
    "\n",
    "print('KMeans - Selecionado')\n",
    "print('\\nConfusion Matrix: \\n', cft)\n",
    "print('\\nCalinski-Harabaz Score: ',hbt)\n",
    "print('\\nAdjusted-Rand Score: ',arit)\n",
    "print('\\nAdjusted Mutual Info Score: ',amit)\n",
    "print('\\nF1 Score: ',f1t)\n",
    "print('\\nAccuracy Score: ',accurracyt)\n",
    "print('\\nSilhouette Score: ',silhouettet)\n",
    "\n",
    "result_kmeans_selecionado = np.array([\"KmeansSelecionado\", hbt, arit, amit, f1t, accurracyt, silhouettet])"
   ]
  },
  {
   "cell_type": "markdown",
   "metadata": {},
   "source": [
    "### 4.2.1 Agglomerative Clustering - Completo"
   ]
  },
  {
   "cell_type": "code",
   "execution_count": 42,
   "metadata": {
    "pycharm": {
     "name": "#%%\n"
    }
   },
   "outputs": [],
   "source": [
    "def centroide(data):\n",
    "    array2 = []\n",
    "    for valor in range(0,16):\n",
    "        df_aux = data.loc[data.Label == valor]\n",
    "        array = []\n",
    "        for coluna in df_aux:\n",
    "            array.append(df_aux[coluna].mean())\n",
    "\n",
    "        array2.append(array)\n",
    "\n",
    "    return np.array(array2)"
   ]
  },
  {
   "cell_type": "code",
   "execution_count": 43,
   "metadata": {
    "pycharm": {
     "name": "#%%\n"
    }
   },
   "outputs": [],
   "source": [
    "data_agglo['Label'] = agglo.labels_"
   ]
  },
  {
   "cell_type": "code",
   "execution_count": 44,
   "metadata": {
    "pycharm": {
     "name": "#%%\n"
    }
   },
   "outputs": [],
   "source": [
    "centroide_hieraquico = centroide(data_agglo)"
   ]
  },
  {
   "cell_type": "code",
   "execution_count": 45,
   "metadata": {
    "pycharm": {
     "name": "#%%\n"
    }
   },
   "outputs": [
    {
     "name": "stdout",
     "output_type": "stream",
     "text": [
      "Agglomerative Clustering - Completo\n",
      "\n",
      "Confusion Matrix: \n",
      " [[64  0  0  0  0  0  0  0  0  0  0  0  0  0  0  0]\n",
      " [ 0 64  0  0  0  0  0  0  0  0  0  0  0  0  0  0]\n",
      " [ 0  0 64  0  0  0  0  0  0  0  0  0  0  0  0  0]\n",
      " [ 0  0  0 64  0  0  0  0  0  0  0  0  0  0  0  0]\n",
      " [ 0  0  0  0 64  0  0  0  0  0  0  0  0  0  0  0]\n",
      " [ 0  0  0  0  0 64  0  0  0  0  0  0  0  0  0  0]\n",
      " [ 0  0  0  0  0  0 64  0  0  0  0  0  0  0  0  0]\n",
      " [ 0  0  0  0  0  0  0 64  0  0  0  0  0  0  0  0]\n",
      " [ 0  0  0  0  0  0  0  0 64  0  0  0  0  0  0  0]\n",
      " [ 0  0  0  0  0  0  0  0  0 64  0  0  0  0  0  0]\n",
      " [ 0  0  0  0  0  0  0  0  0  0 64  0  0  0  0  0]\n",
      " [ 0  0  0  0  0  0  0  0  0  0  0 64  0  0  0  0]\n",
      " [ 0  0  0  0  0  0  0  0  0  0  0  0 64  0  0  0]\n",
      " [ 0  0  0  0  0  0  0  0  0  0  0  0  0 64  0  0]\n",
      " [ 0  0  0  0  0  0  0  0  0  0  0  0  0  0 64  0]\n",
      " [ 0  0  0  0  0  0  0  0  0  0  0  0  0  0  0 64]]\n",
      "\n",
      "Calinski-Harabaz Score:  86413.56951870107\n",
      "\n",
      "Adjusted-Rand Score:  1.0\n",
      "\n",
      "Adjusted Mutual Info Score:  1.0\n",
      "\n",
      "F1 Score:  1.0\n",
      "\n",
      "Accuracy Score:  1.0\n",
      "\n",
      "Silhouette Score:  0.9746405449945033\n"
     ]
    }
   ],
   "source": [
    "dataset = data.values\n",
    "\n",
    "class Data:\n",
    "    namostras = 0\n",
    "    ndim = 0\n",
    "    ncluster = 0\n",
    "\n",
    "newData = Data()\n",
    "\n",
    "newData.namostras = len(data)\n",
    "newData.ndim = len(data.columns)\n",
    "newData.ncluster = 16\n",
    "\n",
    "\n",
    "labels_true = lista\n",
    "\n",
    "# predict recebe os rotulos preditos pelo algoritmo de clustering\n",
    "predict = rotulos(centroide_hieraquico, 16, dataset, newData)\n",
    "\n",
    "# labels_predict sao as labels ja organizadas para comparacao correta com os rotulos originais do conjunto de dados\n",
    "labels_predict = labelmatch(labels_true,predict,newData.ncluster)\n",
    "\n",
    "\n",
    "# METRICAS PARA AVALIACAO DO CLUSTERING\n",
    "cft = confusion_matrix(labels_true, labels_predict)\n",
    "hbt = calinski_harabasz_score(dataset,labels_predict)\n",
    "arit = adjusted_rand_score(labels_true, labels_predict)\n",
    "amit = adjusted_mutual_info_score(labels_true, labels_predict)\n",
    "f1t = f1_score(labels_true, labels_predict, average='macro')\n",
    "accurracyt =accuracy_score(labels_true, labels_predict)\n",
    "silhouettet = silhouette_score(dataset, labels_predict)\n",
    "\n",
    "print('Agglomerative Clustering - Completo')\n",
    "print('\\nConfusion Matrix: \\n', cft)\n",
    "print('\\nCalinski-Harabaz Score: ',hbt)\n",
    "print('\\nAdjusted-Rand Score: ',arit)\n",
    "print('\\nAdjusted Mutual Info Score: ',amit)\n",
    "print('\\nF1 Score: ',f1t)\n",
    "print('\\nAccuracy Score: ',accurracyt)\n",
    "print('\\nSilhouette Score: ',silhouettet)\n",
    "\n",
    "result_aglome_completo = np.array([\"AgglomerativeCompleto\", hbt, arit, amit, f1t, accurracyt, silhouettet])"
   ]
  },
  {
   "cell_type": "code",
   "execution_count": 46,
   "metadata": {
    "collapsed": false,
    "jupyter": {
     "outputs_hidden": false
    },
    "pycharm": {
     "name": "#%%\n"
    }
   },
   "outputs": [],
   "source": [
    "ae = compute_err(labels_true,predict,newData.ncluster)"
   ]
  },
  {
   "cell_type": "markdown",
   "metadata": {},
   "source": [
    "### 4.2.2  Agglomerative Clustering - Selecionado"
   ]
  },
  {
   "cell_type": "code",
   "execution_count": 47,
   "metadata": {
    "pycharm": {
     "name": "#%%\n"
    }
   },
   "outputs": [
    {
     "data": {
      "text/plain": "          0         1         2         3         4         5         6  \\\n0  0.385556 -0.061532  1.626257 -1.174373  0.222800  1.441096  0.093981   \n1  0.463635  0.059368  1.717307 -1.057131  0.161421  1.441096 -0.025321   \n2  0.502675  0.019068  1.662677 -1.135292  0.140961  1.441096  0.034330   \n3  0.444115  0.039218  1.608047 -1.174373  0.202340  1.460442  0.074098   \n4  0.405076  0.039218  1.626257 -1.076671  0.263719  1.479787  0.054214   \n\n          7         8         9  ...        91        92        93        94  \\\n0  0.659131  0.791048  1.101567  ...  1.505823  0.876413 -1.588549  0.147553   \n1  0.624542  0.827657  1.081989  ...  1.577474  0.876413 -1.607574  0.224691   \n2  0.676425  0.754439  1.101567  ...  1.505823  0.876413 -1.607574  0.147553   \n3  0.659131  0.809353  1.062412  ...  1.523736  0.910643 -1.645623  0.147553   \n4  0.693720  0.827657  1.042834  ...  1.487910  0.876413 -1.607574  0.224691   \n\n         95        96        97        98        99  Label  \n0  1.323391 -0.658782 -1.340827 -0.186851 -1.462501      1  \n1  1.323391 -0.573106 -1.320491 -0.186851 -1.482771      1  \n2  1.290578 -0.658782 -1.259481 -0.153857 -1.482771      1  \n3  1.323391 -0.680201 -1.300154 -0.153857 -1.401691      1  \n4  1.323391 -0.615944 -1.300154 -0.236343 -1.442231      1  \n\n[5 rows x 101 columns]",
      "text/html": "<div>\n<style scoped>\n    .dataframe tbody tr th:only-of-type {\n        vertical-align: middle;\n    }\n\n    .dataframe tbody tr th {\n        vertical-align: top;\n    }\n\n    .dataframe thead th {\n        text-align: right;\n    }\n</style>\n<table border=\"1\" class=\"dataframe\">\n  <thead>\n    <tr style=\"text-align: right;\">\n      <th></th>\n      <th>0</th>\n      <th>1</th>\n      <th>2</th>\n      <th>3</th>\n      <th>4</th>\n      <th>5</th>\n      <th>6</th>\n      <th>7</th>\n      <th>8</th>\n      <th>9</th>\n      <th>...</th>\n      <th>91</th>\n      <th>92</th>\n      <th>93</th>\n      <th>94</th>\n      <th>95</th>\n      <th>96</th>\n      <th>97</th>\n      <th>98</th>\n      <th>99</th>\n      <th>Label</th>\n    </tr>\n  </thead>\n  <tbody>\n    <tr>\n      <th>0</th>\n      <td>0.385556</td>\n      <td>-0.061532</td>\n      <td>1.626257</td>\n      <td>-1.174373</td>\n      <td>0.222800</td>\n      <td>1.441096</td>\n      <td>0.093981</td>\n      <td>0.659131</td>\n      <td>0.791048</td>\n      <td>1.101567</td>\n      <td>...</td>\n      <td>1.505823</td>\n      <td>0.876413</td>\n      <td>-1.588549</td>\n      <td>0.147553</td>\n      <td>1.323391</td>\n      <td>-0.658782</td>\n      <td>-1.340827</td>\n      <td>-0.186851</td>\n      <td>-1.462501</td>\n      <td>1</td>\n    </tr>\n    <tr>\n      <th>1</th>\n      <td>0.463635</td>\n      <td>0.059368</td>\n      <td>1.717307</td>\n      <td>-1.057131</td>\n      <td>0.161421</td>\n      <td>1.441096</td>\n      <td>-0.025321</td>\n      <td>0.624542</td>\n      <td>0.827657</td>\n      <td>1.081989</td>\n      <td>...</td>\n      <td>1.577474</td>\n      <td>0.876413</td>\n      <td>-1.607574</td>\n      <td>0.224691</td>\n      <td>1.323391</td>\n      <td>-0.573106</td>\n      <td>-1.320491</td>\n      <td>-0.186851</td>\n      <td>-1.482771</td>\n      <td>1</td>\n    </tr>\n    <tr>\n      <th>2</th>\n      <td>0.502675</td>\n      <td>0.019068</td>\n      <td>1.662677</td>\n      <td>-1.135292</td>\n      <td>0.140961</td>\n      <td>1.441096</td>\n      <td>0.034330</td>\n      <td>0.676425</td>\n      <td>0.754439</td>\n      <td>1.101567</td>\n      <td>...</td>\n      <td>1.505823</td>\n      <td>0.876413</td>\n      <td>-1.607574</td>\n      <td>0.147553</td>\n      <td>1.290578</td>\n      <td>-0.658782</td>\n      <td>-1.259481</td>\n      <td>-0.153857</td>\n      <td>-1.482771</td>\n      <td>1</td>\n    </tr>\n    <tr>\n      <th>3</th>\n      <td>0.444115</td>\n      <td>0.039218</td>\n      <td>1.608047</td>\n      <td>-1.174373</td>\n      <td>0.202340</td>\n      <td>1.460442</td>\n      <td>0.074098</td>\n      <td>0.659131</td>\n      <td>0.809353</td>\n      <td>1.062412</td>\n      <td>...</td>\n      <td>1.523736</td>\n      <td>0.910643</td>\n      <td>-1.645623</td>\n      <td>0.147553</td>\n      <td>1.323391</td>\n      <td>-0.680201</td>\n      <td>-1.300154</td>\n      <td>-0.153857</td>\n      <td>-1.401691</td>\n      <td>1</td>\n    </tr>\n    <tr>\n      <th>4</th>\n      <td>0.405076</td>\n      <td>0.039218</td>\n      <td>1.626257</td>\n      <td>-1.076671</td>\n      <td>0.263719</td>\n      <td>1.479787</td>\n      <td>0.054214</td>\n      <td>0.693720</td>\n      <td>0.827657</td>\n      <td>1.042834</td>\n      <td>...</td>\n      <td>1.487910</td>\n      <td>0.876413</td>\n      <td>-1.607574</td>\n      <td>0.224691</td>\n      <td>1.323391</td>\n      <td>-0.615944</td>\n      <td>-1.300154</td>\n      <td>-0.236343</td>\n      <td>-1.442231</td>\n      <td>1</td>\n    </tr>\n  </tbody>\n</table>\n<p>5 rows × 101 columns</p>\n</div>"
     },
     "execution_count": 47,
     "metadata": {},
     "output_type": "execute_result"
    }
   ],
   "source": [
    "data_agglo2['Label'] = agglo2.labels_\n",
    "data_agglo2.head()"
   ]
  },
  {
   "cell_type": "code",
   "execution_count": 48,
   "metadata": {
    "pycharm": {
     "name": "#%%\n"
    }
   },
   "outputs": [],
   "source": [
    "centroide_hieraquico2 = centroide(data_agglo2)"
   ]
  },
  {
   "cell_type": "code",
   "execution_count": 49,
   "metadata": {
    "pycharm": {
     "name": "#%%\n"
    }
   },
   "outputs": [
    {
     "name": "stdout",
     "output_type": "stream",
     "text": [
      "Agglomerative Clustering - Selecionado\n",
      "\n",
      "Confusion Matrix: \n",
      " [[64  0  0  0  0  0  0  0  0  0  0  0  0  0  0  0]\n",
      " [ 0 64  0  0  0  0  0  0  0  0  0  0  0  0  0  0]\n",
      " [ 0  0 64  0  0  0  0  0  0  0  0  0  0  0  0  0]\n",
      " [ 0  0  0 64  0  0  0  0  0  0  0  0  0  0  0  0]\n",
      " [ 0  0  0  0 64  0  0  0  0  0  0  0  0  0  0  0]\n",
      " [ 0  0  0  0  0 64  0  0  0  0  0  0  0  0  0  0]\n",
      " [ 0  0  0  0  0  0 64  0  0  0  0  0  0  0  0  0]\n",
      " [ 0  0  0  0  0  0  0 64  0  0  0  0  0  0  0  0]\n",
      " [ 0  0  0  0  0  0  0  0 64  0  0  0  0  0  0  0]\n",
      " [ 0  0  0  0  0  0  0  0  0 64  0  0  0  0  0  0]\n",
      " [ 0  0  0  0  0  0  0  0  0  0 64  0  0  0  0  0]\n",
      " [ 0  0  0  0  0  0  0  0  0  0  0 64  0  0  0  0]\n",
      " [ 0  0  0  0  0  0  0  0  0  0  0  0 64  0  0  0]\n",
      " [ 0  0  0  0  0  0  0  0  0  0  0  0  0 64  0  0]\n",
      " [ 0  0  0  0  0  0  0  0  0  0  0  0  0  0 64  0]\n",
      " [ 0  0  0  0  0  0  0  0  0  0  0  0  0  0  0 64]]\n",
      "\n",
      "Calinski-Harabaz Score:  94093.58820563472\n",
      "\n",
      "Adjusted-Rand Score:  1.0\n",
      "\n",
      "Adjusted Mutual Info Score:  1.0\n",
      "\n",
      "F1 Score:  1.0\n",
      "\n",
      "Accuracy Score:  1.0\n",
      "\n",
      "Silhouette Score:  0.9752837913952893\n"
     ]
    }
   ],
   "source": [
    "dataset = data_reduzida.values\n",
    "\n",
    "class Data:\n",
    "    namostras = 0\n",
    "    ndim = 0\n",
    "    ncluster = 0\n",
    "\n",
    "newData = Data()\n",
    "\n",
    "newData.namostras = len(data_reduzida)\n",
    "newData.ndim = len(data_reduzida.columns)\n",
    "newData.ncluster = 16\n",
    "\n",
    "\n",
    "labels_true = lista\n",
    "\n",
    "# predict recebe os rotulos preditos pelo algoritmo de clustering\n",
    "predict = rotulos(centroide_hieraquico2, 16, dataset, newData)\n",
    "\n",
    "# labels_predict sao as labels ja organizadas para comparacao correta com os rotulos originais do conjunto de dados\n",
    "labels_predict = labelmatch(labels_true,predict,newData.ncluster)\n",
    "\n",
    "\n",
    "# METRICAS PARA AVALIACAO DO CLUSTERING\n",
    "cft = confusion_matrix(labels_true, labels_predict)\n",
    "hbt = calinski_harabasz_score(dataset,labels_predict)\n",
    "arit = adjusted_rand_score(labels_true, labels_predict)\n",
    "amit = adjusted_mutual_info_score(labels_true, labels_predict)\n",
    "f1t = f1_score(labels_true, labels_predict, average='macro')\n",
    "accurracyt =accuracy_score(labels_true, labels_predict)\n",
    "silhouettet = silhouette_score(dataset, labels_predict)\n",
    "\n",
    "print('Agglomerative Clustering - Selecionado')\n",
    "print('\\nConfusion Matrix: \\n', cft)\n",
    "print('\\nCalinski-Harabaz Score: ',hbt)\n",
    "print('\\nAdjusted-Rand Score: ',arit)\n",
    "print('\\nAdjusted Mutual Info Score: ',amit)\n",
    "print('\\nF1 Score: ',f1t)\n",
    "print('\\nAccuracy Score: ',accurracyt)\n",
    "print('\\nSilhouette Score: ',silhouettet)\n",
    "\n",
    "result_aglome_selecionado = np.array([\"AgglometariveSelecionado\", hbt, arit, amit, f1t, accurracyt, silhouettet])"
   ]
  },
  {
   "cell_type": "markdown",
   "metadata": {},
   "source": [
    "### 4.3.1 Spectral Clustering - Completo"
   ]
  },
  {
   "cell_type": "code",
   "execution_count": 50,
   "metadata": {
    "pycharm": {
     "name": "#%%\n"
    }
   },
   "outputs": [
    {
     "data": {
      "text/plain": "          0         1         2         3         4         5         6  \\\n0  0.385556 -0.165973 -0.061532  0.024084  1.626257  1.434379 -1.174373   \n1  0.463635 -0.042113  0.059368  0.075840  1.717307  1.434379 -1.057131   \n2  0.502675 -0.124687  0.019068 -0.053551  1.662677  1.411927 -1.135292   \n3  0.444115 -0.186617  0.039218  0.024084  1.608047  1.434379 -1.174373   \n4  0.405076 -0.104043  0.039218  0.024084  1.626257  1.501734 -1.076671   \n\n          7         8         9  ...       119       120       121       122  \\\n0  0.222800  1.441096  0.093981  ...  1.505823  0.876413 -1.588549  0.147553   \n1  0.161421  1.441096 -0.025321  ...  1.577474  0.876413 -1.607574  0.224691   \n2  0.140961  1.441096  0.034330  ...  1.505823  0.876413 -1.607574  0.147553   \n3  0.202340  1.460442  0.074098  ...  1.523736  0.910643 -1.645623  0.147553   \n4  0.263719  1.479787  0.054214  ...  1.487910  0.876413 -1.607574  0.224691   \n\n        123       124       125       126       127  Label  \n0  1.323391 -0.658782 -1.340827 -0.186851 -1.462501      7  \n1  1.323391 -0.573106 -1.320491 -0.186851 -1.482771      7  \n2  1.290578 -0.658782 -1.259481 -0.153857 -1.482771      7  \n3  1.323391 -0.680201 -1.300154 -0.153857 -1.401691      7  \n4  1.323391 -0.615944 -1.300154 -0.236343 -1.442231      7  \n\n[5 rows x 129 columns]",
      "text/html": "<div>\n<style scoped>\n    .dataframe tbody tr th:only-of-type {\n        vertical-align: middle;\n    }\n\n    .dataframe tbody tr th {\n        vertical-align: top;\n    }\n\n    .dataframe thead th {\n        text-align: right;\n    }\n</style>\n<table border=\"1\" class=\"dataframe\">\n  <thead>\n    <tr style=\"text-align: right;\">\n      <th></th>\n      <th>0</th>\n      <th>1</th>\n      <th>2</th>\n      <th>3</th>\n      <th>4</th>\n      <th>5</th>\n      <th>6</th>\n      <th>7</th>\n      <th>8</th>\n      <th>9</th>\n      <th>...</th>\n      <th>119</th>\n      <th>120</th>\n      <th>121</th>\n      <th>122</th>\n      <th>123</th>\n      <th>124</th>\n      <th>125</th>\n      <th>126</th>\n      <th>127</th>\n      <th>Label</th>\n    </tr>\n  </thead>\n  <tbody>\n    <tr>\n      <th>0</th>\n      <td>0.385556</td>\n      <td>-0.165973</td>\n      <td>-0.061532</td>\n      <td>0.024084</td>\n      <td>1.626257</td>\n      <td>1.434379</td>\n      <td>-1.174373</td>\n      <td>0.222800</td>\n      <td>1.441096</td>\n      <td>0.093981</td>\n      <td>...</td>\n      <td>1.505823</td>\n      <td>0.876413</td>\n      <td>-1.588549</td>\n      <td>0.147553</td>\n      <td>1.323391</td>\n      <td>-0.658782</td>\n      <td>-1.340827</td>\n      <td>-0.186851</td>\n      <td>-1.462501</td>\n      <td>7</td>\n    </tr>\n    <tr>\n      <th>1</th>\n      <td>0.463635</td>\n      <td>-0.042113</td>\n      <td>0.059368</td>\n      <td>0.075840</td>\n      <td>1.717307</td>\n      <td>1.434379</td>\n      <td>-1.057131</td>\n      <td>0.161421</td>\n      <td>1.441096</td>\n      <td>-0.025321</td>\n      <td>...</td>\n      <td>1.577474</td>\n      <td>0.876413</td>\n      <td>-1.607574</td>\n      <td>0.224691</td>\n      <td>1.323391</td>\n      <td>-0.573106</td>\n      <td>-1.320491</td>\n      <td>-0.186851</td>\n      <td>-1.482771</td>\n      <td>7</td>\n    </tr>\n    <tr>\n      <th>2</th>\n      <td>0.502675</td>\n      <td>-0.124687</td>\n      <td>0.019068</td>\n      <td>-0.053551</td>\n      <td>1.662677</td>\n      <td>1.411927</td>\n      <td>-1.135292</td>\n      <td>0.140961</td>\n      <td>1.441096</td>\n      <td>0.034330</td>\n      <td>...</td>\n      <td>1.505823</td>\n      <td>0.876413</td>\n      <td>-1.607574</td>\n      <td>0.147553</td>\n      <td>1.290578</td>\n      <td>-0.658782</td>\n      <td>-1.259481</td>\n      <td>-0.153857</td>\n      <td>-1.482771</td>\n      <td>7</td>\n    </tr>\n    <tr>\n      <th>3</th>\n      <td>0.444115</td>\n      <td>-0.186617</td>\n      <td>0.039218</td>\n      <td>0.024084</td>\n      <td>1.608047</td>\n      <td>1.434379</td>\n      <td>-1.174373</td>\n      <td>0.202340</td>\n      <td>1.460442</td>\n      <td>0.074098</td>\n      <td>...</td>\n      <td>1.523736</td>\n      <td>0.910643</td>\n      <td>-1.645623</td>\n      <td>0.147553</td>\n      <td>1.323391</td>\n      <td>-0.680201</td>\n      <td>-1.300154</td>\n      <td>-0.153857</td>\n      <td>-1.401691</td>\n      <td>7</td>\n    </tr>\n    <tr>\n      <th>4</th>\n      <td>0.405076</td>\n      <td>-0.104043</td>\n      <td>0.039218</td>\n      <td>0.024084</td>\n      <td>1.626257</td>\n      <td>1.501734</td>\n      <td>-1.076671</td>\n      <td>0.263719</td>\n      <td>1.479787</td>\n      <td>0.054214</td>\n      <td>...</td>\n      <td>1.487910</td>\n      <td>0.876413</td>\n      <td>-1.607574</td>\n      <td>0.224691</td>\n      <td>1.323391</td>\n      <td>-0.615944</td>\n      <td>-1.300154</td>\n      <td>-0.236343</td>\n      <td>-1.442231</td>\n      <td>7</td>\n    </tr>\n  </tbody>\n</table>\n<p>5 rows × 129 columns</p>\n</div>"
     },
     "execution_count": 50,
     "metadata": {},
     "output_type": "execute_result"
    }
   ],
   "source": [
    "data_spectral['Label'] = spectral.labels_\n",
    "data_spectral.head()"
   ]
  },
  {
   "cell_type": "code",
   "execution_count": 51,
   "metadata": {
    "pycharm": {
     "name": "#%%\n"
    }
   },
   "outputs": [],
   "source": [
    "centroide_spectral = centroide(data_spectral)"
   ]
  },
  {
   "cell_type": "code",
   "execution_count": 52,
   "metadata": {
    "pycharm": {
     "name": "#%%\n"
    }
   },
   "outputs": [
    {
     "name": "stdout",
     "output_type": "stream",
     "text": [
      "Spectral Clustering - Completo\n",
      "\n",
      "Confusion Matrix: \n",
      " [[ 0 64  0  0  0  0  0  0  0  0  0  0  0  0  0  0]\n",
      " [ 0 64  0  0  0  0  0  0  0  0  0  0  0  0  0  0]\n",
      " [ 0  0 64  0  0  0  0  0  0  0  0  0  0  0  0  0]\n",
      " [ 0  0  0  0  0  0  0  0  0  0  0 64  0  0  0  0]\n",
      " [ 0 64  0  0  0  0  0  0  0  0  0  0  0  0  0  0]\n",
      " [ 0  0  0  0  0 64  0  0  0  0  0  0  0  0  0  0]\n",
      " [ 0  0  0  0  0  0 64  0  0  0  0  0  0  0  0  0]\n",
      " [ 0  0  0  0  0  0  0 64  0  0  0  0  0  0  0  0]\n",
      " [ 0  0  0  0  0  0  0  0 64  0  0  0  0  0  0  0]\n",
      " [ 0  0  0  0  0  0  0  0  0 64  0  0  0  0  0  0]\n",
      " [ 0  0  0  0  0  0  0  0  0  0 64  0  0  0  0  0]\n",
      " [ 0  0  0  0  0  0  0  0  0  0  0 64  0  0  0  0]\n",
      " [ 0  0  0  0  0  0  0  0  0  0  0  0 64  0  0  0]\n",
      " [ 0  0  0  0  0  0  0  0  0  0  0  0  0 64  0  0]\n",
      " [ 0  0  0  0  0  0  0  0  0  0  0  0  0  0 64  0]\n",
      " [ 0 64  0  0  0  0  0  0  0  0  0  0  0  0  0  0]]\n",
      "\n",
      "Calinski-Harabaz Score:  260.77693262215905\n",
      "\n",
      "Adjusted-Rand Score:  0.6653581943081452\n",
      "\n",
      "Adjusted Mutual Info Score:  0.9123177188009717\n",
      "\n",
      "F1 Score:  0.6916666666666667\n",
      "\n",
      "Accuracy Score:  0.75\n",
      "\n",
      "Silhouette Score:  0.7110878949026685\n"
     ]
    }
   ],
   "source": [
    "dataset = data.values\n",
    "\n",
    "class Data:\n",
    "    namostras = 0\n",
    "    ndim = 0\n",
    "    ncluster = 0\n",
    "\n",
    "newData = Data()\n",
    "\n",
    "newData.namostras = len(data)\n",
    "newData.ndim = len(data.columns)\n",
    "newData.ncluster = 16\n",
    "\n",
    "\n",
    "labels_true = lista\n",
    "\n",
    "# predict recebe os rotulos preditos pelo algoritmo de clustering\n",
    "predict = rotulos(centroide_spectral, 16, dataset, newData)\n",
    "\n",
    "# labels_predict sao as labels ja organizadas para comparacao correta com os rotulos originais do conjunto de dados\n",
    "labels_predict = labelmatch(labels_true,predict,newData.ncluster)\n",
    "\n",
    "\n",
    "# METRICAS PARA AVALIACAO DO CLUSTERING\n",
    "cft = confusion_matrix(labels_true, labels_predict)\n",
    "hbt = calinski_harabasz_score(dataset,labels_predict)\n",
    "arit = adjusted_rand_score(labels_true, labels_predict)\n",
    "amit = adjusted_mutual_info_score(labels_true, labels_predict)\n",
    "f1t = f1_score(labels_true, labels_predict, average='macro')\n",
    "accurracyt =accuracy_score(labels_true, labels_predict)\n",
    "silhouettet = silhouette_score(dataset, labels_predict)\n",
    "\n",
    "print('Spectral Clustering - Completo')\n",
    "print('\\nConfusion Matrix: \\n', cft)\n",
    "print('\\nCalinski-Harabaz Score: ',hbt)\n",
    "print('\\nAdjusted-Rand Score: ',arit)\n",
    "print('\\nAdjusted Mutual Info Score: ',amit)\n",
    "print('\\nF1 Score: ',f1t)\n",
    "print('\\nAccuracy Score: ',accurracyt)\n",
    "print('\\nSilhouette Score: ',silhouettet)\n",
    "\n",
    "result_spectral_completo = np.array([\"SpectralCompleto\", hbt, arit, amit, f1t, accurracyt, silhouettet])"
   ]
  },
  {
   "cell_type": "markdown",
   "metadata": {},
   "source": [
    "### 4.3.2  Spectral Clustering - Selecionado"
   ]
  },
  {
   "cell_type": "code",
   "execution_count": 53,
   "metadata": {
    "pycharm": {
     "name": "#%%\n"
    }
   },
   "outputs": [
    {
     "data": {
      "text/plain": "          0         1         2         3         4         5         6  \\\n0  0.385556 -0.061532  1.626257 -1.174373  0.222800  1.441096  0.093981   \n1  0.463635  0.059368  1.717307 -1.057131  0.161421  1.441096 -0.025321   \n2  0.502675  0.019068  1.662677 -1.135292  0.140961  1.441096  0.034330   \n3  0.444115  0.039218  1.608047 -1.174373  0.202340  1.460442  0.074098   \n4  0.405076  0.039218  1.626257 -1.076671  0.263719  1.479787  0.054214   \n\n          7         8         9  ...        91        92        93        94  \\\n0  0.659131  0.791048  1.101567  ...  1.505823  0.876413 -1.588549  0.147553   \n1  0.624542  0.827657  1.081989  ...  1.577474  0.876413 -1.607574  0.224691   \n2  0.676425  0.754439  1.101567  ...  1.505823  0.876413 -1.607574  0.147553   \n3  0.659131  0.809353  1.062412  ...  1.523736  0.910643 -1.645623  0.147553   \n4  0.693720  0.827657  1.042834  ...  1.487910  0.876413 -1.607574  0.224691   \n\n         95        96        97        98        99  Label  \n0  1.323391 -0.658782 -1.340827 -0.186851 -1.462501      6  \n1  1.323391 -0.573106 -1.320491 -0.186851 -1.482771      6  \n2  1.290578 -0.658782 -1.259481 -0.153857 -1.482771      6  \n3  1.323391 -0.680201 -1.300154 -0.153857 -1.401691      6  \n4  1.323391 -0.615944 -1.300154 -0.236343 -1.442231      6  \n\n[5 rows x 101 columns]",
      "text/html": "<div>\n<style scoped>\n    .dataframe tbody tr th:only-of-type {\n        vertical-align: middle;\n    }\n\n    .dataframe tbody tr th {\n        vertical-align: top;\n    }\n\n    .dataframe thead th {\n        text-align: right;\n    }\n</style>\n<table border=\"1\" class=\"dataframe\">\n  <thead>\n    <tr style=\"text-align: right;\">\n      <th></th>\n      <th>0</th>\n      <th>1</th>\n      <th>2</th>\n      <th>3</th>\n      <th>4</th>\n      <th>5</th>\n      <th>6</th>\n      <th>7</th>\n      <th>8</th>\n      <th>9</th>\n      <th>...</th>\n      <th>91</th>\n      <th>92</th>\n      <th>93</th>\n      <th>94</th>\n      <th>95</th>\n      <th>96</th>\n      <th>97</th>\n      <th>98</th>\n      <th>99</th>\n      <th>Label</th>\n    </tr>\n  </thead>\n  <tbody>\n    <tr>\n      <th>0</th>\n      <td>0.385556</td>\n      <td>-0.061532</td>\n      <td>1.626257</td>\n      <td>-1.174373</td>\n      <td>0.222800</td>\n      <td>1.441096</td>\n      <td>0.093981</td>\n      <td>0.659131</td>\n      <td>0.791048</td>\n      <td>1.101567</td>\n      <td>...</td>\n      <td>1.505823</td>\n      <td>0.876413</td>\n      <td>-1.588549</td>\n      <td>0.147553</td>\n      <td>1.323391</td>\n      <td>-0.658782</td>\n      <td>-1.340827</td>\n      <td>-0.186851</td>\n      <td>-1.462501</td>\n      <td>6</td>\n    </tr>\n    <tr>\n      <th>1</th>\n      <td>0.463635</td>\n      <td>0.059368</td>\n      <td>1.717307</td>\n      <td>-1.057131</td>\n      <td>0.161421</td>\n      <td>1.441096</td>\n      <td>-0.025321</td>\n      <td>0.624542</td>\n      <td>0.827657</td>\n      <td>1.081989</td>\n      <td>...</td>\n      <td>1.577474</td>\n      <td>0.876413</td>\n      <td>-1.607574</td>\n      <td>0.224691</td>\n      <td>1.323391</td>\n      <td>-0.573106</td>\n      <td>-1.320491</td>\n      <td>-0.186851</td>\n      <td>-1.482771</td>\n      <td>6</td>\n    </tr>\n    <tr>\n      <th>2</th>\n      <td>0.502675</td>\n      <td>0.019068</td>\n      <td>1.662677</td>\n      <td>-1.135292</td>\n      <td>0.140961</td>\n      <td>1.441096</td>\n      <td>0.034330</td>\n      <td>0.676425</td>\n      <td>0.754439</td>\n      <td>1.101567</td>\n      <td>...</td>\n      <td>1.505823</td>\n      <td>0.876413</td>\n      <td>-1.607574</td>\n      <td>0.147553</td>\n      <td>1.290578</td>\n      <td>-0.658782</td>\n      <td>-1.259481</td>\n      <td>-0.153857</td>\n      <td>-1.482771</td>\n      <td>6</td>\n    </tr>\n    <tr>\n      <th>3</th>\n      <td>0.444115</td>\n      <td>0.039218</td>\n      <td>1.608047</td>\n      <td>-1.174373</td>\n      <td>0.202340</td>\n      <td>1.460442</td>\n      <td>0.074098</td>\n      <td>0.659131</td>\n      <td>0.809353</td>\n      <td>1.062412</td>\n      <td>...</td>\n      <td>1.523736</td>\n      <td>0.910643</td>\n      <td>-1.645623</td>\n      <td>0.147553</td>\n      <td>1.323391</td>\n      <td>-0.680201</td>\n      <td>-1.300154</td>\n      <td>-0.153857</td>\n      <td>-1.401691</td>\n      <td>6</td>\n    </tr>\n    <tr>\n      <th>4</th>\n      <td>0.405076</td>\n      <td>0.039218</td>\n      <td>1.626257</td>\n      <td>-1.076671</td>\n      <td>0.263719</td>\n      <td>1.479787</td>\n      <td>0.054214</td>\n      <td>0.693720</td>\n      <td>0.827657</td>\n      <td>1.042834</td>\n      <td>...</td>\n      <td>1.487910</td>\n      <td>0.876413</td>\n      <td>-1.607574</td>\n      <td>0.224691</td>\n      <td>1.323391</td>\n      <td>-0.615944</td>\n      <td>-1.300154</td>\n      <td>-0.236343</td>\n      <td>-1.442231</td>\n      <td>6</td>\n    </tr>\n  </tbody>\n</table>\n<p>5 rows × 101 columns</p>\n</div>"
     },
     "execution_count": 53,
     "metadata": {},
     "output_type": "execute_result"
    }
   ],
   "source": [
    "data_spectral2['Label'] = spectral2.labels_\n",
    "data_spectral2.head()"
   ]
  },
  {
   "cell_type": "code",
   "execution_count": 54,
   "metadata": {
    "pycharm": {
     "name": "#%%\n"
    }
   },
   "outputs": [],
   "source": [
    "centroide_spectral2 = centroide(data_spectral2)"
   ]
  },
  {
   "cell_type": "code",
   "execution_count": 55,
   "metadata": {
    "pycharm": {
     "name": "#%%\n"
    }
   },
   "outputs": [
    {
     "name": "stdout",
     "output_type": "stream",
     "text": [
      "Spectral Clustering - Selecionado\n",
      "\n",
      "Confusion Matrix: \n",
      " [[64  0  0  0  0  0  0  0  0  0  0  0  0  0  0  0]\n",
      " [ 0 64  0  0  0  0  0  0  0  0  0  0  0  0  0  0]\n",
      " [ 0  0 64  0  0  0  0  0  0  0  0  0  0  0  0  0]\n",
      " [ 0  0  0 64  0  0  0  0  0  0  0  0  0  0  0  0]\n",
      " [ 0  0  0  0 64  0  0  0  0  0  0  0  0  0  0  0]\n",
      " [ 0  0  0  0  0 64  0  0  0  0  0  0  0  0  0  0]\n",
      " [ 0  0  0  0  0  0 64  0  0  0  0  0  0  0  0  0]\n",
      " [ 0  0  0  0  0  0  0 64  0  0  0  0  0  0  0  0]\n",
      " [ 0  0  0  0  0  0  0  0 64  0  0  0  0  0  0  0]\n",
      " [ 0  0  0  0  0  0  0  0  0 64  0  0  0  0  0  0]\n",
      " [ 0  0  0  0  0  0  0  0  0  0 64  0  0  0  0  0]\n",
      " [ 0  0  0  0  0  0  0  0  0  0  0 64  0  0  0  0]\n",
      " [ 0  0  0  0  0  0  0  0  0  0  0  0 64  0  0  0]\n",
      " [ 0  0  0  0  0  0  0  0  0  0  0  0  0 64  0  0]\n",
      " [ 0  0  0  0  0  0  0  0  0  0  0  0  0  0 64  0]\n",
      " [ 0  0  0  0  0  0  0  0  0  0  0  0  0  0  0 64]]\n",
      "\n",
      "Calinski-Harabaz Score:  94093.58820563472\n",
      "\n",
      "Adjusted-Rand Score:  1.0\n",
      "\n",
      "Adjusted Mutual Info Score:  1.0\n",
      "\n",
      "F1 Score:  1.0\n",
      "\n",
      "Accuracy Score:  1.0\n",
      "\n",
      "Silhouette Score:  0.9752837913952893\n"
     ]
    }
   ],
   "source": [
    "dataset = data_reduzida.values\n",
    "\n",
    "class Data:\n",
    "    namostras = 0\n",
    "    ndim = 0\n",
    "    ncluster = 0\n",
    "\n",
    "newData = Data()\n",
    "\n",
    "newData.namostras = len(data_reduzida)\n",
    "newData.ndim = len(data_reduzida.columns)\n",
    "newData.ncluster = 16\n",
    "\n",
    "\n",
    "labels_true = lista\n",
    "\n",
    "# predict recebe os rotulos preditos pelo algoritmo de clustering\n",
    "predict = rotulos(centroide_spectral2, 16, dataset, newData)\n",
    "\n",
    "# labels_predict sao as labels ja organizadas para comparacao correta com os rotulos originais do conjunto de dados\n",
    "labels_predict = labelmatch(labels_true,predict,newData.ncluster)\n",
    "\n",
    "\n",
    "# METRICAS PARA AVALIACAO DO CLUSTERING\n",
    "cft = confusion_matrix(labels_true, labels_predict)\n",
    "hbt = calinski_harabasz_score(dataset,labels_predict)\n",
    "arit = adjusted_rand_score(labels_true, labels_predict)\n",
    "amit = adjusted_mutual_info_score(labels_true, labels_predict)\n",
    "f1t = f1_score(labels_true, labels_predict, average='macro')\n",
    "accurracyt =accuracy_score(labels_true, labels_predict)\n",
    "silhouettet = silhouette_score(dataset, labels_predict)\n",
    "\n",
    "print('Spectral Clustering - Selecionado')\n",
    "print('\\nConfusion Matrix: \\n', cft)\n",
    "print('\\nCalinski-Harabaz Score: ',hbt)\n",
    "print('\\nAdjusted-Rand Score: ',arit)\n",
    "print('\\nAdjusted Mutual Info Score: ',amit)\n",
    "print('\\nF1 Score: ',f1t)\n",
    "print('\\nAccuracy Score: ',accurracyt)\n",
    "print('\\nSilhouette Score: ',silhouettet)\n",
    "\n",
    "result_spectral_selecionado = np.array([\"SpectralSelecionado\", hbt, arit, amit, f1t, accurracyt, silhouettet])"
   ]
  },
  {
   "cell_type": "code",
   "execution_count": 56,
   "metadata": {
    "collapsed": false,
    "jupyter": {
     "outputs_hidden": false
    },
    "pycharm": {
     "name": "#%%\n"
    }
   },
   "outputs": [
    {
     "data": {
      "text/plain": "                    Cluster    Calinski Harabas       Adjusted-Rand  \\\n0            KmeansCompleto   86413.56951870107                 1.0   \n1         KmeansSelecionado   554.3204348511993  0.8716755078204489   \n2     AgglomerativeCompleto   86413.56951870107                 1.0   \n3  AgglometariveSelecionado   94093.58820563472                 1.0   \n4          SpectralCompleto  260.77693262215905  0.6653581943081452   \n5       SpectralSelecionado   94093.58820563472                 1.0   \n\n  Adjusted Mutual Info                  F1   Accuracy          Silhouette  \n0                  1.0                 1.0        1.0  0.9746405449945033  \n1   0.9619814752023069  0.8291666666666666  0.8671875  0.8033574906523815  \n2                  1.0                 1.0        1.0  0.9746405449945033  \n3                  1.0                 1.0        1.0  0.9752837913952893  \n4   0.9123177188009717  0.6916666666666667       0.75  0.7110878949026685  \n5                  1.0                 1.0        1.0  0.9752837913952893  ",
      "text/html": "<div>\n<style scoped>\n    .dataframe tbody tr th:only-of-type {\n        vertical-align: middle;\n    }\n\n    .dataframe tbody tr th {\n        vertical-align: top;\n    }\n\n    .dataframe thead th {\n        text-align: right;\n    }\n</style>\n<table border=\"1\" class=\"dataframe\">\n  <thead>\n    <tr style=\"text-align: right;\">\n      <th></th>\n      <th>Cluster</th>\n      <th>Calinski Harabas</th>\n      <th>Adjusted-Rand</th>\n      <th>Adjusted Mutual Info</th>\n      <th>F1</th>\n      <th>Accuracy</th>\n      <th>Silhouette</th>\n    </tr>\n  </thead>\n  <tbody>\n    <tr>\n      <th>0</th>\n      <td>KmeansCompleto</td>\n      <td>86413.56951870107</td>\n      <td>1.0</td>\n      <td>1.0</td>\n      <td>1.0</td>\n      <td>1.0</td>\n      <td>0.9746405449945033</td>\n    </tr>\n    <tr>\n      <th>1</th>\n      <td>KmeansSelecionado</td>\n      <td>554.3204348511993</td>\n      <td>0.8716755078204489</td>\n      <td>0.9619814752023069</td>\n      <td>0.8291666666666666</td>\n      <td>0.8671875</td>\n      <td>0.8033574906523815</td>\n    </tr>\n    <tr>\n      <th>2</th>\n      <td>AgglomerativeCompleto</td>\n      <td>86413.56951870107</td>\n      <td>1.0</td>\n      <td>1.0</td>\n      <td>1.0</td>\n      <td>1.0</td>\n      <td>0.9746405449945033</td>\n    </tr>\n    <tr>\n      <th>3</th>\n      <td>AgglometariveSelecionado</td>\n      <td>94093.58820563472</td>\n      <td>1.0</td>\n      <td>1.0</td>\n      <td>1.0</td>\n      <td>1.0</td>\n      <td>0.9752837913952893</td>\n    </tr>\n    <tr>\n      <th>4</th>\n      <td>SpectralCompleto</td>\n      <td>260.77693262215905</td>\n      <td>0.6653581943081452</td>\n      <td>0.9123177188009717</td>\n      <td>0.6916666666666667</td>\n      <td>0.75</td>\n      <td>0.7110878949026685</td>\n    </tr>\n    <tr>\n      <th>5</th>\n      <td>SpectralSelecionado</td>\n      <td>94093.58820563472</td>\n      <td>1.0</td>\n      <td>1.0</td>\n      <td>1.0</td>\n      <td>1.0</td>\n      <td>0.9752837913952893</td>\n    </tr>\n  </tbody>\n</table>\n</div>"
     },
     "execution_count": 56,
     "metadata": {},
     "output_type": "execute_result"
    }
   ],
   "source": [
    "result_columns = np.array([\"Cluster\", \"Calinski Harabas\", \"Adjusted-Rand\", \"Adjusted Mutual Info\", \"F1\", \"Accuracy\", \"Silhouette\"])\n",
    "results = np.array([result_kmeans_completo, result_kmeans_selecionado, result_aglome_completo, result_aglome_selecionado, result_spectral_completo, result_spectral_selecionado])\n",
    "\n",
    "pd.DataFrame(data=results, columns=result_columns)"
   ]
  }
 ],
 "metadata": {
  "kernelspec": {
   "name": "pycharm-2757d701",
   "language": "python",
   "display_name": "PyCharm (machine-learning)"
  },
  "language_info": {
   "codemirror_mode": {
    "name": "ipython",
    "version": 3
   },
   "file_extension": ".py",
   "mimetype": "text/x-python",
   "name": "python",
   "nbconvert_exporter": "python",
   "pygments_lexer": "ipython3",
   "version": "3.7.3"
  }
 },
 "nbformat": 4,
 "nbformat_minor": 4
}