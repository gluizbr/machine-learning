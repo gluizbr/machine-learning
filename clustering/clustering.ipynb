{
 "cells": [
  {
   "cell_type": "markdown",
   "source": [
    "# 0. Introdução"
   ],
   "metadata": {
    "collapsed": false
   }
  },
  {
   "cell_type": "markdown",
   "source": [
    "**Trabalho Clustering**:\n",
    "\n",
    "Aluno: Gabriel Luiz\n",
    "\n",
    "Disciplina: Tópico em Aprendizado de Máquina\n",
    "\n",
    "**Objetivos** :\n",
    "\n",
    "- Escolha dois datasets rotulados.\n",
    "- Realize a análise estatística, visualização e pré-processamento dos dados.\n",
    "- Realize os experimentos criando duas bases de teste distintas:\n",
    "- - considerando todos os atributos do dataset ;\n",
    "- - selecionando alguns atributos e descartando outros;\n",
    "- Aplique três métodos de clustering distintos nas duas bases acima.\n",
    "- Para cada dataset , em cada uma das bases, analise os resultados\n",
    " segundo medidas de qualidade de clustering , usando índices de\n",
    " validação interna (SSW, SSB, silhueta, Calinski-Harabasz, Dunn e\n",
    " Davis-Bouldin) e externa (pureza, entropia, acurácia, F-measure ,\n",
    " ARI, NMI).\n",
    "- Proponha uma maneira adicional de comparar os resultados obtidos\n",
    "além das medidas acima.\n",
    "- Compare e interprete os resultados dos dois experimentos em cada dataset\n"
   ],
   "metadata": {
    "collapsed": false
   }
  },
  {
   "cell_type": "markdown",
   "source": [
    "## 0.1 Dependências"
   ],
   "metadata": {
    "collapsed": false
   }
  },
  {
   "cell_type": "markdown",
   "source": [
    "Para realização da tarefa foram utilizados as seguintes bibliotecas:"
   ],
   "metadata": {
    "collapsed": false
   }
  },
  {
   "cell_type": "code",
   "execution_count": 1,
   "outputs": [],
   "source": [
    "from datetime import datetime\n",
    "import pandas as pd\n",
    "from sklearn.cluster import *\n",
    "import seaborn as sns\n",
    "from sklearn import preprocessing\n",
    "import matplotlib.pyplot as plt"
   ],
   "metadata": {
    "collapsed": false,
    "pycharm": {
     "name": "#%%\n"
    }
   }
  },
  {
   "cell_type": "markdown",
   "source": [
    "# 1. Dados"
   ],
   "metadata": {
    "collapsed": false
   }
  },
  {
   "cell_type": "markdown",
   "source": [
    "Para realização das tarefas envolvidas neste relatório utilizou-se o arquivo **kaggle_Interests_group.csv** que contém dados de interesses de pessoas e foram classificadas em quatro grupos.\n",
    "\n",
    "/////////////////////////////////////////////////O objetivo da pesquisa foi estudar qual a relação das pessoas que possuem corona virus com suas informações pessoais. As informações coletadas incluíam **idade**, **sexo (masculino = 0, feminino = 1)**, **data inicio sintomas**, **data entrada no hospital** e **data de confirmação da doença**.//////////////////////////////////////////////////"
   ],
   "metadata": {
    "collapsed": false
   }
  },
  {
   "cell_type": "markdown",
   "source": [
    "## 1.1 Informações sobre os dados:\n",
    "\n",
    "#### Atributos:\n",
    "- Quantidade de registros 6000 pessoas\n",
    "- 4 grupos de pessoas\n",
    "- 217 questões sobre interesses. Exemplo: Voce gosta de jogar xadrez? (S/N)"
   ],
   "metadata": {
    "collapsed": false
   }
  },
  {
   "cell_type": "markdown",
   "source": [
    "## 1.2 Carregamento do arquivo"
   ],
   "metadata": {
    "collapsed": false
   }
  },
  {
   "cell_type": "code",
   "execution_count": 2,
   "outputs": [],
   "source": [
    "dataset = './dataset/kaggle_Interests_group.csv'"
   ],
   "metadata": {
    "collapsed": false,
    "pycharm": {
     "name": "#%%\n"
    }
   }
  },
  {
   "cell_type": "code",
   "execution_count": 3,
   "outputs": [],
   "source": [
    "# Carregando os dados apenas com as colunas desejadas\n",
    "interests = pd.read_csv(\n",
    "    dataset,\n",
    "    )"
   ],
   "metadata": {
    "collapsed": false,
    "pycharm": {
     "name": "#%%\n"
    }
   }
  },
  {
   "cell_type": "code",
   "execution_count": 4,
   "outputs": [
    {
     "data": {
      "text/plain": "  group  grand_tot_interests  interest1  interest2  interest3  interest4  \\\n0     C                   17        NaN        NaN        NaN        NaN   \n1     C                   43        1.0        NaN        NaN        NaN   \n2     C                   27        NaN        NaN        NaN        NaN   \n3     C                   34        NaN        NaN        NaN        NaN   \n4     C                   36        NaN        NaN        NaN        NaN   \n\n   interest5  interest6  interest7  interest8  ...  interest208  interest209  \\\n0        NaN        NaN        NaN        NaN  ...          NaN          NaN   \n1        1.0        NaN        NaN        NaN  ...          NaN          NaN   \n2        NaN        NaN        NaN        NaN  ...          NaN          NaN   \n3        NaN        NaN        NaN        NaN  ...          NaN          NaN   \n4        1.0        NaN        NaN        NaN  ...          NaN          NaN   \n\n   interest210  interest211  interest212  interest213  interest214  \\\n0          NaN          NaN          NaN          NaN          NaN   \n1          1.0          NaN          NaN          NaN          NaN   \n2          1.0          NaN          NaN          NaN          NaN   \n3          NaN          1.0          NaN          NaN          NaN   \n4          1.0          NaN          NaN          NaN          NaN   \n\n   interest215  interest216  interest217  \n0          NaN          NaN          NaN  \n1          1.0          1.0          NaN  \n2          1.0          1.0          NaN  \n3          1.0          1.0          NaN  \n4          1.0          1.0          NaN  \n\n[5 rows x 219 columns]",
      "text/html": "<div>\n<style scoped>\n    .dataframe tbody tr th:only-of-type {\n        vertical-align: middle;\n    }\n\n    .dataframe tbody tr th {\n        vertical-align: top;\n    }\n\n    .dataframe thead th {\n        text-align: right;\n    }\n</style>\n<table border=\"1\" class=\"dataframe\">\n  <thead>\n    <tr style=\"text-align: right;\">\n      <th></th>\n      <th>group</th>\n      <th>grand_tot_interests</th>\n      <th>interest1</th>\n      <th>interest2</th>\n      <th>interest3</th>\n      <th>interest4</th>\n      <th>interest5</th>\n      <th>interest6</th>\n      <th>interest7</th>\n      <th>interest8</th>\n      <th>...</th>\n      <th>interest208</th>\n      <th>interest209</th>\n      <th>interest210</th>\n      <th>interest211</th>\n      <th>interest212</th>\n      <th>interest213</th>\n      <th>interest214</th>\n      <th>interest215</th>\n      <th>interest216</th>\n      <th>interest217</th>\n    </tr>\n  </thead>\n  <tbody>\n    <tr>\n      <th>0</th>\n      <td>C</td>\n      <td>17</td>\n      <td>NaN</td>\n      <td>NaN</td>\n      <td>NaN</td>\n      <td>NaN</td>\n      <td>NaN</td>\n      <td>NaN</td>\n      <td>NaN</td>\n      <td>NaN</td>\n      <td>...</td>\n      <td>NaN</td>\n      <td>NaN</td>\n      <td>NaN</td>\n      <td>NaN</td>\n      <td>NaN</td>\n      <td>NaN</td>\n      <td>NaN</td>\n      <td>NaN</td>\n      <td>NaN</td>\n      <td>NaN</td>\n    </tr>\n    <tr>\n      <th>1</th>\n      <td>C</td>\n      <td>43</td>\n      <td>1.0</td>\n      <td>NaN</td>\n      <td>NaN</td>\n      <td>NaN</td>\n      <td>1.0</td>\n      <td>NaN</td>\n      <td>NaN</td>\n      <td>NaN</td>\n      <td>...</td>\n      <td>NaN</td>\n      <td>NaN</td>\n      <td>1.0</td>\n      <td>NaN</td>\n      <td>NaN</td>\n      <td>NaN</td>\n      <td>NaN</td>\n      <td>1.0</td>\n      <td>1.0</td>\n      <td>NaN</td>\n    </tr>\n    <tr>\n      <th>2</th>\n      <td>C</td>\n      <td>27</td>\n      <td>NaN</td>\n      <td>NaN</td>\n      <td>NaN</td>\n      <td>NaN</td>\n      <td>NaN</td>\n      <td>NaN</td>\n      <td>NaN</td>\n      <td>NaN</td>\n      <td>...</td>\n      <td>NaN</td>\n      <td>NaN</td>\n      <td>1.0</td>\n      <td>NaN</td>\n      <td>NaN</td>\n      <td>NaN</td>\n      <td>NaN</td>\n      <td>1.0</td>\n      <td>1.0</td>\n      <td>NaN</td>\n    </tr>\n    <tr>\n      <th>3</th>\n      <td>C</td>\n      <td>34</td>\n      <td>NaN</td>\n      <td>NaN</td>\n      <td>NaN</td>\n      <td>NaN</td>\n      <td>NaN</td>\n      <td>NaN</td>\n      <td>NaN</td>\n      <td>NaN</td>\n      <td>...</td>\n      <td>NaN</td>\n      <td>NaN</td>\n      <td>NaN</td>\n      <td>1.0</td>\n      <td>NaN</td>\n      <td>NaN</td>\n      <td>NaN</td>\n      <td>1.0</td>\n      <td>1.0</td>\n      <td>NaN</td>\n    </tr>\n    <tr>\n      <th>4</th>\n      <td>C</td>\n      <td>36</td>\n      <td>NaN</td>\n      <td>NaN</td>\n      <td>NaN</td>\n      <td>NaN</td>\n      <td>1.0</td>\n      <td>NaN</td>\n      <td>NaN</td>\n      <td>NaN</td>\n      <td>...</td>\n      <td>NaN</td>\n      <td>NaN</td>\n      <td>1.0</td>\n      <td>NaN</td>\n      <td>NaN</td>\n      <td>NaN</td>\n      <td>NaN</td>\n      <td>1.0</td>\n      <td>1.0</td>\n      <td>NaN</td>\n    </tr>\n  </tbody>\n</table>\n<p>5 rows × 219 columns</p>\n</div>"
     },
     "execution_count": 4,
     "metadata": {},
     "output_type": "execute_result"
    }
   ],
   "source": [
    "interests.head()"
   ],
   "metadata": {
    "collapsed": false,
    "pycharm": {
     "name": "#%%\n"
    }
   }
  },
  {
   "cell_type": "code",
   "execution_count": 5,
   "outputs": [
    {
     "data": {
      "text/plain": "       grand_tot_interests  interest1  interest2  interest3  interest4  \\\ncount          6340.000000      993.0        1.0       35.0       25.0   \nmean             37.312303        1.0        1.0        1.0        1.0   \nstd              15.729872        0.0        NaN        0.0        0.0   \nmin               1.000000        1.0        1.0        1.0        1.0   \n25%              28.000000        1.0        1.0        1.0        1.0   \n50%              39.000000        1.0        1.0        1.0        1.0   \n75%              48.000000        1.0        1.0        1.0        1.0   \nmax             104.000000        1.0        1.0        1.0        1.0   \n\n        interest5    interest6  interest7  interest8   interest9  ...  \\\ncount  798.000000  3394.000000        1.0       93.0  333.000000  ...   \nmean     1.001253     1.000589        1.0        1.0    1.003003  ...   \nstd      0.035400     0.024271        NaN        0.0    0.054800  ...   \nmin      1.000000     1.000000        1.0        1.0    1.000000  ...   \n25%      1.000000     1.000000        1.0        1.0    1.000000  ...   \n50%      1.000000     1.000000        1.0        1.0    1.000000  ...   \n75%      1.000000     1.000000        1.0        1.0    1.000000  ...   \nmax      2.000000     2.000000        1.0        1.0    2.000000  ...   \n\n       interest208  interest209  interest210  interest211  interest212  \\\ncount   118.000000        110.0  5037.000000  2474.000000   877.000000   \nmean      1.008475          1.0     1.000596     1.000808     1.002281   \nstd       0.092057          0.0     0.024400     0.028427     0.047727   \nmin       1.000000          1.0     1.000000     1.000000     1.000000   \n25%       1.000000          1.0     1.000000     1.000000     1.000000   \n50%       1.000000          1.0     1.000000     1.000000     1.000000   \n75%       1.000000          1.0     1.000000     1.000000     1.000000   \nmax       2.000000          1.0     2.000000     2.000000     2.000000   \n\n       interest213  interest214  interest215  interest216  interest217  \ncount          2.0         72.0  4943.000000  4058.000000        147.0  \nmean           1.0          1.0     1.000202     1.000246          1.0  \nstd            0.0          0.0     0.014223     0.015698          0.0  \nmin            1.0          1.0     1.000000     1.000000          1.0  \n25%            1.0          1.0     1.000000     1.000000          1.0  \n50%            1.0          1.0     1.000000     1.000000          1.0  \n75%            1.0          1.0     1.000000     1.000000          1.0  \nmax            1.0          1.0     2.000000     2.000000          1.0  \n\n[8 rows x 218 columns]",
      "text/html": "<div>\n<style scoped>\n    .dataframe tbody tr th:only-of-type {\n        vertical-align: middle;\n    }\n\n    .dataframe tbody tr th {\n        vertical-align: top;\n    }\n\n    .dataframe thead th {\n        text-align: right;\n    }\n</style>\n<table border=\"1\" class=\"dataframe\">\n  <thead>\n    <tr style=\"text-align: right;\">\n      <th></th>\n      <th>grand_tot_interests</th>\n      <th>interest1</th>\n      <th>interest2</th>\n      <th>interest3</th>\n      <th>interest4</th>\n      <th>interest5</th>\n      <th>interest6</th>\n      <th>interest7</th>\n      <th>interest8</th>\n      <th>interest9</th>\n      <th>...</th>\n      <th>interest208</th>\n      <th>interest209</th>\n      <th>interest210</th>\n      <th>interest211</th>\n      <th>interest212</th>\n      <th>interest213</th>\n      <th>interest214</th>\n      <th>interest215</th>\n      <th>interest216</th>\n      <th>interest217</th>\n    </tr>\n  </thead>\n  <tbody>\n    <tr>\n      <th>count</th>\n      <td>6340.000000</td>\n      <td>993.0</td>\n      <td>1.0</td>\n      <td>35.0</td>\n      <td>25.0</td>\n      <td>798.000000</td>\n      <td>3394.000000</td>\n      <td>1.0</td>\n      <td>93.0</td>\n      <td>333.000000</td>\n      <td>...</td>\n      <td>118.000000</td>\n      <td>110.0</td>\n      <td>5037.000000</td>\n      <td>2474.000000</td>\n      <td>877.000000</td>\n      <td>2.0</td>\n      <td>72.0</td>\n      <td>4943.000000</td>\n      <td>4058.000000</td>\n      <td>147.0</td>\n    </tr>\n    <tr>\n      <th>mean</th>\n      <td>37.312303</td>\n      <td>1.0</td>\n      <td>1.0</td>\n      <td>1.0</td>\n      <td>1.0</td>\n      <td>1.001253</td>\n      <td>1.000589</td>\n      <td>1.0</td>\n      <td>1.0</td>\n      <td>1.003003</td>\n      <td>...</td>\n      <td>1.008475</td>\n      <td>1.0</td>\n      <td>1.000596</td>\n      <td>1.000808</td>\n      <td>1.002281</td>\n      <td>1.0</td>\n      <td>1.0</td>\n      <td>1.000202</td>\n      <td>1.000246</td>\n      <td>1.0</td>\n    </tr>\n    <tr>\n      <th>std</th>\n      <td>15.729872</td>\n      <td>0.0</td>\n      <td>NaN</td>\n      <td>0.0</td>\n      <td>0.0</td>\n      <td>0.035400</td>\n      <td>0.024271</td>\n      <td>NaN</td>\n      <td>0.0</td>\n      <td>0.054800</td>\n      <td>...</td>\n      <td>0.092057</td>\n      <td>0.0</td>\n      <td>0.024400</td>\n      <td>0.028427</td>\n      <td>0.047727</td>\n      <td>0.0</td>\n      <td>0.0</td>\n      <td>0.014223</td>\n      <td>0.015698</td>\n      <td>0.0</td>\n    </tr>\n    <tr>\n      <th>min</th>\n      <td>1.000000</td>\n      <td>1.0</td>\n      <td>1.0</td>\n      <td>1.0</td>\n      <td>1.0</td>\n      <td>1.000000</td>\n      <td>1.000000</td>\n      <td>1.0</td>\n      <td>1.0</td>\n      <td>1.000000</td>\n      <td>...</td>\n      <td>1.000000</td>\n      <td>1.0</td>\n      <td>1.000000</td>\n      <td>1.000000</td>\n      <td>1.000000</td>\n      <td>1.0</td>\n      <td>1.0</td>\n      <td>1.000000</td>\n      <td>1.000000</td>\n      <td>1.0</td>\n    </tr>\n    <tr>\n      <th>25%</th>\n      <td>28.000000</td>\n      <td>1.0</td>\n      <td>1.0</td>\n      <td>1.0</td>\n      <td>1.0</td>\n      <td>1.000000</td>\n      <td>1.000000</td>\n      <td>1.0</td>\n      <td>1.0</td>\n      <td>1.000000</td>\n      <td>...</td>\n      <td>1.000000</td>\n      <td>1.0</td>\n      <td>1.000000</td>\n      <td>1.000000</td>\n      <td>1.000000</td>\n      <td>1.0</td>\n      <td>1.0</td>\n      <td>1.000000</td>\n      <td>1.000000</td>\n      <td>1.0</td>\n    </tr>\n    <tr>\n      <th>50%</th>\n      <td>39.000000</td>\n      <td>1.0</td>\n      <td>1.0</td>\n      <td>1.0</td>\n      <td>1.0</td>\n      <td>1.000000</td>\n      <td>1.000000</td>\n      <td>1.0</td>\n      <td>1.0</td>\n      <td>1.000000</td>\n      <td>...</td>\n      <td>1.000000</td>\n      <td>1.0</td>\n      <td>1.000000</td>\n      <td>1.000000</td>\n      <td>1.000000</td>\n      <td>1.0</td>\n      <td>1.0</td>\n      <td>1.000000</td>\n      <td>1.000000</td>\n      <td>1.0</td>\n    </tr>\n    <tr>\n      <th>75%</th>\n      <td>48.000000</td>\n      <td>1.0</td>\n      <td>1.0</td>\n      <td>1.0</td>\n      <td>1.0</td>\n      <td>1.000000</td>\n      <td>1.000000</td>\n      <td>1.0</td>\n      <td>1.0</td>\n      <td>1.000000</td>\n      <td>...</td>\n      <td>1.000000</td>\n      <td>1.0</td>\n      <td>1.000000</td>\n      <td>1.000000</td>\n      <td>1.000000</td>\n      <td>1.0</td>\n      <td>1.0</td>\n      <td>1.000000</td>\n      <td>1.000000</td>\n      <td>1.0</td>\n    </tr>\n    <tr>\n      <th>max</th>\n      <td>104.000000</td>\n      <td>1.0</td>\n      <td>1.0</td>\n      <td>1.0</td>\n      <td>1.0</td>\n      <td>2.000000</td>\n      <td>2.000000</td>\n      <td>1.0</td>\n      <td>1.0</td>\n      <td>2.000000</td>\n      <td>...</td>\n      <td>2.000000</td>\n      <td>1.0</td>\n      <td>2.000000</td>\n      <td>2.000000</td>\n      <td>2.000000</td>\n      <td>1.0</td>\n      <td>1.0</td>\n      <td>2.000000</td>\n      <td>2.000000</td>\n      <td>1.0</td>\n    </tr>\n  </tbody>\n</table>\n<p>8 rows × 218 columns</p>\n</div>"
     },
     "execution_count": 5,
     "metadata": {},
     "output_type": "execute_result"
    }
   ],
   "source": [
    "interests.describe()"
   ],
   "metadata": {
    "collapsed": false,
    "pycharm": {
     "name": "#%%\n"
    }
   }
  },
  {
   "cell_type": "markdown",
   "source": [
    "# 2. Pré-processamento"
   ],
   "metadata": {
    "collapsed": false
   }
  },
  {
   "cell_type": "markdown",
   "source": [
    "#### Problemas idenficados:\n",
    "- 1. Dados faltantes representados por \"NaN\""
   ],
   "metadata": {
    "collapsed": false
   }
  },
  {
   "cell_type": "code",
   "execution_count": 6,
   "outputs": [
    {
     "data": {
      "text/plain": "group                     0\ngrand_tot_interests       0\ninterest1              5347\ninterest2              6339\ninterest3              6305\n                       ... \ninterest213            6338\ninterest214            6268\ninterest215            1397\ninterest216            2282\ninterest217            6193\nLength: 219, dtype: int64"
     },
     "execution_count": 6,
     "metadata": {},
     "output_type": "execute_result"
    }
   ],
   "source": [
    "interests.isna().sum()"
   ],
   "metadata": {
    "collapsed": false,
    "pycharm": {
     "name": "#%%\n"
    }
   }
  },
  {
   "cell_type": "code",
   "execution_count": 7,
   "outputs": [
    {
     "name": "stdout",
     "output_type": "stream",
     "text": [
      "group ['C' 'P' 'R' 'I']\n",
      "grand_tot_interests [ 17  43  27  34  36   6  54   2  29  44  39  28  47  38  37  11  71  48\n",
      "   4   1  60  23  24  45  30  51  22   8  10  57  26  41  13  46  31  25\n",
      "  62  32  56  42  49  55   3  66  58  21  70  35  61  40  63  69  52  59\n",
      "  50  33   9  53  65  64  18  15  20  19  16  81  75  14  12  73  97   7\n",
      "  76  74   5  68  89  67  80 104  84  82  77  72  99]\n",
      "interest1 [nan  1.]\n",
      "interest2 [nan  1.]\n",
      "interest3 [nan  1.]\n",
      "interest4 [nan  1.]\n",
      "interest5 [nan  1.  2.]\n",
      "interest6 [nan  1.  2.]\n",
      "interest7 [nan  1.]\n",
      "interest8 [nan  1.]\n",
      "interest9 [nan  1.  2.]\n",
      "interest10 [nan  1.]\n",
      "interest11 [nan  1.]\n",
      "interest12 [ 1. nan  2.]\n",
      "interest13 [nan  1.]\n",
      "interest14 [nan  1.]\n",
      "interest15 [nan  1.]\n",
      "interest16 [ 1. nan  2.]\n",
      "interest17 [nan  1.]\n",
      "interest18 [nan  1.]\n",
      "interest19 [nan  1.]\n",
      "interest20 [nan  1.]\n",
      "interest21 [ 1. nan  2.]\n",
      "interest22 [nan  1.]\n",
      "interest23 [nan  1.]\n",
      "interest24 [nan  1.]\n",
      "interest25 [nan  1.]\n",
      "interest26 [nan  1.]\n",
      "interest27 [nan  1.]\n",
      "interest28 [nan  1.]\n",
      "interest29 [nan  1.]\n",
      "interest30 [nan  1.]\n",
      "interest31 [nan  1.]\n",
      "interest32 [nan  1.]\n",
      "interest33 [nan  1.]\n",
      "interest34 [nan  1.]\n",
      "interest35 [nan  1.]\n",
      "interest36 [nan  1.]\n",
      "interest37 [nan  1.  2.]\n",
      "interest38 [nan  1.]\n",
      "interest39 [nan  1.]\n",
      "interest40 [nan  1.  2.]\n",
      "interest41 [nan  1.]\n",
      "interest42 [nan  1.]\n",
      "interest43 [nan  1.  2.]\n",
      "interest44 [nan  1.]\n",
      "interest45 [nan  1.]\n",
      "interest46 [nan  1.]\n",
      "interest47 [ 1. nan  2.]\n",
      "interest48 [nan  1.  2.]\n",
      "interest49 [nan  1.]\n",
      "interest50 [nan  1.  2.]\n",
      "interest51 [nan  1.]\n",
      "interest52 [nan  1.]\n",
      "interest53 [nan  1.]\n",
      "interest54 [nan  1.]\n",
      "interest55 [nan  1.]\n",
      "interest56 [nan  1.]\n",
      "interest57 [ 1. nan  2.]\n",
      "interest58 [ 1. nan  2.]\n",
      "interest59 [ 1. nan  2.]\n",
      "interest60 [nan  1.]\n",
      "interest61 [ 1. nan  2.]\n",
      "interest62 [nan  1.  2.]\n",
      "interest63 [nan  1.  2.]\n",
      "interest64 [ 1. nan  2.]\n",
      "interest65 [nan  1.]\n",
      "interest66 [ 1. nan  2.]\n",
      "interest67 [nan  1.]\n",
      "interest68 [nan  1.]\n",
      "interest69 [nan  1.]\n",
      "interest70 [nan  1.  2.]\n",
      "interest71 [nan  1.  2.]\n",
      "interest72 [nan  1.]\n",
      "interest73 [nan  1.]\n",
      "interest74 [nan  1.]\n",
      "interest75 [nan  1.]\n",
      "interest76 [nan  1.]\n",
      "interest77 [nan  1.]\n",
      "interest78 [nan  1.  2.]\n",
      "interest79 [nan  1.  2.]\n",
      "interest80 [ 1. nan  2.]\n",
      "interest81 [nan  1.  2.]\n",
      "interest82 [nan  1.]\n",
      "interest83 [ 1. nan  2.]\n",
      "interest84 [ 1. nan  2.]\n",
      "interest85 [nan  1.]\n",
      "interest86 [nan  1.]\n",
      "interest87 [nan  1.]\n",
      "interest88 [nan  1.]\n",
      "interest89 [nan  1.  2.]\n",
      "interest90 [nan  1.  2.]\n",
      "interest91 [nan  1.]\n",
      "interest92 [nan  1.  2.]\n",
      "interest93 [nan  1.]\n",
      "interest94 [nan  1.]\n",
      "interest95 [nan  1.]\n",
      "interest96 [nan  1.]\n",
      "interest97 [ 1. nan  2.]\n",
      "interest98 [nan  1.]\n",
      "interest99 [nan  1.]\n",
      "interest100 [nan  1.]\n",
      "interest101 [nan  1.]\n",
      "interest102 [nan  1.]\n",
      "interest103 [nan  1.]\n",
      "interest104 [nan  1.  2.]\n",
      "interest105 [nan  1.]\n",
      "interest106 [nan  1.]\n",
      "interest107 [nan  1.]\n",
      "interest108 [nan  1.]\n",
      "interest109 [nan  1.  2.]\n",
      "interest110 [ 1. nan  2.]\n",
      "interest111 [nan  1.]\n",
      "interest112 [nan  1.  2.]\n",
      "interest113 [nan  1.]\n",
      "interest114 [nan  1.]\n",
      "interest115 [nan  1.  2.]\n",
      "interest116 [nan  1.]\n",
      "interest117 [nan  1.  2.]\n",
      "interest118 [nan  1.  2.]\n",
      "interest119 [nan  1.  2.]\n",
      "interest120 [nan  1.  2.]\n",
      "interest121 [nan  1.]\n",
      "interest122 [nan  1.]\n",
      "interest123 [nan  1.]\n",
      "interest124 [nan  1.  2.]\n",
      "interest125 [nan  1.]\n",
      "interest126 [nan  1.]\n",
      "interest127 [nan  1.  2.]\n",
      "interest128 [nan  1.]\n",
      "interest129 [nan  1.]\n",
      "interest130 [nan  1.]\n",
      "interest131 [nan  1.]\n",
      "interest132 [nan  1.]\n",
      "interest133 [nan  1.]\n",
      "interest134 [nan  1.]\n",
      "interest135 [nan  1.]\n",
      "interest136 [nan  1.]\n",
      "interest137 [nan  1.  2.]\n",
      "interest138 [nan  1.]\n",
      "interest139 [nan  1.  2.]\n",
      "interest140 [nan  1.]\n",
      "interest141 [nan  1.]\n",
      "interest142 [nan  1.  2.]\n",
      "interest143 [nan  1.]\n",
      "interest144 [nan  1.  2.]\n",
      "interest145 [nan  1.]\n",
      "interest146 [nan  1.]\n",
      "interest147 [nan  1.  2.]\n",
      "interest148 [nan  1.  2.]\n",
      "interest149 [nan  1.  2.]\n",
      "interest150 [nan  1.]\n",
      "interest151 [nan  1.]\n",
      "interest152 [nan  1.]\n",
      "interest153 [nan  1.]\n",
      "interest154 [nan  1.  2.]\n",
      "interest155 [nan  1.]\n",
      "interest156 [nan  1.]\n",
      "interest157 [nan  1.  2.]\n",
      "interest158 [nan  1.]\n",
      "interest159 [nan  1.]\n",
      "interest160 [nan  1.  2.]\n",
      "interest161 [nan  1.]\n",
      "interest162 [ 1. nan  2.]\n",
      "interest163 [nan  1.]\n",
      "interest164 [nan  1.  2.]\n",
      "interest165 [nan  1.]\n",
      "interest166 [nan  1.]\n",
      "interest167 [nan  1.]\n",
      "interest168 [nan  1.]\n",
      "interest169 [nan  1.]\n",
      "interest170 [nan  1.]\n",
      "interest171 [nan  1.]\n",
      "interest172 [nan  1.]\n",
      "interest173 [nan  1.]\n",
      "interest174 [nan  1.]\n",
      "interest175 [nan  1.]\n",
      "interest176 [nan  1.]\n",
      "interest177 [nan  1.]\n",
      "interest178 [nan  1.]\n",
      "interest179 [nan  1.]\n",
      "interest180 [nan  1.  2.]\n",
      "interest181 [nan  1.  2.]\n",
      "interest182 [nan  1.]\n",
      "interest183 [ 1. nan  2.]\n",
      "interest184 [nan  1.]\n",
      "interest185 [nan  1.]\n",
      "interest186 [nan  1.]\n",
      "interest187 [nan  1.]\n",
      "interest188 [nan  1.]\n",
      "interest189 [nan  1.  2.]\n",
      "interest190 [nan  1.]\n",
      "interest191 [nan  1.]\n",
      "interest192 [nan  1.]\n",
      "interest193 [nan  1.]\n",
      "interest194 [nan  1.]\n",
      "interest195 [nan  1.]\n",
      "interest196 [nan  1.]\n",
      "interest197 [nan  1.]\n",
      "interest198 [nan  1.]\n",
      "interest199 [nan  1.]\n",
      "interest200 [nan  1.  2.]\n",
      "interest201 [nan  1.]\n",
      "interest202 [nan  1.  2.]\n",
      "interest203 [nan  1.]\n",
      "interest204 [nan  1.  2.]\n",
      "interest205 [nan  1.  2.]\n",
      "interest206 [nan  1.]\n",
      "interest207 [nan  1.]\n",
      "interest208 [nan  1.  2.]\n",
      "interest209 [nan  1.]\n",
      "interest210 [nan  1.  2.]\n",
      "interest211 [nan  1.  2.]\n",
      "interest212 [nan  1.  2.]\n",
      "interest213 [nan  1.]\n",
      "interest214 [nan  1.]\n",
      "interest215 [nan  1.  2.]\n",
      "interest216 [nan  1.  2.]\n",
      "interest217 [nan  1.]\n"
     ]
    }
   ],
   "source": [
    "for col in interests:\n",
    "    print(col, interests[col].unique())\n"
   ],
   "metadata": {
    "collapsed": false,
    "pycharm": {
     "name": "#%%\n"
    }
   }
  },
  {
   "cell_type": "markdown",
   "source": [
    "## 2.1 Removendo registros NaN"
   ],
   "metadata": {
    "collapsed": false
   }
  },
  {
   "cell_type": "markdown",
   "source": [
    "Como o dataset utiliza de NaN para zeros e também para valores nao preenchidos, irei preencher apenas os valores que realmente são 0"
   ],
   "metadata": {
    "collapsed": false
   }
  },
  {
   "cell_type": "code",
   "execution_count": 8,
   "outputs": [],
   "source": [
    "a=[]\n",
    "for col in interests:\n",
    "    if interests[col].nunique()==1:\n",
    "        a.append(col)\n",
    "    else:\n",
    "        pass\n",
    "interests[a] = interests[a].fillna(0)"
   ],
   "metadata": {
    "collapsed": false,
    "pycharm": {
     "name": "#%%\n"
    }
   }
  },
  {
   "cell_type": "code",
   "execution_count": 9,
   "outputs": [
    {
     "name": "stdout",
     "output_type": "stream",
     "text": [
      "group ['C' 'P' 'R' 'I']\n",
      "grand_tot_interests [ 17  43  27  34  36   6  54   2  29  44  39  28  47  38  37  11  71  48\n",
      "   4   1  60  23  24  45  30  51  22   8  10  57  26  41  13  46  31  25\n",
      "  62  32  56  42  49  55   3  66  58  21  70  35  61  40  63  69  52  59\n",
      "  50  33   9  53  65  64  18  15  20  19  16  81  75  14  12  73  97   7\n",
      "  76  74   5  68  89  67  80 104  84  82  77  72  99]\n",
      "interest1 [0. 1.]\n",
      "interest2 [0. 1.]\n",
      "interest3 [0. 1.]\n",
      "interest4 [0. 1.]\n",
      "interest5 [nan  1.  2.]\n",
      "interest6 [nan  1.  2.]\n",
      "interest7 [0. 1.]\n",
      "interest8 [0. 1.]\n",
      "interest9 [nan  1.  2.]\n",
      "interest10 [0. 1.]\n",
      "interest11 [0. 1.]\n",
      "interest12 [ 1. nan  2.]\n",
      "interest13 [0. 1.]\n",
      "interest14 [0. 1.]\n",
      "interest15 [0. 1.]\n",
      "interest16 [ 1. nan  2.]\n",
      "interest17 [0. 1.]\n",
      "interest18 [0. 1.]\n",
      "interest19 [0. 1.]\n",
      "interest20 [0. 1.]\n",
      "interest21 [ 1. nan  2.]\n",
      "interest22 [0. 1.]\n",
      "interest23 [0. 1.]\n",
      "interest24 [0. 1.]\n",
      "interest25 [0. 1.]\n",
      "interest26 [0. 1.]\n",
      "interest27 [0. 1.]\n",
      "interest28 [0. 1.]\n",
      "interest29 [0. 1.]\n",
      "interest30 [0. 1.]\n",
      "interest31 [0. 1.]\n",
      "interest32 [0. 1.]\n",
      "interest33 [0. 1.]\n",
      "interest34 [0. 1.]\n",
      "interest35 [0. 1.]\n",
      "interest36 [0. 1.]\n",
      "interest37 [nan  1.  2.]\n",
      "interest38 [0. 1.]\n",
      "interest39 [0. 1.]\n",
      "interest40 [nan  1.  2.]\n",
      "interest41 [0. 1.]\n",
      "interest42 [0. 1.]\n",
      "interest43 [nan  1.  2.]\n",
      "interest44 [0. 1.]\n",
      "interest45 [0. 1.]\n",
      "interest46 [0. 1.]\n",
      "interest47 [ 1. nan  2.]\n",
      "interest48 [nan  1.  2.]\n",
      "interest49 [0. 1.]\n",
      "interest50 [nan  1.  2.]\n",
      "interest51 [0. 1.]\n",
      "interest52 [0. 1.]\n",
      "interest53 [0. 1.]\n",
      "interest54 [0. 1.]\n",
      "interest55 [0. 1.]\n",
      "interest56 [0. 1.]\n",
      "interest57 [ 1. nan  2.]\n",
      "interest58 [ 1. nan  2.]\n",
      "interest59 [ 1. nan  2.]\n",
      "interest60 [0. 1.]\n",
      "interest61 [ 1. nan  2.]\n",
      "interest62 [nan  1.  2.]\n",
      "interest63 [nan  1.  2.]\n",
      "interest64 [ 1. nan  2.]\n",
      "interest65 [0. 1.]\n",
      "interest66 [ 1. nan  2.]\n",
      "interest67 [0. 1.]\n",
      "interest68 [0. 1.]\n",
      "interest69 [0. 1.]\n",
      "interest70 [nan  1.  2.]\n",
      "interest71 [nan  1.  2.]\n",
      "interest72 [0. 1.]\n",
      "interest73 [0. 1.]\n",
      "interest74 [0. 1.]\n",
      "interest75 [0. 1.]\n",
      "interest76 [0. 1.]\n",
      "interest77 [0. 1.]\n",
      "interest78 [nan  1.  2.]\n",
      "interest79 [nan  1.  2.]\n",
      "interest80 [ 1. nan  2.]\n",
      "interest81 [nan  1.  2.]\n",
      "interest82 [0. 1.]\n",
      "interest83 [ 1. nan  2.]\n",
      "interest84 [ 1. nan  2.]\n",
      "interest85 [0. 1.]\n",
      "interest86 [0. 1.]\n",
      "interest87 [0. 1.]\n",
      "interest88 [0. 1.]\n",
      "interest89 [nan  1.  2.]\n",
      "interest90 [nan  1.  2.]\n",
      "interest91 [0. 1.]\n",
      "interest92 [nan  1.  2.]\n",
      "interest93 [0. 1.]\n",
      "interest94 [0. 1.]\n",
      "interest95 [0. 1.]\n",
      "interest96 [0. 1.]\n",
      "interest97 [ 1. nan  2.]\n",
      "interest98 [0. 1.]\n",
      "interest99 [0. 1.]\n",
      "interest100 [0. 1.]\n",
      "interest101 [0. 1.]\n",
      "interest102 [0. 1.]\n",
      "interest103 [0. 1.]\n",
      "interest104 [nan  1.  2.]\n",
      "interest105 [0. 1.]\n",
      "interest106 [0. 1.]\n",
      "interest107 [0. 1.]\n",
      "interest108 [0. 1.]\n",
      "interest109 [nan  1.  2.]\n",
      "interest110 [ 1. nan  2.]\n",
      "interest111 [0. 1.]\n",
      "interest112 [nan  1.  2.]\n",
      "interest113 [0. 1.]\n",
      "interest114 [0. 1.]\n",
      "interest115 [nan  1.  2.]\n",
      "interest116 [0. 1.]\n",
      "interest117 [nan  1.  2.]\n",
      "interest118 [nan  1.  2.]\n",
      "interest119 [nan  1.  2.]\n",
      "interest120 [nan  1.  2.]\n",
      "interest121 [0. 1.]\n",
      "interest122 [0. 1.]\n",
      "interest123 [0. 1.]\n",
      "interest124 [nan  1.  2.]\n",
      "interest125 [0. 1.]\n",
      "interest126 [0. 1.]\n",
      "interest127 [nan  1.  2.]\n",
      "interest128 [0. 1.]\n",
      "interest129 [0. 1.]\n",
      "interest130 [0. 1.]\n",
      "interest131 [0. 1.]\n",
      "interest132 [0. 1.]\n",
      "interest133 [0. 1.]\n",
      "interest134 [0. 1.]\n",
      "interest135 [0. 1.]\n",
      "interest136 [0. 1.]\n",
      "interest137 [nan  1.  2.]\n",
      "interest138 [0. 1.]\n",
      "interest139 [nan  1.  2.]\n",
      "interest140 [0. 1.]\n",
      "interest141 [0. 1.]\n",
      "interest142 [nan  1.  2.]\n",
      "interest143 [0. 1.]\n",
      "interest144 [nan  1.  2.]\n",
      "interest145 [0. 1.]\n",
      "interest146 [0. 1.]\n",
      "interest147 [nan  1.  2.]\n",
      "interest148 [nan  1.  2.]\n",
      "interest149 [nan  1.  2.]\n",
      "interest150 [0. 1.]\n",
      "interest151 [0. 1.]\n",
      "interest152 [0. 1.]\n",
      "interest153 [0. 1.]\n",
      "interest154 [nan  1.  2.]\n",
      "interest155 [0. 1.]\n",
      "interest156 [0. 1.]\n",
      "interest157 [nan  1.  2.]\n",
      "interest158 [0. 1.]\n",
      "interest159 [0. 1.]\n",
      "interest160 [nan  1.  2.]\n",
      "interest161 [0. 1.]\n",
      "interest162 [ 1. nan  2.]\n",
      "interest163 [0. 1.]\n",
      "interest164 [nan  1.  2.]\n",
      "interest165 [0. 1.]\n",
      "interest166 [0. 1.]\n",
      "interest167 [0. 1.]\n",
      "interest168 [0. 1.]\n",
      "interest169 [0. 1.]\n",
      "interest170 [0. 1.]\n",
      "interest171 [0. 1.]\n",
      "interest172 [0. 1.]\n",
      "interest173 [0. 1.]\n",
      "interest174 [0. 1.]\n",
      "interest175 [0. 1.]\n",
      "interest176 [0. 1.]\n",
      "interest177 [0. 1.]\n",
      "interest178 [0. 1.]\n",
      "interest179 [0. 1.]\n",
      "interest180 [nan  1.  2.]\n",
      "interest181 [nan  1.  2.]\n",
      "interest182 [0. 1.]\n",
      "interest183 [ 1. nan  2.]\n",
      "interest184 [0. 1.]\n",
      "interest185 [0. 1.]\n",
      "interest186 [0. 1.]\n",
      "interest187 [0. 1.]\n",
      "interest188 [0. 1.]\n",
      "interest189 [nan  1.  2.]\n",
      "interest190 [0. 1.]\n",
      "interest191 [0. 1.]\n",
      "interest192 [0. 1.]\n",
      "interest193 [0. 1.]\n",
      "interest194 [0. 1.]\n",
      "interest195 [0. 1.]\n",
      "interest196 [0. 1.]\n",
      "interest197 [0. 1.]\n",
      "interest198 [0. 1.]\n",
      "interest199 [0. 1.]\n",
      "interest200 [nan  1.  2.]\n",
      "interest201 [0. 1.]\n",
      "interest202 [nan  1.  2.]\n",
      "interest203 [0. 1.]\n",
      "interest204 [nan  1.  2.]\n",
      "interest205 [nan  1.  2.]\n",
      "interest206 [0. 1.]\n",
      "interest207 [0. 1.]\n",
      "interest208 [nan  1.  2.]\n",
      "interest209 [0. 1.]\n",
      "interest210 [nan  1.  2.]\n",
      "interest211 [nan  1.  2.]\n",
      "interest212 [nan  1.  2.]\n",
      "interest213 [0. 1.]\n",
      "interest214 [0. 1.]\n",
      "interest215 [nan  1.  2.]\n",
      "interest216 [nan  1.  2.]\n",
      "interest217 [0. 1.]\n"
     ]
    }
   ],
   "source": [
    "for col in interests:\n",
    "    print(col, interests[col].unique())"
   ],
   "metadata": {
    "collapsed": false,
    "pycharm": {
     "name": "#%%\n"
    }
   }
  },
  {
   "cell_type": "markdown",
   "source": [
    "Após preencher os valores \"0\" sobrou NaN apenas em colunas onde os valores possiveis são [nan  1.  2.]\n",
    "removo essas colunas visto que a definição do dataset são perguntas apenas de verdadeiro e falso"
   ],
   "metadata": {
    "collapsed": false
   }
  },
  {
   "cell_type": "code",
   "execution_count": 10,
   "outputs": [],
   "source": [
    "b=[]\n",
    "for col in interests:\n",
    "    if interests[col].isnull().sum()>0:\n",
    "        b.append(col)\n",
    "    else:\n",
    "        pass\n",
    "interests=interests.drop(b,axis=1)"
   ],
   "metadata": {
    "collapsed": false,
    "pycharm": {
     "name": "#%%\n"
    }
   }
  },
  {
   "cell_type": "code",
   "execution_count": 11,
   "outputs": [
    {
     "name": "stdout",
     "output_type": "stream",
     "text": [
      "group ['C' 'P' 'R' 'I']\n",
      "grand_tot_interests [ 17  43  27  34  36   6  54   2  29  44  39  28  47  38  37  11  71  48\n",
      "   4   1  60  23  24  45  30  51  22   8  10  57  26  41  13  46  31  25\n",
      "  62  32  56  42  49  55   3  66  58  21  70  35  61  40  63  69  52  59\n",
      "  50  33   9  53  65  64  18  15  20  19  16  81  75  14  12  73  97   7\n",
      "  76  74   5  68  89  67  80 104  84  82  77  72  99]\n",
      "interest1 [0. 1.]\n",
      "interest2 [0. 1.]\n",
      "interest3 [0. 1.]\n",
      "interest4 [0. 1.]\n",
      "interest7 [0. 1.]\n",
      "interest8 [0. 1.]\n",
      "interest10 [0. 1.]\n",
      "interest11 [0. 1.]\n",
      "interest13 [0. 1.]\n",
      "interest14 [0. 1.]\n",
      "interest15 [0. 1.]\n",
      "interest17 [0. 1.]\n",
      "interest18 [0. 1.]\n",
      "interest19 [0. 1.]\n",
      "interest20 [0. 1.]\n",
      "interest22 [0. 1.]\n",
      "interest23 [0. 1.]\n",
      "interest24 [0. 1.]\n",
      "interest25 [0. 1.]\n",
      "interest26 [0. 1.]\n",
      "interest27 [0. 1.]\n",
      "interest28 [0. 1.]\n",
      "interest29 [0. 1.]\n",
      "interest30 [0. 1.]\n",
      "interest31 [0. 1.]\n",
      "interest32 [0. 1.]\n",
      "interest33 [0. 1.]\n",
      "interest34 [0. 1.]\n",
      "interest35 [0. 1.]\n",
      "interest36 [0. 1.]\n",
      "interest38 [0. 1.]\n",
      "interest39 [0. 1.]\n",
      "interest41 [0. 1.]\n",
      "interest42 [0. 1.]\n",
      "interest44 [0. 1.]\n",
      "interest45 [0. 1.]\n",
      "interest46 [0. 1.]\n",
      "interest49 [0. 1.]\n",
      "interest51 [0. 1.]\n",
      "interest52 [0. 1.]\n",
      "interest53 [0. 1.]\n",
      "interest54 [0. 1.]\n",
      "interest55 [0. 1.]\n",
      "interest56 [0. 1.]\n",
      "interest60 [0. 1.]\n",
      "interest65 [0. 1.]\n",
      "interest67 [0. 1.]\n",
      "interest68 [0. 1.]\n",
      "interest69 [0. 1.]\n",
      "interest72 [0. 1.]\n",
      "interest73 [0. 1.]\n",
      "interest74 [0. 1.]\n",
      "interest75 [0. 1.]\n",
      "interest76 [0. 1.]\n",
      "interest77 [0. 1.]\n",
      "interest82 [0. 1.]\n",
      "interest85 [0. 1.]\n",
      "interest86 [0. 1.]\n",
      "interest87 [0. 1.]\n",
      "interest88 [0. 1.]\n",
      "interest91 [0. 1.]\n",
      "interest93 [0. 1.]\n",
      "interest94 [0. 1.]\n",
      "interest95 [0. 1.]\n",
      "interest96 [0. 1.]\n",
      "interest98 [0. 1.]\n",
      "interest99 [0. 1.]\n",
      "interest100 [0. 1.]\n",
      "interest101 [0. 1.]\n",
      "interest102 [0. 1.]\n",
      "interest103 [0. 1.]\n",
      "interest105 [0. 1.]\n",
      "interest106 [0. 1.]\n",
      "interest107 [0. 1.]\n",
      "interest108 [0. 1.]\n",
      "interest111 [0. 1.]\n",
      "interest113 [0. 1.]\n",
      "interest114 [0. 1.]\n",
      "interest116 [0. 1.]\n",
      "interest121 [0. 1.]\n",
      "interest122 [0. 1.]\n",
      "interest123 [0. 1.]\n",
      "interest125 [0. 1.]\n",
      "interest126 [0. 1.]\n",
      "interest128 [0. 1.]\n",
      "interest129 [0. 1.]\n",
      "interest130 [0. 1.]\n",
      "interest131 [0. 1.]\n",
      "interest132 [0. 1.]\n",
      "interest133 [0. 1.]\n",
      "interest134 [0. 1.]\n",
      "interest135 [0. 1.]\n",
      "interest136 [0. 1.]\n",
      "interest138 [0. 1.]\n",
      "interest140 [0. 1.]\n",
      "interest141 [0. 1.]\n",
      "interest143 [0. 1.]\n",
      "interest145 [0. 1.]\n",
      "interest146 [0. 1.]\n",
      "interest150 [0. 1.]\n",
      "interest151 [0. 1.]\n",
      "interest152 [0. 1.]\n",
      "interest153 [0. 1.]\n",
      "interest155 [0. 1.]\n",
      "interest156 [0. 1.]\n",
      "interest158 [0. 1.]\n",
      "interest159 [0. 1.]\n",
      "interest161 [0. 1.]\n",
      "interest163 [0. 1.]\n",
      "interest165 [0. 1.]\n",
      "interest166 [0. 1.]\n",
      "interest167 [0. 1.]\n",
      "interest168 [0. 1.]\n",
      "interest169 [0. 1.]\n",
      "interest170 [0. 1.]\n",
      "interest171 [0. 1.]\n",
      "interest172 [0. 1.]\n",
      "interest173 [0. 1.]\n",
      "interest174 [0. 1.]\n",
      "interest175 [0. 1.]\n",
      "interest176 [0. 1.]\n",
      "interest177 [0. 1.]\n",
      "interest178 [0. 1.]\n",
      "interest179 [0. 1.]\n",
      "interest182 [0. 1.]\n",
      "interest184 [0. 1.]\n",
      "interest185 [0. 1.]\n",
      "interest186 [0. 1.]\n",
      "interest187 [0. 1.]\n",
      "interest188 [0. 1.]\n",
      "interest190 [0. 1.]\n",
      "interest191 [0. 1.]\n",
      "interest192 [0. 1.]\n",
      "interest193 [0. 1.]\n",
      "interest194 [0. 1.]\n",
      "interest195 [0. 1.]\n",
      "interest196 [0. 1.]\n",
      "interest197 [0. 1.]\n",
      "interest198 [0. 1.]\n",
      "interest199 [0. 1.]\n",
      "interest201 [0. 1.]\n",
      "interest203 [0. 1.]\n",
      "interest206 [0. 1.]\n",
      "interest207 [0. 1.]\n",
      "interest209 [0. 1.]\n",
      "interest213 [0. 1.]\n",
      "interest214 [0. 1.]\n",
      "interest217 [0. 1.]\n"
     ]
    }
   ],
   "source": [
    "for col in interests:\n",
    "    print(col, interests[col].unique())"
   ],
   "metadata": {
    "collapsed": false,
    "pycharm": {
     "name": "#%%\n"
    }
   }
  },
  {
   "cell_type": "markdown",
   "source": [
    "Após este passo realizo a discretização da variavel do grupo das pessoas"
   ],
   "metadata": {
    "collapsed": false
   }
  },
  {
   "cell_type": "code",
   "execution_count": 12,
   "outputs": [],
   "source": [
    "interests['group'] = interests['group'].map({'C':0,'P':1,'R':2,'I':3})"
   ],
   "metadata": {
    "collapsed": false,
    "pycharm": {
     "name": "#%%\n"
    }
   }
  },
  {
   "cell_type": "markdown",
   "source": [
    "### Neste momento os dados estão pré-processados"
   ],
   "metadata": {
    "collapsed": false,
    "pycharm": {
     "name": "#%% md\n"
    }
   }
  },
  {
   "cell_type": "code",
   "execution_count": 13,
   "outputs": [
    {
     "data": {
      "text/plain": "             group  grand_tot_interests    interest1    interest2  \\\ncount  6340.000000          6340.000000  6340.000000  6340.000000   \nmean      1.468139            37.312303     0.156625     0.000158   \nstd       1.167915            15.729872     0.363475     0.012559   \nmin       0.000000             1.000000     0.000000     0.000000   \n25%       0.000000            28.000000     0.000000     0.000000   \n50%       1.000000            39.000000     0.000000     0.000000   \n75%       3.000000            48.000000     0.000000     0.000000   \nmax       3.000000           104.000000     1.000000     1.000000   \n\n         interest3    interest4    interest7    interest8   interest10  \\\ncount  6340.000000  6340.000000  6340.000000  6340.000000  6340.000000   \nmean      0.005521     0.003943     0.000158     0.014669     0.000158   \nstd       0.074101     0.062676     0.012559     0.120233     0.012559   \nmin       0.000000     0.000000     0.000000     0.000000     0.000000   \n25%       0.000000     0.000000     0.000000     0.000000     0.000000   \n50%       0.000000     0.000000     0.000000     0.000000     0.000000   \n75%       0.000000     0.000000     0.000000     0.000000     0.000000   \nmax       1.000000     1.000000     1.000000     1.000000     1.000000   \n\n        interest11  ...  interest198  interest199  interest201  interest203  \\\ncount  6340.000000  ...  6340.000000  6340.000000  6340.000000  6340.000000   \nmean      0.027603  ...     0.002524     0.005836     0.263565     0.004101   \nstd       0.163844  ...     0.050177     0.076176     0.440601     0.063912   \nmin       0.000000  ...     0.000000     0.000000     0.000000     0.000000   \n25%       0.000000  ...     0.000000     0.000000     0.000000     0.000000   \n50%       0.000000  ...     0.000000     0.000000     0.000000     0.000000   \n75%       0.000000  ...     0.000000     0.000000     1.000000     0.000000   \nmax       1.000000  ...     1.000000     1.000000     1.000000     1.000000   \n\n       interest206  interest207  interest209  interest213  interest214  \\\ncount  6340.000000  6340.000000  6340.000000  6340.000000  6340.000000   \nmean      0.001104     0.000158     0.017350     0.000315     0.011356   \nstd       0.033212     0.012559     0.130583     0.017760     0.105968   \nmin       0.000000     0.000000     0.000000     0.000000     0.000000   \n25%       0.000000     0.000000     0.000000     0.000000     0.000000   \n50%       0.000000     0.000000     0.000000     0.000000     0.000000   \n75%       0.000000     0.000000     0.000000     0.000000     0.000000   \nmax       1.000000     1.000000     1.000000     1.000000     1.000000   \n\n       interest217  \ncount  6340.000000  \nmean      0.023186  \nstd       0.150506  \nmin       0.000000  \n25%       0.000000  \n50%       0.000000  \n75%       0.000000  \nmax       1.000000  \n\n[8 rows x 150 columns]",
      "text/html": "<div>\n<style scoped>\n    .dataframe tbody tr th:only-of-type {\n        vertical-align: middle;\n    }\n\n    .dataframe tbody tr th {\n        vertical-align: top;\n    }\n\n    .dataframe thead th {\n        text-align: right;\n    }\n</style>\n<table border=\"1\" class=\"dataframe\">\n  <thead>\n    <tr style=\"text-align: right;\">\n      <th></th>\n      <th>group</th>\n      <th>grand_tot_interests</th>\n      <th>interest1</th>\n      <th>interest2</th>\n      <th>interest3</th>\n      <th>interest4</th>\n      <th>interest7</th>\n      <th>interest8</th>\n      <th>interest10</th>\n      <th>interest11</th>\n      <th>...</th>\n      <th>interest198</th>\n      <th>interest199</th>\n      <th>interest201</th>\n      <th>interest203</th>\n      <th>interest206</th>\n      <th>interest207</th>\n      <th>interest209</th>\n      <th>interest213</th>\n      <th>interest214</th>\n      <th>interest217</th>\n    </tr>\n  </thead>\n  <tbody>\n    <tr>\n      <th>count</th>\n      <td>6340.000000</td>\n      <td>6340.000000</td>\n      <td>6340.000000</td>\n      <td>6340.000000</td>\n      <td>6340.000000</td>\n      <td>6340.000000</td>\n      <td>6340.000000</td>\n      <td>6340.000000</td>\n      <td>6340.000000</td>\n      <td>6340.000000</td>\n      <td>...</td>\n      <td>6340.000000</td>\n      <td>6340.000000</td>\n      <td>6340.000000</td>\n      <td>6340.000000</td>\n      <td>6340.000000</td>\n      <td>6340.000000</td>\n      <td>6340.000000</td>\n      <td>6340.000000</td>\n      <td>6340.000000</td>\n      <td>6340.000000</td>\n    </tr>\n    <tr>\n      <th>mean</th>\n      <td>1.468139</td>\n      <td>37.312303</td>\n      <td>0.156625</td>\n      <td>0.000158</td>\n      <td>0.005521</td>\n      <td>0.003943</td>\n      <td>0.000158</td>\n      <td>0.014669</td>\n      <td>0.000158</td>\n      <td>0.027603</td>\n      <td>...</td>\n      <td>0.002524</td>\n      <td>0.005836</td>\n      <td>0.263565</td>\n      <td>0.004101</td>\n      <td>0.001104</td>\n      <td>0.000158</td>\n      <td>0.017350</td>\n      <td>0.000315</td>\n      <td>0.011356</td>\n      <td>0.023186</td>\n    </tr>\n    <tr>\n      <th>std</th>\n      <td>1.167915</td>\n      <td>15.729872</td>\n      <td>0.363475</td>\n      <td>0.012559</td>\n      <td>0.074101</td>\n      <td>0.062676</td>\n      <td>0.012559</td>\n      <td>0.120233</td>\n      <td>0.012559</td>\n      <td>0.163844</td>\n      <td>...</td>\n      <td>0.050177</td>\n      <td>0.076176</td>\n      <td>0.440601</td>\n      <td>0.063912</td>\n      <td>0.033212</td>\n      <td>0.012559</td>\n      <td>0.130583</td>\n      <td>0.017760</td>\n      <td>0.105968</td>\n      <td>0.150506</td>\n    </tr>\n    <tr>\n      <th>min</th>\n      <td>0.000000</td>\n      <td>1.000000</td>\n      <td>0.000000</td>\n      <td>0.000000</td>\n      <td>0.000000</td>\n      <td>0.000000</td>\n      <td>0.000000</td>\n      <td>0.000000</td>\n      <td>0.000000</td>\n      <td>0.000000</td>\n      <td>...</td>\n      <td>0.000000</td>\n      <td>0.000000</td>\n      <td>0.000000</td>\n      <td>0.000000</td>\n      <td>0.000000</td>\n      <td>0.000000</td>\n      <td>0.000000</td>\n      <td>0.000000</td>\n      <td>0.000000</td>\n      <td>0.000000</td>\n    </tr>\n    <tr>\n      <th>25%</th>\n      <td>0.000000</td>\n      <td>28.000000</td>\n      <td>0.000000</td>\n      <td>0.000000</td>\n      <td>0.000000</td>\n      <td>0.000000</td>\n      <td>0.000000</td>\n      <td>0.000000</td>\n      <td>0.000000</td>\n      <td>0.000000</td>\n      <td>...</td>\n      <td>0.000000</td>\n      <td>0.000000</td>\n      <td>0.000000</td>\n      <td>0.000000</td>\n      <td>0.000000</td>\n      <td>0.000000</td>\n      <td>0.000000</td>\n      <td>0.000000</td>\n      <td>0.000000</td>\n      <td>0.000000</td>\n    </tr>\n    <tr>\n      <th>50%</th>\n      <td>1.000000</td>\n      <td>39.000000</td>\n      <td>0.000000</td>\n      <td>0.000000</td>\n      <td>0.000000</td>\n      <td>0.000000</td>\n      <td>0.000000</td>\n      <td>0.000000</td>\n      <td>0.000000</td>\n      <td>0.000000</td>\n      <td>...</td>\n      <td>0.000000</td>\n      <td>0.000000</td>\n      <td>0.000000</td>\n      <td>0.000000</td>\n      <td>0.000000</td>\n      <td>0.000000</td>\n      <td>0.000000</td>\n      <td>0.000000</td>\n      <td>0.000000</td>\n      <td>0.000000</td>\n    </tr>\n    <tr>\n      <th>75%</th>\n      <td>3.000000</td>\n      <td>48.000000</td>\n      <td>0.000000</td>\n      <td>0.000000</td>\n      <td>0.000000</td>\n      <td>0.000000</td>\n      <td>0.000000</td>\n      <td>0.000000</td>\n      <td>0.000000</td>\n      <td>0.000000</td>\n      <td>...</td>\n      <td>0.000000</td>\n      <td>0.000000</td>\n      <td>1.000000</td>\n      <td>0.000000</td>\n      <td>0.000000</td>\n      <td>0.000000</td>\n      <td>0.000000</td>\n      <td>0.000000</td>\n      <td>0.000000</td>\n      <td>0.000000</td>\n    </tr>\n    <tr>\n      <th>max</th>\n      <td>3.000000</td>\n      <td>104.000000</td>\n      <td>1.000000</td>\n      <td>1.000000</td>\n      <td>1.000000</td>\n      <td>1.000000</td>\n      <td>1.000000</td>\n      <td>1.000000</td>\n      <td>1.000000</td>\n      <td>1.000000</td>\n      <td>...</td>\n      <td>1.000000</td>\n      <td>1.000000</td>\n      <td>1.000000</td>\n      <td>1.000000</td>\n      <td>1.000000</td>\n      <td>1.000000</td>\n      <td>1.000000</td>\n      <td>1.000000</td>\n      <td>1.000000</td>\n      <td>1.000000</td>\n    </tr>\n  </tbody>\n</table>\n<p>8 rows × 150 columns</p>\n</div>"
     },
     "execution_count": 13,
     "metadata": {},
     "output_type": "execute_result"
    }
   ],
   "source": [
    "interests.describe()"
   ],
   "metadata": {
    "collapsed": false,
    "pycharm": {
     "name": "#%%\n"
    }
   }
  },
  {
   "cell_type": "code",
   "execution_count": 14,
   "outputs": [],
   "source": [
    "data =  interests.drop(columns=['grand_tot_interests'])\n",
    "data_x = data.drop(columns=['group'])\n",
    "data_y = data.group"
   ],
   "metadata": {
    "collapsed": false,
    "pycharm": {
     "name": "#%%\n"
    }
   }
  },
  {
   "cell_type": "markdown",
   "source": [
    "### 2.2 Análise estatística"
   ],
   "metadata": {
    "collapsed": false,
    "pycharm": {
     "name": "#%% md\n"
    }
   }
  },
  {
   "cell_type": "markdown",
   "source": [
    "### 2.5 Escalonando"
   ],
   "metadata": {
    "collapsed": false,
    "pycharm": {
     "name": "#%% md\n"
    }
   }
  },
  {
   "cell_type": "markdown",
   "source": [
    "Para aplicação dos algoritmos escalona-se os dados afim de parametriza-los num certo intervalor (-1 a 1)"
   ],
   "metadata": {
    "collapsed": false
   }
  },
  {
   "cell_type": "code",
   "execution_count": 15,
   "outputs": [],
   "source": [
    "scaler = preprocessing.StandardScaler()\n",
    "data_scaler = scaler.fit_transform(X = data_x)"
   ],
   "metadata": {
    "collapsed": false,
    "pycharm": {
     "name": "#%%\n"
    }
   }
  },
  {
   "cell_type": "code",
   "execution_count": 16,
   "outputs": [
    {
     "data": {
      "text/plain": "array([[-0.4309427 , -0.01256   , -0.07450604, ..., -0.01776392,\n        -0.10717704, -0.15406647],\n       [ 2.3204941 , -0.01256   , -0.07450604, ..., -0.01776392,\n        -0.10717704, -0.15406647],\n       [-0.4309427 , -0.01256   , -0.07450604, ..., -0.01776392,\n        -0.10717704, -0.15406647],\n       ...,\n       [-0.4309427 , -0.01256   , -0.07450604, ..., -0.01776392,\n        -0.10717704, -0.15406647],\n       [-0.4309427 , -0.01256   , -0.07450604, ..., -0.01776392,\n        -0.10717704, -0.15406647],\n       [ 2.3204941 , -0.01256   , -0.07450604, ..., -0.01776392,\n        -0.10717704, -0.15406647]])"
     },
     "execution_count": 16,
     "metadata": {},
     "output_type": "execute_result"
    }
   ],
   "source": [
    "data_scaler"
   ],
   "metadata": {
    "collapsed": false,
    "pycharm": {
     "name": "#%%\n"
    }
   }
  },
  {
   "cell_type": "code",
   "execution_count": 17,
   "outputs": [
    {
     "data": {
      "text/plain": "        0        1         2         3        4         5        6    \\\n0 -0.430943 -0.01256 -0.074506 -0.062919 -0.01256 -0.122013 -0.01256   \n1  2.320494 -0.01256 -0.074506 -0.062919 -0.01256 -0.122013 -0.01256   \n2 -0.430943 -0.01256 -0.074506 -0.062919 -0.01256 -0.122013 -0.01256   \n3 -0.430943 -0.01256 -0.074506 -0.062919 -0.01256 -0.122013 -0.01256   \n4 -0.430943 -0.01256 -0.074506 -0.062919 -0.01256 -0.122013 -0.01256   \n\n        7         8        9    ...     138       139       140      141  \\\n0 -0.168482 -0.053359 -0.24716  ... -0.0503 -0.076617 -0.598241 -0.06417   \n1 -0.168482 -0.053359 -0.24716  ... -0.0503 -0.076617  1.671567 -0.06417   \n2 -0.168482 -0.053359 -0.24716  ... -0.0503 -0.076617 -0.598241 -0.06417   \n3 -0.168482 -0.053359 -0.24716  ... -0.0503 -0.076617  1.671567 -0.06417   \n4  5.935366 -0.053359 -0.24716  ... -0.0503 -0.076617 -0.598241 -0.06417   \n\n        142      143       144       145       146       147  \n0 -0.033246 -0.01256 -0.132878 -0.017764 -0.107177 -0.154066  \n1 -0.033246 -0.01256 -0.132878 -0.017764 -0.107177 -0.154066  \n2 -0.033246 -0.01256 -0.132878 -0.017764 -0.107177 -0.154066  \n3 -0.033246 -0.01256 -0.132878 -0.017764 -0.107177 -0.154066  \n4 -0.033246 -0.01256 -0.132878 -0.017764 -0.107177 -0.154066  \n\n[5 rows x 148 columns]",
      "text/html": "<div>\n<style scoped>\n    .dataframe tbody tr th:only-of-type {\n        vertical-align: middle;\n    }\n\n    .dataframe tbody tr th {\n        vertical-align: top;\n    }\n\n    .dataframe thead th {\n        text-align: right;\n    }\n</style>\n<table border=\"1\" class=\"dataframe\">\n  <thead>\n    <tr style=\"text-align: right;\">\n      <th></th>\n      <th>0</th>\n      <th>1</th>\n      <th>2</th>\n      <th>3</th>\n      <th>4</th>\n      <th>5</th>\n      <th>6</th>\n      <th>7</th>\n      <th>8</th>\n      <th>9</th>\n      <th>...</th>\n      <th>138</th>\n      <th>139</th>\n      <th>140</th>\n      <th>141</th>\n      <th>142</th>\n      <th>143</th>\n      <th>144</th>\n      <th>145</th>\n      <th>146</th>\n      <th>147</th>\n    </tr>\n  </thead>\n  <tbody>\n    <tr>\n      <th>0</th>\n      <td>-0.430943</td>\n      <td>-0.01256</td>\n      <td>-0.074506</td>\n      <td>-0.062919</td>\n      <td>-0.01256</td>\n      <td>-0.122013</td>\n      <td>-0.01256</td>\n      <td>-0.168482</td>\n      <td>-0.053359</td>\n      <td>-0.24716</td>\n      <td>...</td>\n      <td>-0.0503</td>\n      <td>-0.076617</td>\n      <td>-0.598241</td>\n      <td>-0.06417</td>\n      <td>-0.033246</td>\n      <td>-0.01256</td>\n      <td>-0.132878</td>\n      <td>-0.017764</td>\n      <td>-0.107177</td>\n      <td>-0.154066</td>\n    </tr>\n    <tr>\n      <th>1</th>\n      <td>2.320494</td>\n      <td>-0.01256</td>\n      <td>-0.074506</td>\n      <td>-0.062919</td>\n      <td>-0.01256</td>\n      <td>-0.122013</td>\n      <td>-0.01256</td>\n      <td>-0.168482</td>\n      <td>-0.053359</td>\n      <td>-0.24716</td>\n      <td>...</td>\n      <td>-0.0503</td>\n      <td>-0.076617</td>\n      <td>1.671567</td>\n      <td>-0.06417</td>\n      <td>-0.033246</td>\n      <td>-0.01256</td>\n      <td>-0.132878</td>\n      <td>-0.017764</td>\n      <td>-0.107177</td>\n      <td>-0.154066</td>\n    </tr>\n    <tr>\n      <th>2</th>\n      <td>-0.430943</td>\n      <td>-0.01256</td>\n      <td>-0.074506</td>\n      <td>-0.062919</td>\n      <td>-0.01256</td>\n      <td>-0.122013</td>\n      <td>-0.01256</td>\n      <td>-0.168482</td>\n      <td>-0.053359</td>\n      <td>-0.24716</td>\n      <td>...</td>\n      <td>-0.0503</td>\n      <td>-0.076617</td>\n      <td>-0.598241</td>\n      <td>-0.06417</td>\n      <td>-0.033246</td>\n      <td>-0.01256</td>\n      <td>-0.132878</td>\n      <td>-0.017764</td>\n      <td>-0.107177</td>\n      <td>-0.154066</td>\n    </tr>\n    <tr>\n      <th>3</th>\n      <td>-0.430943</td>\n      <td>-0.01256</td>\n      <td>-0.074506</td>\n      <td>-0.062919</td>\n      <td>-0.01256</td>\n      <td>-0.122013</td>\n      <td>-0.01256</td>\n      <td>-0.168482</td>\n      <td>-0.053359</td>\n      <td>-0.24716</td>\n      <td>...</td>\n      <td>-0.0503</td>\n      <td>-0.076617</td>\n      <td>1.671567</td>\n      <td>-0.06417</td>\n      <td>-0.033246</td>\n      <td>-0.01256</td>\n      <td>-0.132878</td>\n      <td>-0.017764</td>\n      <td>-0.107177</td>\n      <td>-0.154066</td>\n    </tr>\n    <tr>\n      <th>4</th>\n      <td>-0.430943</td>\n      <td>-0.01256</td>\n      <td>-0.074506</td>\n      <td>-0.062919</td>\n      <td>-0.01256</td>\n      <td>-0.122013</td>\n      <td>-0.01256</td>\n      <td>5.935366</td>\n      <td>-0.053359</td>\n      <td>-0.24716</td>\n      <td>...</td>\n      <td>-0.0503</td>\n      <td>-0.076617</td>\n      <td>-0.598241</td>\n      <td>-0.06417</td>\n      <td>-0.033246</td>\n      <td>-0.01256</td>\n      <td>-0.132878</td>\n      <td>-0.017764</td>\n      <td>-0.107177</td>\n      <td>-0.154066</td>\n    </tr>\n  </tbody>\n</table>\n<p>5 rows × 148 columns</p>\n</div>"
     },
     "execution_count": 17,
     "metadata": {},
     "output_type": "execute_result"
    }
   ],
   "source": [
    "data_scaled = pd.DataFrame(data_scaler)\n",
    "data_scaled.head()"
   ],
   "metadata": {
    "collapsed": false,
    "pycharm": {
     "name": "#%%\n"
    }
   }
  },
  {
   "cell_type": "markdown",
   "source": [
    "#### 2.2.1 Correlação"
   ],
   "metadata": {
    "collapsed": false
   }
  },
  {
   "cell_type": "markdown",
   "source": [
    "Por correlação é possivel observar que há atributos com alguma correlação significante"
   ],
   "metadata": {
    "collapsed": false
   }
  },
  {
   "cell_type": "code",
   "execution_count": 18,
   "outputs": [
    {
     "data": {
      "text/plain": "                        group  grand_tot_interests  interest1  interest2  \\\ngroup                1.000000             0.120932   0.035726   0.016475   \ngrand_tot_interests  0.120932             1.000000   0.196809   0.026103   \ninterest1            0.035726             0.196809   1.000000   0.029145   \ninterest2            0.016475             0.026103   0.029145   1.000000   \ninterest3           -0.020753             0.067274   0.026463   0.168577   \n...                       ...                  ...        ...        ...   \ninterest207          0.005720             0.049260   0.029145  -0.000158   \ninterest209         -0.065679             0.076006   0.019182  -0.001669   \ninterest213          0.000485             0.004730   0.016783  -0.000223   \ninterest214         -0.107971             0.081629  -0.001134  -0.001346   \ninterest217         -0.035734             0.107488  -0.002952  -0.001935   \n\n                     interest3  interest4  interest7  interest8  interest10  \\\ngroup                -0.020753  -0.010136  -0.005035   0.021865   -0.015790   \ngrand_tot_interests   0.067274   0.125960   0.014923   0.149472    0.022908   \ninterest1             0.026463   0.035208   0.029145   0.019615   -0.005413   \ninterest2             0.168577  -0.000790  -0.000158  -0.001532   -0.000158   \ninterest3             1.000000   0.029279  -0.000936   0.008616   -0.000936   \n...                        ...        ...        ...        ...         ...   \ninterest207           0.168577   0.199621  -0.000158  -0.001532   -0.000158   \ninterest209           0.022706  -0.008361  -0.001669   0.013931   -0.001669   \ninterest213          -0.001324  -0.001118  -0.000223  -0.002167   -0.000223   \ninterest214           0.032195   0.017009  -0.001346   0.011686   -0.001346   \ninterest217           0.002666  -0.009694  -0.001935   0.016073   -0.001935   \n\n                     interest11  ...  interest198  interest199  interest201  \\\ngroup                 -0.005708  ...    -0.057851     0.001204     0.406732   \ngrand_tot_interests    0.148578  ...     0.068557     0.081816     0.360916   \ninterest1              0.022756  ...    -0.013026     0.012562     0.037708   \ninterest2             -0.002116  ...    -0.000632    -0.000962     0.020995   \ninterest3              0.026428  ...     0.038681     0.022239     0.023073   \n...                         ...  ...          ...          ...          ...   \ninterest207           -0.002116  ...    -0.000632    -0.000962    -0.007514   \ninterest209            0.051346  ...     0.185928     0.021537     0.019215   \ninterest213           -0.002993  ...    -0.000894    -0.001361    -0.010627   \ninterest214            0.072803  ...     0.202292     0.011331    -0.010057   \ninterest217           -0.006766  ...    -0.007749     0.001955    -0.020801   \n\n                     interest203  interest206  interest207  interest209  \\\ngroup                  -0.004590    -0.009260     0.005720    -0.065679   \ngrand_tot_interests     0.097741     0.059431     0.049260     0.076006   \ninterest1               0.033463    -0.001259     0.029145     0.019182   \ninterest2              -0.000806    -0.000418    -0.000158    -0.001669   \ninterest3               0.028529     0.061623     0.168577     0.022706   \n...                          ...          ...          ...          ...   \ninterest207             0.195729     0.377786     1.000000    -0.001669   \ninterest209             0.010375     0.031957    -0.001669     1.000000   \ninterest213            -0.001140    -0.000591    -0.000223    -0.002360   \ninterest214            -0.006878    -0.003563    -0.001346     0.111162   \ninterest217            -0.009886     0.026437    -0.001935    -0.012445   \n\n                     interest213  interest214  interest217  \ngroup                   0.000485    -0.107971    -0.035734  \ngrand_tot_interests     0.004730     0.081629     0.107488  \ninterest1               0.016783    -0.001134    -0.002952  \ninterest2              -0.000223    -0.001346    -0.001935  \ninterest3              -0.001324     0.032195     0.002666  \n...                          ...          ...          ...  \ninterest207            -0.000223    -0.001346    -0.001935  \ninterest209            -0.002360     0.111162    -0.012445  \ninterest213             1.000000    -0.001904    -0.002737  \ninterest214            -0.001904     1.000000    -0.006621  \ninterest217            -0.002737    -0.006621     1.000000  \n\n[150 rows x 150 columns]",
      "text/html": "<div>\n<style scoped>\n    .dataframe tbody tr th:only-of-type {\n        vertical-align: middle;\n    }\n\n    .dataframe tbody tr th {\n        vertical-align: top;\n    }\n\n    .dataframe thead th {\n        text-align: right;\n    }\n</style>\n<table border=\"1\" class=\"dataframe\">\n  <thead>\n    <tr style=\"text-align: right;\">\n      <th></th>\n      <th>group</th>\n      <th>grand_tot_interests</th>\n      <th>interest1</th>\n      <th>interest2</th>\n      <th>interest3</th>\n      <th>interest4</th>\n      <th>interest7</th>\n      <th>interest8</th>\n      <th>interest10</th>\n      <th>interest11</th>\n      <th>...</th>\n      <th>interest198</th>\n      <th>interest199</th>\n      <th>interest201</th>\n      <th>interest203</th>\n      <th>interest206</th>\n      <th>interest207</th>\n      <th>interest209</th>\n      <th>interest213</th>\n      <th>interest214</th>\n      <th>interest217</th>\n    </tr>\n  </thead>\n  <tbody>\n    <tr>\n      <th>group</th>\n      <td>1.000000</td>\n      <td>0.120932</td>\n      <td>0.035726</td>\n      <td>0.016475</td>\n      <td>-0.020753</td>\n      <td>-0.010136</td>\n      <td>-0.005035</td>\n      <td>0.021865</td>\n      <td>-0.015790</td>\n      <td>-0.005708</td>\n      <td>...</td>\n      <td>-0.057851</td>\n      <td>0.001204</td>\n      <td>0.406732</td>\n      <td>-0.004590</td>\n      <td>-0.009260</td>\n      <td>0.005720</td>\n      <td>-0.065679</td>\n      <td>0.000485</td>\n      <td>-0.107971</td>\n      <td>-0.035734</td>\n    </tr>\n    <tr>\n      <th>grand_tot_interests</th>\n      <td>0.120932</td>\n      <td>1.000000</td>\n      <td>0.196809</td>\n      <td>0.026103</td>\n      <td>0.067274</td>\n      <td>0.125960</td>\n      <td>0.014923</td>\n      <td>0.149472</td>\n      <td>0.022908</td>\n      <td>0.148578</td>\n      <td>...</td>\n      <td>0.068557</td>\n      <td>0.081816</td>\n      <td>0.360916</td>\n      <td>0.097741</td>\n      <td>0.059431</td>\n      <td>0.049260</td>\n      <td>0.076006</td>\n      <td>0.004730</td>\n      <td>0.081629</td>\n      <td>0.107488</td>\n    </tr>\n    <tr>\n      <th>interest1</th>\n      <td>0.035726</td>\n      <td>0.196809</td>\n      <td>1.000000</td>\n      <td>0.029145</td>\n      <td>0.026463</td>\n      <td>0.035208</td>\n      <td>0.029145</td>\n      <td>0.019615</td>\n      <td>-0.005413</td>\n      <td>0.022756</td>\n      <td>...</td>\n      <td>-0.013026</td>\n      <td>0.012562</td>\n      <td>0.037708</td>\n      <td>0.033463</td>\n      <td>-0.001259</td>\n      <td>0.029145</td>\n      <td>0.019182</td>\n      <td>0.016783</td>\n      <td>-0.001134</td>\n      <td>-0.002952</td>\n    </tr>\n    <tr>\n      <th>interest2</th>\n      <td>0.016475</td>\n      <td>0.026103</td>\n      <td>0.029145</td>\n      <td>1.000000</td>\n      <td>0.168577</td>\n      <td>-0.000790</td>\n      <td>-0.000158</td>\n      <td>-0.001532</td>\n      <td>-0.000158</td>\n      <td>-0.002116</td>\n      <td>...</td>\n      <td>-0.000632</td>\n      <td>-0.000962</td>\n      <td>0.020995</td>\n      <td>-0.000806</td>\n      <td>-0.000418</td>\n      <td>-0.000158</td>\n      <td>-0.001669</td>\n      <td>-0.000223</td>\n      <td>-0.001346</td>\n      <td>-0.001935</td>\n    </tr>\n    <tr>\n      <th>interest3</th>\n      <td>-0.020753</td>\n      <td>0.067274</td>\n      <td>0.026463</td>\n      <td>0.168577</td>\n      <td>1.000000</td>\n      <td>0.029279</td>\n      <td>-0.000936</td>\n      <td>0.008616</td>\n      <td>-0.000936</td>\n      <td>0.026428</td>\n      <td>...</td>\n      <td>0.038681</td>\n      <td>0.022239</td>\n      <td>0.023073</td>\n      <td>0.028529</td>\n      <td>0.061623</td>\n      <td>0.168577</td>\n      <td>0.022706</td>\n      <td>-0.001324</td>\n      <td>0.032195</td>\n      <td>0.002666</td>\n    </tr>\n    <tr>\n      <th>...</th>\n      <td>...</td>\n      <td>...</td>\n      <td>...</td>\n      <td>...</td>\n      <td>...</td>\n      <td>...</td>\n      <td>...</td>\n      <td>...</td>\n      <td>...</td>\n      <td>...</td>\n      <td>...</td>\n      <td>...</td>\n      <td>...</td>\n      <td>...</td>\n      <td>...</td>\n      <td>...</td>\n      <td>...</td>\n      <td>...</td>\n      <td>...</td>\n      <td>...</td>\n      <td>...</td>\n    </tr>\n    <tr>\n      <th>interest207</th>\n      <td>0.005720</td>\n      <td>0.049260</td>\n      <td>0.029145</td>\n      <td>-0.000158</td>\n      <td>0.168577</td>\n      <td>0.199621</td>\n      <td>-0.000158</td>\n      <td>-0.001532</td>\n      <td>-0.000158</td>\n      <td>-0.002116</td>\n      <td>...</td>\n      <td>-0.000632</td>\n      <td>-0.000962</td>\n      <td>-0.007514</td>\n      <td>0.195729</td>\n      <td>0.377786</td>\n      <td>1.000000</td>\n      <td>-0.001669</td>\n      <td>-0.000223</td>\n      <td>-0.001346</td>\n      <td>-0.001935</td>\n    </tr>\n    <tr>\n      <th>interest209</th>\n      <td>-0.065679</td>\n      <td>0.076006</td>\n      <td>0.019182</td>\n      <td>-0.001669</td>\n      <td>0.022706</td>\n      <td>-0.008361</td>\n      <td>-0.001669</td>\n      <td>0.013931</td>\n      <td>-0.001669</td>\n      <td>0.051346</td>\n      <td>...</td>\n      <td>0.185928</td>\n      <td>0.021537</td>\n      <td>0.019215</td>\n      <td>0.010375</td>\n      <td>0.031957</td>\n      <td>-0.001669</td>\n      <td>1.000000</td>\n      <td>-0.002360</td>\n      <td>0.111162</td>\n      <td>-0.012445</td>\n    </tr>\n    <tr>\n      <th>interest213</th>\n      <td>0.000485</td>\n      <td>0.004730</td>\n      <td>0.016783</td>\n      <td>-0.000223</td>\n      <td>-0.001324</td>\n      <td>-0.001118</td>\n      <td>-0.000223</td>\n      <td>-0.002167</td>\n      <td>-0.000223</td>\n      <td>-0.002993</td>\n      <td>...</td>\n      <td>-0.000894</td>\n      <td>-0.001361</td>\n      <td>-0.010627</td>\n      <td>-0.001140</td>\n      <td>-0.000591</td>\n      <td>-0.000223</td>\n      <td>-0.002360</td>\n      <td>1.000000</td>\n      <td>-0.001904</td>\n      <td>-0.002737</td>\n    </tr>\n    <tr>\n      <th>interest214</th>\n      <td>-0.107971</td>\n      <td>0.081629</td>\n      <td>-0.001134</td>\n      <td>-0.001346</td>\n      <td>0.032195</td>\n      <td>0.017009</td>\n      <td>-0.001346</td>\n      <td>0.011686</td>\n      <td>-0.001346</td>\n      <td>0.072803</td>\n      <td>...</td>\n      <td>0.202292</td>\n      <td>0.011331</td>\n      <td>-0.010057</td>\n      <td>-0.006878</td>\n      <td>-0.003563</td>\n      <td>-0.001346</td>\n      <td>0.111162</td>\n      <td>-0.001904</td>\n      <td>1.000000</td>\n      <td>-0.006621</td>\n    </tr>\n    <tr>\n      <th>interest217</th>\n      <td>-0.035734</td>\n      <td>0.107488</td>\n      <td>-0.002952</td>\n      <td>-0.001935</td>\n      <td>0.002666</td>\n      <td>-0.009694</td>\n      <td>-0.001935</td>\n      <td>0.016073</td>\n      <td>-0.001935</td>\n      <td>-0.006766</td>\n      <td>...</td>\n      <td>-0.007749</td>\n      <td>0.001955</td>\n      <td>-0.020801</td>\n      <td>-0.009886</td>\n      <td>0.026437</td>\n      <td>-0.001935</td>\n      <td>-0.012445</td>\n      <td>-0.002737</td>\n      <td>-0.006621</td>\n      <td>1.000000</td>\n    </tr>\n  </tbody>\n</table>\n<p>150 rows × 150 columns</p>\n</div>"
     },
     "execution_count": 18,
     "metadata": {},
     "output_type": "execute_result"
    }
   ],
   "source": [
    "interests.corr()"
   ],
   "metadata": {
    "collapsed": false,
    "pycharm": {
     "name": "#%%\n"
    }
   }
  },
  {
   "cell_type": "markdown",
   "source": [
    "### 2.3 Plotando boxsplot"
   ],
   "metadata": {
    "collapsed": false
   }
  },
  {
   "cell_type": "markdown",
   "source": [
    "Pelo boxsplot é possivel visualizar que há diversos outliers. Adiante os atributos com outliers serão removidos para aplicar os algoritmos pela 2ª vez."
   ],
   "metadata": {
    "collapsed": false
   }
  },
  {
   "cell_type": "code",
   "execution_count": 19,
   "outputs": [
    {
     "data": {
      "text/plain": "<matplotlib.axes._subplots.AxesSubplot at 0x7ff5eb093470>"
     },
     "execution_count": 19,
     "metadata": {},
     "output_type": "execute_result"
    },
    {
     "data": {
      "text/plain": "<Figure size 2160x720 with 1 Axes>",
      "image/png": "[encoded data removed]"
     },
     "metadata": {
      "needs_background": "light"
     },
     "output_type": "display_data"
    }
   ],
   "source": [
    "data_scaled.plot(kind = 'box', figsize=(30,10), rot=90, )"
   ],
   "metadata": {
    "collapsed": false,
    "pycharm": {
     "name": "#%%\n"
    }
   }
  },
  {
   "cell_type": "markdown",
   "source": [
    "# 3. Clustering"
   ],
   "metadata": {
    "collapsed": false
   }
  },
  {
   "cell_type": "markdown",
   "source": [
    "## 3.1 Dataset Completo"
   ],
   "metadata": {
    "collapsed": false
   }
  },
  {
   "cell_type": "markdown",
   "source": [
    "### 3.1.1 K-Means"
   ],
   "metadata": {
    "collapsed": false
   }
  },
  {
   "cell_type": "code",
   "execution_count": 20,
   "outputs": [],
   "source": [
    "data_kmeans = data_scaled.copy()"
   ],
   "metadata": {
    "collapsed": false,
    "pycharm": {
     "name": "#%%\n"
    }
   }
  },
  {
   "cell_type": "code",
   "execution_count": 21,
   "outputs": [
    {
     "data": {
      "text/plain": "KMeans(algorithm='auto', copy_x=True, init='random', max_iter=300, n_clusters=4,\n       n_init=10, n_jobs=None, precompute_distances='auto', random_state=None,\n       tol=0.0001, verbose=0)"
     },
     "execution_count": 21,
     "metadata": {},
     "output_type": "execute_result"
    }
   ],
   "source": [
    "kmeans = KMeans(n_clusters = 4, init = 'random')\n",
    "kmeans.fit(data_kmeans)"
   ],
   "metadata": {
    "collapsed": false,
    "pycharm": {
     "name": "#%%\n"
    }
   }
  },
  {
   "cell_type": "code",
   "execution_count": 22,
   "outputs": [
    {
     "data": {
      "text/plain": "<Figure size 432x288 with 1 Axes>",
      "image/png": "[encoded data removed]"
     },
     "metadata": {
      "needs_background": "light"
     },
     "output_type": "display_data"
    }
   ],
   "source": [
    "plt.scatter(data_scaler[:,0], data_scaler[:,147], s = 50, c = kmeans.labels_)\n",
    "plt.scatter(kmeans.cluster_centers_[:, 0], kmeans.cluster_centers_[:, 147], s = 100, c = 'red',label = 'Centroids')\n",
    "plt.title('Silhuetas e seus clusters')\n",
    "plt.xlabel('COMPACTNESS')\n",
    "plt.ylabel('RADIUS_RATIO')\n",
    "plt.legend()\n",
    "plt.show()"
   ],
   "metadata": {
    "collapsed": false,
    "pycharm": {
     "name": "#%%\n"
    }
   }
  }
 ],
 "metadata": {
  "kernelspec": {
   "display_name": "Python 2",
   "language": "python",
   "name": "python2"
  },
  "language_info": {
   "codemirror_mode": {
    "name": "ipython",
    "version": 3
   },
   "file_extension": ".py",
   "mimetype": "text/x-python",
   "name": "python",
   "nbconvert_exporter": "python",
   "pygments_lexer": "ipython3",
   "version": "3.7.3"
  }
 },
 "nbformat": 4,
 "nbformat_minor": 4
}