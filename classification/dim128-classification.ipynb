{
 "cells": [
  {
   "cell_type": "markdown",
   "source": [
    "# 0. Introdução"
   ],
   "metadata": {
    "collapsed": false
   }
  },
  {
   "cell_type": "markdown",
   "source": [
    "**Trabalho Clustering**:\n",
    "\n",
    "Aluno: Gabriel Luiz\n",
    "\n",
    "Disciplina: Tópico em Aprendizado de Máquina\n",
    "\n",
    "**Objetivos** :\n",
    "\n",
    "- Escolha dois datasets rotulados.\n",
    "- Realize a análise estatística, visualização e pré-processamento dos\n",
    "dados.\n",
    "- Realize os experimentos criando duas bases de teste distintas:\n",
    "- - considerando todos os atributos do dataset;\n",
    "- - selecionando alguns atributos e descartando outros.\n",
    "- Aplique três métodos de classificação distintos nas duas bases\n",
    "acima referentes a cada dataset.\n",
    "- Para cada dataset, em cada uma das bases, analise os resultados\n",
    "segundo medidas de qualidade de classificação, usando índices de\n",
    "validação externa (acurácia, recall, precisão, F-measure, índice\n",
    "Kappa) e cruva ROC.\n",
    "- Proponha uma maneira adicional de comparar os resultados obtidos\n",
    "além das medidas acima.\n",
    "- Compare e interprete os resultados dos dois experimentos em cada\n",
    "dataset. Faça tabela com as medidas de validação"
   ],
   "metadata": {
    "collapsed": false
   }
  },
  {
   "cell_type": "markdown",
   "source": [
    "## 0.1 Dependências"
   ],
   "metadata": {
    "collapsed": false
   }
  },
  {
   "cell_type": "markdown",
   "source": [
    "Para realização da tarefa foram utilizados as seguintes bibliotecas:"
   ],
   "metadata": {
    "collapsed": false
   }
  },
  {
   "cell_type": "code",
   "execution_count": 183,
   "outputs": [],
   "source": [
    "from datetime import datetime\n",
    "import numpy as np\n",
    "import pandas as pd\n",
    "from sklearn.cluster import *\n",
    "import seaborn as sns\n",
    "from sklearn.preprocessing import StandardScaler\n",
    "import matplotlib.pyplot as plt\n",
    "from sklearn.feature_selection import SelectKBest\n",
    "from sklearn.feature_selection import chi2\n",
    "from sklearn.model_selection import train_test_split\n",
    "\n",
    "# KFold\n",
    "from sklearn.model_selection import KFold\n",
    "import random\n",
    "\n",
    "# Classificadores\n",
    "from sklearn.neighbors import KNeighborsClassifier\n",
    "from sklearn.naive_bayes import GaussianNB\n",
    "from sklearn.tree import DecisionTreeClassifier\n",
    "from sklearn.svm import SVC\n",
    "\n",
    "#Metricas\n",
    "from sklearn.metrics import accuracy_score\n",
    "from sklearn.metrics import recall_score\n",
    "from sklearn.metrics import precision_score\n",
    "from sklearn.metrics import f1_score\n",
    "from sklearn.metrics import cohen_kappa_score\n",
    "from  sklearn.metrics  import  roc_auc_score\n",
    "from sklearn.metrics import balanced_accuracy_score\n"
   ],
   "metadata": {
    "collapsed": false,
    "pycharm": {
     "name": "#%%\n"
    }
   }
  },
  {
   "cell_type": "markdown",
   "source": [
    "# 1. Dados"
   ],
   "metadata": {
    "collapsed": false
   }
  },
  {
   "cell_type": "markdown",
   "source": [
    "Para realização das tarefas envolvidas neste relatório utilizou-se o arquivo **dim032.csv** que contém dados não descritos, onde foram feitos para a realização de clustering que se encontram no site:\n",
    "http://cs.uef.fi/sipu/datasets/"
   ],
   "metadata": {
    "collapsed": false
   }
  },
  {
   "cell_type": "markdown",
   "source": [
    "## 1.1 Carregamento do arquivo"
   ],
   "metadata": {
    "collapsed": false
   }
  },
  {
   "cell_type": "code",
   "execution_count": 184,
   "outputs": [],
   "source": [
    "from clustering.labelMatch import rotulos, labelmatch\n",
    "dataset = './dataset/dim128/dim128.csv'\n",
    "clusters = './dataset/dim128/dim128pa.csv'"
   ],
   "metadata": {
    "collapsed": false,
    "pycharm": {
     "name": "#%%\n"
    }
   }
  },
  {
   "cell_type": "code",
   "execution_count": 185,
   "outputs": [],
   "source": [
    "data = pd.read_csv(\n",
    "    dataset,\n",
    "    header = None\n",
    "    )\n",
    "\n",
    "label = pd.read_csv(\n",
    "    clusters,\n",
    "    header = None\n",
    "    )"
   ],
   "metadata": {
    "collapsed": false,
    "pycharm": {
     "name": "#%%\n"
    }
   }
  },
  {
   "cell_type": "code",
   "execution_count": 186,
   "outputs": [
    {
     "data": {
      "text/plain": "   0    1    2    3    4    5    6    7    8    9    ...  118  119  120  121  \\\n0  145  142  131  135  208  209   65  128  183  131  ...  199  218  182   53   \n1  149  148  137  137  213  209   71  125  183  125  ...  198  222  182   52   \n2  151  144  135  132  210  208   67  124  183  128  ...  198  218  182   52   \n3  148  141  136  135  207  209   65  127  184  130  ...  197  219  184   50   \n4  146  145  136  135  208  212   70  130  185  129  ...  199  217  182   52   \n\n   122  123  124  125  126  127  \n0  144  198   93   34   99   79  \n1  148  198   97   35   99   78  \n2  144  196   93   38  101   78  \n3  144  198   92   36  101   82  \n4  148  198   95   36   96   80  \n\n[5 rows x 128 columns]",
      "text/html": "<div>\n<style scoped>\n    .dataframe tbody tr th:only-of-type {\n        vertical-align: middle;\n    }\n\n    .dataframe tbody tr th {\n        vertical-align: top;\n    }\n\n    .dataframe thead th {\n        text-align: right;\n    }\n</style>\n<table border=\"1\" class=\"dataframe\">\n  <thead>\n    <tr style=\"text-align: right;\">\n      <th></th>\n      <th>0</th>\n      <th>1</th>\n      <th>2</th>\n      <th>3</th>\n      <th>4</th>\n      <th>5</th>\n      <th>6</th>\n      <th>7</th>\n      <th>8</th>\n      <th>9</th>\n      <th>...</th>\n      <th>118</th>\n      <th>119</th>\n      <th>120</th>\n      <th>121</th>\n      <th>122</th>\n      <th>123</th>\n      <th>124</th>\n      <th>125</th>\n      <th>126</th>\n      <th>127</th>\n    </tr>\n  </thead>\n  <tbody>\n    <tr>\n      <th>0</th>\n      <td>145</td>\n      <td>142</td>\n      <td>131</td>\n      <td>135</td>\n      <td>208</td>\n      <td>209</td>\n      <td>65</td>\n      <td>128</td>\n      <td>183</td>\n      <td>131</td>\n      <td>...</td>\n      <td>199</td>\n      <td>218</td>\n      <td>182</td>\n      <td>53</td>\n      <td>144</td>\n      <td>198</td>\n      <td>93</td>\n      <td>34</td>\n      <td>99</td>\n      <td>79</td>\n    </tr>\n    <tr>\n      <th>1</th>\n      <td>149</td>\n      <td>148</td>\n      <td>137</td>\n      <td>137</td>\n      <td>213</td>\n      <td>209</td>\n      <td>71</td>\n      <td>125</td>\n      <td>183</td>\n      <td>125</td>\n      <td>...</td>\n      <td>198</td>\n      <td>222</td>\n      <td>182</td>\n      <td>52</td>\n      <td>148</td>\n      <td>198</td>\n      <td>97</td>\n      <td>35</td>\n      <td>99</td>\n      <td>78</td>\n    </tr>\n    <tr>\n      <th>2</th>\n      <td>151</td>\n      <td>144</td>\n      <td>135</td>\n      <td>132</td>\n      <td>210</td>\n      <td>208</td>\n      <td>67</td>\n      <td>124</td>\n      <td>183</td>\n      <td>128</td>\n      <td>...</td>\n      <td>198</td>\n      <td>218</td>\n      <td>182</td>\n      <td>52</td>\n      <td>144</td>\n      <td>196</td>\n      <td>93</td>\n      <td>38</td>\n      <td>101</td>\n      <td>78</td>\n    </tr>\n    <tr>\n      <th>3</th>\n      <td>148</td>\n      <td>141</td>\n      <td>136</td>\n      <td>135</td>\n      <td>207</td>\n      <td>209</td>\n      <td>65</td>\n      <td>127</td>\n      <td>184</td>\n      <td>130</td>\n      <td>...</td>\n      <td>197</td>\n      <td>219</td>\n      <td>184</td>\n      <td>50</td>\n      <td>144</td>\n      <td>198</td>\n      <td>92</td>\n      <td>36</td>\n      <td>101</td>\n      <td>82</td>\n    </tr>\n    <tr>\n      <th>4</th>\n      <td>146</td>\n      <td>145</td>\n      <td>136</td>\n      <td>135</td>\n      <td>208</td>\n      <td>212</td>\n      <td>70</td>\n      <td>130</td>\n      <td>185</td>\n      <td>129</td>\n      <td>...</td>\n      <td>199</td>\n      <td>217</td>\n      <td>182</td>\n      <td>52</td>\n      <td>148</td>\n      <td>198</td>\n      <td>95</td>\n      <td>36</td>\n      <td>96</td>\n      <td>80</td>\n    </tr>\n  </tbody>\n</table>\n<p>5 rows × 128 columns</p>\n</div>"
     },
     "execution_count": 186,
     "metadata": {},
     "output_type": "execute_result"
    }
   ],
   "source": [
    "data.head()"
   ],
   "metadata": {
    "collapsed": false,
    "pycharm": {
     "name": "#%%\n"
    }
   }
  },
  {
   "cell_type": "code",
   "execution_count": 187,
   "outputs": [
    {
     "data": {
      "text/plain": "               0            1            2            3            4    \\\ncount  1024.000000  1024.000000  1024.000000  1024.000000  1024.000000   \nmean    125.248047   150.040039   134.053711   134.069336   118.694336   \nstd      51.254859    48.465458    49.652222    38.661577    54.941676   \nmin      31.000000    45.000000    42.000000    46.000000    35.000000   \n25%      89.500000   129.500000   104.500000   100.750000    76.500000   \n50%     117.000000   145.000000   142.000000   139.500000   111.000000   \n75%     158.500000   191.000000   174.000000   167.000000   158.000000   \nmax     220.000000   225.000000   205.000000   195.000000   227.000000   \n\n               5            6            7            8            9    ...  \\\ncount  1024.000000  1024.000000  1024.000000  1024.000000  1024.000000  ...   \nmean    145.112305   125.099609   117.110352   108.508789   126.273438  ...   \nstd      44.562082    51.200904    48.900247    51.715931    50.317170  ...   \nmin      65.000000    52.000000    41.000000    31.000000    41.000000  ...   \n25%     111.250000    66.000000    72.000000    68.000000    89.000000  ...   \n50%     143.000000   130.000000   116.000000   100.000000   121.500000  ...   \n75%     180.000000   171.250000   152.250000   137.250000   176.000000  ...   \nmax     218.000000   207.000000   220.000000   207.000000   218.000000  ...   \n\n               118          119          120          121          122  \\\ncount  1024.000000  1024.000000  1024.000000  1024.000000  1024.000000   \nmean    145.520508   133.936523   130.793945   136.500000   136.348633   \nstd      54.379262    55.852890    58.455433    52.589374    51.880328   \nmin      34.000000    42.000000    41.000000    47.000000    30.000000   \n25%     105.750000    90.750000    83.000000   103.500000   100.250000   \n50%     150.500000   133.000000   111.500000   134.000000   133.000000   \n75%     194.000000   187.000000   195.750000   184.500000   187.000000   \nmax     223.000000   224.000000   222.000000   218.000000   218.000000   \n\n               123          124          125          126          127  \ncount  1024.000000  1024.000000  1024.000000  1024.000000  1024.000000  \nmean    117.336914   123.756836    99.931641   110.326172   151.151367  \nstd      60.981599    46.710213    49.196389    60.645574    49.358342  \nmin      32.000000    25.000000    27.000000    30.000000    58.000000  \n25%      60.750000    94.000000    63.000000    54.750000   114.750000  \n50%     113.500000   124.000000    87.500000    98.000000   179.500000  \n75%     181.250000   159.000000   128.250000   168.000000   190.000000  \nmax     209.000000   210.000000   194.000000   215.000000   204.000000  \n\n[8 rows x 128 columns]",
      "text/html": "<div>\n<style scoped>\n    .dataframe tbody tr th:only-of-type {\n        vertical-align: middle;\n    }\n\n    .dataframe tbody tr th {\n        vertical-align: top;\n    }\n\n    .dataframe thead th {\n        text-align: right;\n    }\n</style>\n<table border=\"1\" class=\"dataframe\">\n  <thead>\n    <tr style=\"text-align: right;\">\n      <th></th>\n      <th>0</th>\n      <th>1</th>\n      <th>2</th>\n      <th>3</th>\n      <th>4</th>\n      <th>5</th>\n      <th>6</th>\n      <th>7</th>\n      <th>8</th>\n      <th>9</th>\n      <th>...</th>\n      <th>118</th>\n      <th>119</th>\n      <th>120</th>\n      <th>121</th>\n      <th>122</th>\n      <th>123</th>\n      <th>124</th>\n      <th>125</th>\n      <th>126</th>\n      <th>127</th>\n    </tr>\n  </thead>\n  <tbody>\n    <tr>\n      <th>count</th>\n      <td>1024.000000</td>\n      <td>1024.000000</td>\n      <td>1024.000000</td>\n      <td>1024.000000</td>\n      <td>1024.000000</td>\n      <td>1024.000000</td>\n      <td>1024.000000</td>\n      <td>1024.000000</td>\n      <td>1024.000000</td>\n      <td>1024.000000</td>\n      <td>...</td>\n      <td>1024.000000</td>\n      <td>1024.000000</td>\n      <td>1024.000000</td>\n      <td>1024.000000</td>\n      <td>1024.000000</td>\n      <td>1024.000000</td>\n      <td>1024.000000</td>\n      <td>1024.000000</td>\n      <td>1024.000000</td>\n      <td>1024.000000</td>\n    </tr>\n    <tr>\n      <th>mean</th>\n      <td>125.248047</td>\n      <td>150.040039</td>\n      <td>134.053711</td>\n      <td>134.069336</td>\n      <td>118.694336</td>\n      <td>145.112305</td>\n      <td>125.099609</td>\n      <td>117.110352</td>\n      <td>108.508789</td>\n      <td>126.273438</td>\n      <td>...</td>\n      <td>145.520508</td>\n      <td>133.936523</td>\n      <td>130.793945</td>\n      <td>136.500000</td>\n      <td>136.348633</td>\n      <td>117.336914</td>\n      <td>123.756836</td>\n      <td>99.931641</td>\n      <td>110.326172</td>\n      <td>151.151367</td>\n    </tr>\n    <tr>\n      <th>std</th>\n      <td>51.254859</td>\n      <td>48.465458</td>\n      <td>49.652222</td>\n      <td>38.661577</td>\n      <td>54.941676</td>\n      <td>44.562082</td>\n      <td>51.200904</td>\n      <td>48.900247</td>\n      <td>51.715931</td>\n      <td>50.317170</td>\n      <td>...</td>\n      <td>54.379262</td>\n      <td>55.852890</td>\n      <td>58.455433</td>\n      <td>52.589374</td>\n      <td>51.880328</td>\n      <td>60.981599</td>\n      <td>46.710213</td>\n      <td>49.196389</td>\n      <td>60.645574</td>\n      <td>49.358342</td>\n    </tr>\n    <tr>\n      <th>min</th>\n      <td>31.000000</td>\n      <td>45.000000</td>\n      <td>42.000000</td>\n      <td>46.000000</td>\n      <td>35.000000</td>\n      <td>65.000000</td>\n      <td>52.000000</td>\n      <td>41.000000</td>\n      <td>31.000000</td>\n      <td>41.000000</td>\n      <td>...</td>\n      <td>34.000000</td>\n      <td>42.000000</td>\n      <td>41.000000</td>\n      <td>47.000000</td>\n      <td>30.000000</td>\n      <td>32.000000</td>\n      <td>25.000000</td>\n      <td>27.000000</td>\n      <td>30.000000</td>\n      <td>58.000000</td>\n    </tr>\n    <tr>\n      <th>25%</th>\n      <td>89.500000</td>\n      <td>129.500000</td>\n      <td>104.500000</td>\n      <td>100.750000</td>\n      <td>76.500000</td>\n      <td>111.250000</td>\n      <td>66.000000</td>\n      <td>72.000000</td>\n      <td>68.000000</td>\n      <td>89.000000</td>\n      <td>...</td>\n      <td>105.750000</td>\n      <td>90.750000</td>\n      <td>83.000000</td>\n      <td>103.500000</td>\n      <td>100.250000</td>\n      <td>60.750000</td>\n      <td>94.000000</td>\n      <td>63.000000</td>\n      <td>54.750000</td>\n      <td>114.750000</td>\n    </tr>\n    <tr>\n      <th>50%</th>\n      <td>117.000000</td>\n      <td>145.000000</td>\n      <td>142.000000</td>\n      <td>139.500000</td>\n      <td>111.000000</td>\n      <td>143.000000</td>\n      <td>130.000000</td>\n      <td>116.000000</td>\n      <td>100.000000</td>\n      <td>121.500000</td>\n      <td>...</td>\n      <td>150.500000</td>\n      <td>133.000000</td>\n      <td>111.500000</td>\n      <td>134.000000</td>\n      <td>133.000000</td>\n      <td>113.500000</td>\n      <td>124.000000</td>\n      <td>87.500000</td>\n      <td>98.000000</td>\n      <td>179.500000</td>\n    </tr>\n    <tr>\n      <th>75%</th>\n      <td>158.500000</td>\n      <td>191.000000</td>\n      <td>174.000000</td>\n      <td>167.000000</td>\n      <td>158.000000</td>\n      <td>180.000000</td>\n      <td>171.250000</td>\n      <td>152.250000</td>\n      <td>137.250000</td>\n      <td>176.000000</td>\n      <td>...</td>\n      <td>194.000000</td>\n      <td>187.000000</td>\n      <td>195.750000</td>\n      <td>184.500000</td>\n      <td>187.000000</td>\n      <td>181.250000</td>\n      <td>159.000000</td>\n      <td>128.250000</td>\n      <td>168.000000</td>\n      <td>190.000000</td>\n    </tr>\n    <tr>\n      <th>max</th>\n      <td>220.000000</td>\n      <td>225.000000</td>\n      <td>205.000000</td>\n      <td>195.000000</td>\n      <td>227.000000</td>\n      <td>218.000000</td>\n      <td>207.000000</td>\n      <td>220.000000</td>\n      <td>207.000000</td>\n      <td>218.000000</td>\n      <td>...</td>\n      <td>223.000000</td>\n      <td>224.000000</td>\n      <td>222.000000</td>\n      <td>218.000000</td>\n      <td>218.000000</td>\n      <td>209.000000</td>\n      <td>210.000000</td>\n      <td>194.000000</td>\n      <td>215.000000</td>\n      <td>204.000000</td>\n    </tr>\n  </tbody>\n</table>\n<p>8 rows × 128 columns</p>\n</div>"
     },
     "execution_count": 187,
     "metadata": {},
     "output_type": "execute_result"
    }
   ],
   "source": [
    "data.describe()"
   ],
   "metadata": {
    "collapsed": false,
    "pycharm": {
     "name": "#%%\n"
    }
   }
  },
  {
   "cell_type": "markdown",
   "source": [
    "# 2. Pré-processamento"
   ],
   "metadata": {
    "collapsed": false
   }
  },
  {
   "cell_type": "markdown",
   "source": [
    "#### Validações efetivadas:\n",
    "- 1. Dados faltantes representados por \"NaN\"\n",
    "- 2. Dados que não possuem valores númericos"
   ],
   "metadata": {
    "collapsed": false
   }
  },
  {
   "cell_type": "code",
   "execution_count": 188,
   "outputs": [],
   "source": [
    "# data.isna().sum()"
   ],
   "metadata": {
    "collapsed": false,
    "pycharm": {
     "name": "#%%\n"
    }
   }
  },
  {
   "cell_type": "code",
   "execution_count": 189,
   "outputs": [],
   "source": [
    "# for col in data:\n",
    "    # print(col, data[col].unique())"
   ],
   "metadata": {
    "collapsed": false,
    "pycharm": {
     "name": "#%%\n"
    }
   }
  },
  {
   "cell_type": "markdown",
   "source": [
    "#### 2.1 Conclusão:\n",
    "- Os dados não possuem a necessidade de pré-processamento visto que já estão todos com valores validos"
   ],
   "metadata": {
    "collapsed": false
   }
  },
  {
   "cell_type": "markdown",
   "source": [
    "###  2.3 Análise estatística"
   ],
   "metadata": {
    "collapsed": false
   }
  },
  {
   "cell_type": "code",
   "execution_count": 190,
   "outputs": [
    {
     "data": {
      "text/plain": "          0         1         2         3         4         5         6    \\\n0    1.000000 -0.298556  0.099976  0.022622  0.147617  0.121319 -0.126459   \n1   -0.298556  1.000000 -0.185263  0.432802 -0.292705  0.061192 -0.019780   \n2    0.099976 -0.185263  1.000000  0.067625  0.362365 -0.028879  0.080121   \n3    0.022622  0.432802  0.067625  1.000000  0.099326 -0.144059 -0.112927   \n4    0.147617 -0.292705  0.362365  0.099326  1.000000  0.293487 -0.131999   \n..        ...       ...       ...       ...       ...       ...       ...   \n123  0.034045  0.016683 -0.044062 -0.358739  0.033921  0.005289  0.050475   \n124  0.463972 -0.548772  0.567061 -0.241791  0.189920 -0.258597  0.129884   \n125 -0.023602  0.217301 -0.184789  0.213103 -0.551513 -0.268762  0.541192   \n126 -0.188079  0.429549 -0.021832 -0.361639  0.109259  0.058695  0.386794   \n127  0.311024 -0.073918  0.222362 -0.177917 -0.318805  0.066725  0.368015   \n\n          7         8         9    ...       118       119       120  \\\n0    0.467975  0.279398 -0.138266  ... -0.357315 -0.012444  0.125286   \n1    0.016283 -0.213111  0.143765  ... -0.173967  0.247016  0.633308   \n2    0.012888  0.007419  0.235775  ...  0.223319 -0.231223 -0.192837   \n3    0.266907 -0.429601 -0.028823  ... -0.416790 -0.262267  0.586108   \n4   -0.170449  0.577666 -0.063625  ...  0.227436 -0.035686  0.014784   \n..        ...       ...       ...  ...       ...       ...       ...   \n123 -0.220242  0.284786 -0.384904  ... -0.014952  0.285386 -0.044914   \n124  0.046233  0.049035  0.115393  ...  0.125422 -0.340187 -0.507953   \n125  0.318943 -0.447063  0.044297  ... -0.288177  0.100666  0.075201   \n126 -0.197502  0.433910  0.145782  ...  0.329098  0.320879 -0.103570   \n127  0.154835  0.012821  0.257718  ...  0.127201  0.133552 -0.133041   \n\n          121       122       123       124       125       126       127  \n0    0.218881 -0.253469  0.034045  0.463972 -0.023602 -0.188079  0.311024  \n1    0.059660  0.505386  0.016683 -0.548772  0.217301  0.429549 -0.073918  \n2    0.184547  0.445270 -0.044062  0.567061 -0.184789 -0.021832  0.222362  \n3   -0.148362  0.295559 -0.358739 -0.241791  0.213103 -0.361639 -0.177917  \n4   -0.217203  0.237352  0.033921  0.189920 -0.551513  0.109259 -0.318805  \n..        ...       ...       ...       ...       ...       ...       ...  \n123  0.278613  0.218825  1.000000 -0.225108 -0.049457  0.195657 -0.273943  \n124  0.413947 -0.233779 -0.225108  1.000000 -0.204440 -0.045870  0.515130  \n125 -0.131423 -0.175185 -0.049457 -0.204440  1.000000  0.001906  0.355830  \n126  0.085155  0.183157  0.195657 -0.045870  0.001906  1.000000  0.143927  \n127  0.203967 -0.040931 -0.273943  0.515130  0.355830  0.143927  1.000000  \n\n[128 rows x 128 columns]",
      "text/html": "<div>\n<style scoped>\n    .dataframe tbody tr th:only-of-type {\n        vertical-align: middle;\n    }\n\n    .dataframe tbody tr th {\n        vertical-align: top;\n    }\n\n    .dataframe thead th {\n        text-align: right;\n    }\n</style>\n<table border=\"1\" class=\"dataframe\">\n  <thead>\n    <tr style=\"text-align: right;\">\n      <th></th>\n      <th>0</th>\n      <th>1</th>\n      <th>2</th>\n      <th>3</th>\n      <th>4</th>\n      <th>5</th>\n      <th>6</th>\n      <th>7</th>\n      <th>8</th>\n      <th>9</th>\n      <th>...</th>\n      <th>118</th>\n      <th>119</th>\n      <th>120</th>\n      <th>121</th>\n      <th>122</th>\n      <th>123</th>\n      <th>124</th>\n      <th>125</th>\n      <th>126</th>\n      <th>127</th>\n    </tr>\n  </thead>\n  <tbody>\n    <tr>\n      <th>0</th>\n      <td>1.000000</td>\n      <td>-0.298556</td>\n      <td>0.099976</td>\n      <td>0.022622</td>\n      <td>0.147617</td>\n      <td>0.121319</td>\n      <td>-0.126459</td>\n      <td>0.467975</td>\n      <td>0.279398</td>\n      <td>-0.138266</td>\n      <td>...</td>\n      <td>-0.357315</td>\n      <td>-0.012444</td>\n      <td>0.125286</td>\n      <td>0.218881</td>\n      <td>-0.253469</td>\n      <td>0.034045</td>\n      <td>0.463972</td>\n      <td>-0.023602</td>\n      <td>-0.188079</td>\n      <td>0.311024</td>\n    </tr>\n    <tr>\n      <th>1</th>\n      <td>-0.298556</td>\n      <td>1.000000</td>\n      <td>-0.185263</td>\n      <td>0.432802</td>\n      <td>-0.292705</td>\n      <td>0.061192</td>\n      <td>-0.019780</td>\n      <td>0.016283</td>\n      <td>-0.213111</td>\n      <td>0.143765</td>\n      <td>...</td>\n      <td>-0.173967</td>\n      <td>0.247016</td>\n      <td>0.633308</td>\n      <td>0.059660</td>\n      <td>0.505386</td>\n      <td>0.016683</td>\n      <td>-0.548772</td>\n      <td>0.217301</td>\n      <td>0.429549</td>\n      <td>-0.073918</td>\n    </tr>\n    <tr>\n      <th>2</th>\n      <td>0.099976</td>\n      <td>-0.185263</td>\n      <td>1.000000</td>\n      <td>0.067625</td>\n      <td>0.362365</td>\n      <td>-0.028879</td>\n      <td>0.080121</td>\n      <td>0.012888</td>\n      <td>0.007419</td>\n      <td>0.235775</td>\n      <td>...</td>\n      <td>0.223319</td>\n      <td>-0.231223</td>\n      <td>-0.192837</td>\n      <td>0.184547</td>\n      <td>0.445270</td>\n      <td>-0.044062</td>\n      <td>0.567061</td>\n      <td>-0.184789</td>\n      <td>-0.021832</td>\n      <td>0.222362</td>\n    </tr>\n    <tr>\n      <th>3</th>\n      <td>0.022622</td>\n      <td>0.432802</td>\n      <td>0.067625</td>\n      <td>1.000000</td>\n      <td>0.099326</td>\n      <td>-0.144059</td>\n      <td>-0.112927</td>\n      <td>0.266907</td>\n      <td>-0.429601</td>\n      <td>-0.028823</td>\n      <td>...</td>\n      <td>-0.416790</td>\n      <td>-0.262267</td>\n      <td>0.586108</td>\n      <td>-0.148362</td>\n      <td>0.295559</td>\n      <td>-0.358739</td>\n      <td>-0.241791</td>\n      <td>0.213103</td>\n      <td>-0.361639</td>\n      <td>-0.177917</td>\n    </tr>\n    <tr>\n      <th>4</th>\n      <td>0.147617</td>\n      <td>-0.292705</td>\n      <td>0.362365</td>\n      <td>0.099326</td>\n      <td>1.000000</td>\n      <td>0.293487</td>\n      <td>-0.131999</td>\n      <td>-0.170449</td>\n      <td>0.577666</td>\n      <td>-0.063625</td>\n      <td>...</td>\n      <td>0.227436</td>\n      <td>-0.035686</td>\n      <td>0.014784</td>\n      <td>-0.217203</td>\n      <td>0.237352</td>\n      <td>0.033921</td>\n      <td>0.189920</td>\n      <td>-0.551513</td>\n      <td>0.109259</td>\n      <td>-0.318805</td>\n    </tr>\n    <tr>\n      <th>...</th>\n      <td>...</td>\n      <td>...</td>\n      <td>...</td>\n      <td>...</td>\n      <td>...</td>\n      <td>...</td>\n      <td>...</td>\n      <td>...</td>\n      <td>...</td>\n      <td>...</td>\n      <td>...</td>\n      <td>...</td>\n      <td>...</td>\n      <td>...</td>\n      <td>...</td>\n      <td>...</td>\n      <td>...</td>\n      <td>...</td>\n      <td>...</td>\n      <td>...</td>\n      <td>...</td>\n    </tr>\n    <tr>\n      <th>123</th>\n      <td>0.034045</td>\n      <td>0.016683</td>\n      <td>-0.044062</td>\n      <td>-0.358739</td>\n      <td>0.033921</td>\n      <td>0.005289</td>\n      <td>0.050475</td>\n      <td>-0.220242</td>\n      <td>0.284786</td>\n      <td>-0.384904</td>\n      <td>...</td>\n      <td>-0.014952</td>\n      <td>0.285386</td>\n      <td>-0.044914</td>\n      <td>0.278613</td>\n      <td>0.218825</td>\n      <td>1.000000</td>\n      <td>-0.225108</td>\n      <td>-0.049457</td>\n      <td>0.195657</td>\n      <td>-0.273943</td>\n    </tr>\n    <tr>\n      <th>124</th>\n      <td>0.463972</td>\n      <td>-0.548772</td>\n      <td>0.567061</td>\n      <td>-0.241791</td>\n      <td>0.189920</td>\n      <td>-0.258597</td>\n      <td>0.129884</td>\n      <td>0.046233</td>\n      <td>0.049035</td>\n      <td>0.115393</td>\n      <td>...</td>\n      <td>0.125422</td>\n      <td>-0.340187</td>\n      <td>-0.507953</td>\n      <td>0.413947</td>\n      <td>-0.233779</td>\n      <td>-0.225108</td>\n      <td>1.000000</td>\n      <td>-0.204440</td>\n      <td>-0.045870</td>\n      <td>0.515130</td>\n    </tr>\n    <tr>\n      <th>125</th>\n      <td>-0.023602</td>\n      <td>0.217301</td>\n      <td>-0.184789</td>\n      <td>0.213103</td>\n      <td>-0.551513</td>\n      <td>-0.268762</td>\n      <td>0.541192</td>\n      <td>0.318943</td>\n      <td>-0.447063</td>\n      <td>0.044297</td>\n      <td>...</td>\n      <td>-0.288177</td>\n      <td>0.100666</td>\n      <td>0.075201</td>\n      <td>-0.131423</td>\n      <td>-0.175185</td>\n      <td>-0.049457</td>\n      <td>-0.204440</td>\n      <td>1.000000</td>\n      <td>0.001906</td>\n      <td>0.355830</td>\n    </tr>\n    <tr>\n      <th>126</th>\n      <td>-0.188079</td>\n      <td>0.429549</td>\n      <td>-0.021832</td>\n      <td>-0.361639</td>\n      <td>0.109259</td>\n      <td>0.058695</td>\n      <td>0.386794</td>\n      <td>-0.197502</td>\n      <td>0.433910</td>\n      <td>0.145782</td>\n      <td>...</td>\n      <td>0.329098</td>\n      <td>0.320879</td>\n      <td>-0.103570</td>\n      <td>0.085155</td>\n      <td>0.183157</td>\n      <td>0.195657</td>\n      <td>-0.045870</td>\n      <td>0.001906</td>\n      <td>1.000000</td>\n      <td>0.143927</td>\n    </tr>\n    <tr>\n      <th>127</th>\n      <td>0.311024</td>\n      <td>-0.073918</td>\n      <td>0.222362</td>\n      <td>-0.177917</td>\n      <td>-0.318805</td>\n      <td>0.066725</td>\n      <td>0.368015</td>\n      <td>0.154835</td>\n      <td>0.012821</td>\n      <td>0.257718</td>\n      <td>...</td>\n      <td>0.127201</td>\n      <td>0.133552</td>\n      <td>-0.133041</td>\n      <td>0.203967</td>\n      <td>-0.040931</td>\n      <td>-0.273943</td>\n      <td>0.515130</td>\n      <td>0.355830</td>\n      <td>0.143927</td>\n      <td>1.000000</td>\n    </tr>\n  </tbody>\n</table>\n<p>128 rows × 128 columns</p>\n</div>"
     },
     "execution_count": 190,
     "metadata": {},
     "output_type": "execute_result"
    }
   ],
   "source": [
    "data.corr()"
   ],
   "metadata": {
    "collapsed": false,
    "pycharm": {
     "name": "#%%\n"
    }
   }
  },
  {
   "cell_type": "code",
   "execution_count": 191,
   "outputs": [
    {
     "data": {
      "text/plain": "        0    1    2    3  label\n0     145  142  131  135      1\n1     149  148  137  137      1\n2     151  144  135  132      1\n3     148  141  136  135      1\n4     146  145  136  135      1\n...   ...  ...  ...  ...    ...\n1019  172   55  146   85     16\n1020  172   54  147   91     16\n1021  179   47  149   86     16\n1022  176   50  148   86     16\n1023  172   55  145   92     16\n\n[1024 rows x 5 columns]",
      "text/html": "<div>\n<style scoped>\n    .dataframe tbody tr th:only-of-type {\n        vertical-align: middle;\n    }\n\n    .dataframe tbody tr th {\n        vertical-align: top;\n    }\n\n    .dataframe thead th {\n        text-align: right;\n    }\n</style>\n<table border=\"1\" class=\"dataframe\">\n  <thead>\n    <tr style=\"text-align: right;\">\n      <th></th>\n      <th>0</th>\n      <th>1</th>\n      <th>2</th>\n      <th>3</th>\n      <th>label</th>\n    </tr>\n  </thead>\n  <tbody>\n    <tr>\n      <th>0</th>\n      <td>145</td>\n      <td>142</td>\n      <td>131</td>\n      <td>135</td>\n      <td>1</td>\n    </tr>\n    <tr>\n      <th>1</th>\n      <td>149</td>\n      <td>148</td>\n      <td>137</td>\n      <td>137</td>\n      <td>1</td>\n    </tr>\n    <tr>\n      <th>2</th>\n      <td>151</td>\n      <td>144</td>\n      <td>135</td>\n      <td>132</td>\n      <td>1</td>\n    </tr>\n    <tr>\n      <th>3</th>\n      <td>148</td>\n      <td>141</td>\n      <td>136</td>\n      <td>135</td>\n      <td>1</td>\n    </tr>\n    <tr>\n      <th>4</th>\n      <td>146</td>\n      <td>145</td>\n      <td>136</td>\n      <td>135</td>\n      <td>1</td>\n    </tr>\n    <tr>\n      <th>...</th>\n      <td>...</td>\n      <td>...</td>\n      <td>...</td>\n      <td>...</td>\n      <td>...</td>\n    </tr>\n    <tr>\n      <th>1019</th>\n      <td>172</td>\n      <td>55</td>\n      <td>146</td>\n      <td>85</td>\n      <td>16</td>\n    </tr>\n    <tr>\n      <th>1020</th>\n      <td>172</td>\n      <td>54</td>\n      <td>147</td>\n      <td>91</td>\n      <td>16</td>\n    </tr>\n    <tr>\n      <th>1021</th>\n      <td>179</td>\n      <td>47</td>\n      <td>149</td>\n      <td>86</td>\n      <td>16</td>\n    </tr>\n    <tr>\n      <th>1022</th>\n      <td>176</td>\n      <td>50</td>\n      <td>148</td>\n      <td>86</td>\n      <td>16</td>\n    </tr>\n    <tr>\n      <th>1023</th>\n      <td>172</td>\n      <td>55</td>\n      <td>145</td>\n      <td>92</td>\n      <td>16</td>\n    </tr>\n  </tbody>\n</table>\n<p>1024 rows × 5 columns</p>\n</div>"
     },
     "execution_count": 191,
     "metadata": {},
     "output_type": "execute_result"
    }
   ],
   "source": [
    "df = data\n",
    "df = df.assign(label = label)\n",
    "test = df[[0, 1, 2, 3, 'label']]\n",
    "test"
   ],
   "metadata": {
    "collapsed": false,
    "pycharm": {
     "name": "#%%\n"
    }
   }
  },
  {
   "cell_type": "code",
   "execution_count": null,
   "outputs": [],
   "source": [
    "sns.pairplot(df, diag_kind=\"kde\",hue='label')"
   ],
   "metadata": {
    "collapsed": false,
    "pycharm": {
     "name": "#%%\n",
     "is_executing": true
    }
   }
  },
  {
   "cell_type": "code",
   "execution_count": 192,
   "outputs": [
    {
     "data": {
      "text/plain": "<seaborn.axisgrid.PairGrid at 0x7f5b5c93aa20>"
     },
     "execution_count": 192,
     "metadata": {},
     "output_type": "execute_result"
    },
    {
     "data": {
      "text/plain": "<Figure size 768.75x720 with 20 Axes>",
      "image/png": "[encoded data removed]"
     },
     "metadata": {
      "needs_background": "light"
     },
     "output_type": "display_data"
    }
   ],
   "source": [
    "sns.pairplot(test, diag_kind=\"kde\",hue='label')"
   ],
   "metadata": {
    "collapsed": false,
    "pycharm": {
     "name": "#%%\n"
    }
   }
  },
  {
   "cell_type": "markdown",
   "source": [
    "### 2.4 Escalonando"
   ],
   "metadata": {
    "collapsed": false
   }
  },
  {
   "cell_type": "markdown",
   "source": [
    "Para aplicação dos algoritmos escalona-se os dados afim de parametriza-los num certo intervalor (-1 a 1)"
   ],
   "metadata": {
    "collapsed": false
   }
  },
  {
   "cell_type": "code",
   "execution_count": 193,
   "outputs": [],
   "source": [
    "data = data.to_numpy()\n",
    "scaler = StandardScaler().fit(data)\n",
    "data_scaler = scaler.transform(data)"
   ],
   "metadata": {
    "collapsed": false,
    "pycharm": {
     "name": "#%%\n"
    }
   }
  },
  {
   "cell_type": "code",
   "execution_count": 194,
   "outputs": [],
   "source": [
    "# data_scaled = pd.DataFrame(data_scaler)\n",
    "# data_scaled.head()"
   ],
   "metadata": {
    "collapsed": false,
    "pycharm": {
     "name": "#%%\n"
    }
   }
  },
  {
   "cell_type": "code",
   "execution_count": 195,
   "outputs": [],
   "source": [
    "data_results = np.array(label[0].tolist())\n",
    "for idx, value in np.ndenumerate(data_results):\n",
    "    data_results[idx] = value - 1"
   ],
   "metadata": {
    "collapsed": false,
    "pycharm": {
     "name": "#%%\n"
    }
   }
  },
  {
   "cell_type": "markdown",
   "source": [
    "### 2.5 Plotando boxsplot"
   ],
   "metadata": {
    "collapsed": false
   }
  },
  {
   "cell_type": "markdown",
   "source": [
    "Pelo boxsplot é possivel visualizar que há alguns outliers."
   ],
   "metadata": {
    "collapsed": false
   }
  },
  {
   "cell_type": "code",
   "execution_count": 196,
   "outputs": [],
   "source": [
    "# data_scaled.plot(kind = 'box', figsize=(30,10), rot=90, )"
   ],
   "metadata": {
    "collapsed": false,
    "pycharm": {
     "name": "#%%\n"
    }
   }
  },
  {
   "cell_type": "markdown",
   "source": [
    "## 3.2 Selecionando atributos do dataset"
   ],
   "metadata": {
    "collapsed": false
   }
  },
  {
   "cell_type": "code",
   "execution_count": 197,
   "outputs": [],
   "source": [
    "data_reduzida = pd.DataFrame(SelectKBest(chi2, k=30).fit_transform(data, label))\n",
    "data_reduzida.shape\n",
    "data_reduzida = data_reduzida.to_numpy()\n",
    "\n",
    "data_scaler2 = scaler.fit_transform(X = data_reduzida)"
   ],
   "metadata": {
    "collapsed": false,
    "pycharm": {
     "name": "#%%\n"
    }
   }
  },
  {
   "cell_type": "code",
   "execution_count": 198,
   "outputs": [],
   "source": [
    "# data_scaled2 = pd.DataFrame(data_scaler2)\n",
    "# data_scaled2.head()\n",
    "\n"
   ],
   "metadata": {
    "collapsed": false,
    "pycharm": {
     "name": "#%%\n"
    }
   }
  },
  {
   "cell_type": "markdown",
   "source": [
    "## Classificando"
   ],
   "metadata": {
    "collapsed": false
   }
  },
  {
   "cell_type": "markdown",
   "source": [
    "## Funções necessárias"
   ],
   "metadata": {
    "collapsed": false
   }
  },
  {
   "cell_type": "code",
   "execution_count": 199,
   "outputs": [],
   "source": [
    "def calcula_metricas(metricas, y_test, y_predict):\n",
    "    metricas['acc'] += (accuracy_score(y_test, y_predict))\n",
    "    metricas['recall'] += (recall_score(y_test, y_predict, average='micro'))\n",
    "    metricas['precision'] += (precision_score(y_test, y_predict, average='macro'))\n",
    "    metricas['f1'] += f1_score(y_test, y_predict, average='weighted')\n",
    "    # metricas['roc'] += roc_auc_score(y_test, y_predict)\n",
    "    metricas['kappa'] += cohen_kappa_score(y_test, y_predict)\n",
    "    metricas['balanced_acc'] += balanced_accuracy_score(y_test, y_predict)"
   ],
   "metadata": {
    "collapsed": false,
    "pycharm": {
     "name": "#%%\n"
    }
   }
  },
  {
   "cell_type": "code",
   "execution_count": 200,
   "outputs": [],
   "source": [
    "def save_metricas(name, metricas):\n",
    "    f = open(name, 'w')\n",
    "    f.write('Acuária:' + str(metricas['acc']) + '\\n')\n",
    "    f.write('Recall:' + str(metricas['recall']) + '\\n')\n",
    "    f.write('Precisão:' + str(metricas['precision']) + '\\n')\n",
    "    f.write('F-Measure:' + str(metricas['f1']) + '\\n')\n",
    "    # f.write('Curva Roc:' + str(metricas['roc']) + '\\n')\n",
    "    f.write('Indice Kappa:' + str(metricas['kappa']) + '\\n')\n",
    "    f.write('Acuária Balanceada:' + str(metricas['balanced_acc']) + '\\n')\n",
    "    f.close()"
   ],
   "metadata": {
    "collapsed": false,
    "pycharm": {
     "name": "#%%\n"
    }
   }
  },
  {
   "cell_type": "code",
   "execution_count": 201,
   "outputs": [],
   "source": [
    "def show_metricas(metricas):\n",
    "    print('Acuária:', metricas['acc'])\n",
    "    print('Recall:', metricas['recall'])\n",
    "    print('Precisão:', metricas['precision'])\n",
    "    print('F-Measure:', metricas['f1'])\n",
    "    # print('Curva Roc:', metricas['roc'])\n",
    "    print('Indice Kappa:', metricas['kappa'])\n",
    "    print('Acuária Balanceada:', metricas['balanced_acc'])"
   ],
   "metadata": {
    "collapsed": false,
    "pycharm": {
     "name": "#%%\n"
    }
   }
  },
  {
   "cell_type": "code",
   "execution_count": 202,
   "outputs": [],
   "source": [
    "def write_metricas(name_file, metricas, metodo):\n",
    "    f = open(name_file, \"a\")\n",
    "    f.write(metodo + ',')\n",
    "    f.write(str(round(metricas['acc'],4)) + ',')\n",
    "    f.write(str(round(metricas['recall'],4)) + ',')\n",
    "    f.write(str(round(metricas['precision'],4)) + ',')\n",
    "    f.write(str(round(metricas['f1'],4)) + ',')\n",
    "    # f.write(str(round(metricas['roc'],4)) + ';')\n",
    "    f.write(str(round(metricas['kappa'],4)) + ',')\n",
    "    f.write(str(round(metricas['balanced_acc'],4)) + '\\n')\n",
    "    f.close()\n"
   ],
   "metadata": {
    "collapsed": false,
    "pycharm": {
     "name": "#%%\n"
    }
   }
  },
  {
   "cell_type": "markdown",
   "source": [
    "## DataFrame Completo"
   ],
   "metadata": {
    "collapsed": false
   }
  },
  {
   "cell_type": "code",
   "execution_count": 203,
   "outputs": [],
   "source": [
    "# TODO change split function\n",
    "kf = KFold(n_splits=2, shuffle=True, random_state=random.randint(0, 10))\n",
    "data_kfold = kf.split(data)\n",
    "\n",
    "train = []\n",
    "test = []\n",
    "\n",
    "for train_index, test_index in data_kfold:\n",
    "    train.append(train_index)\n",
    "    test.append(test_index)"
   ],
   "metadata": {
    "collapsed": false,
    "pycharm": {
     "name": "#%%\n"
    }
   }
  },
  {
   "cell_type": "code",
   "execution_count": 204,
   "outputs": [],
   "source": [
    "name_file = 'metricas.csv'\n",
    "\n",
    "# Roc;\n",
    "f = open(name_file, \"w\")\n",
    "f.write('Acurácia,Recall,Precisão,F1,Kappa,Acurácia Balanceada\\n')\n",
    "f.close()"
   ],
   "metadata": {
    "collapsed": false,
    "pycharm": {
     "name": "#%%\n"
    }
   }
  },
  {
   "cell_type": "markdown",
   "source": [
    "## Aplicando KNN com  train_test_split\n",
    "~kfold~ (era k-fold)\n",
    "\n",
    "K Nearest neighbor (K-ésimo Vizinho mais Próximo)"
   ],
   "metadata": {
    "collapsed": false
   }
  },
  {
   "cell_type": "code",
   "execution_count": 205,
   "outputs": [
    {
     "name": "stdout",
     "output_type": "stream",
     "text": [
      "Acuária: 1.0\n",
      "Recall: 1.0\n",
      "Precisão: 1.0\n",
      "F-Measure: 1.0\n",
      "Indice Kappa: 1.0\n",
      "Acuária Balanceada: 1.0\n"
     ]
    }
   ],
   "source": [
    "\n",
    "# 'roc': 0,\n",
    "metodo = 'KNN'\n",
    "metricas = {'acc': 0, 'recall': 0, 'precision': 0, 'f1': 0, 'kappa': 0, 'balanced_acc': 0}\n",
    "\n",
    "x_train, x_test, y_train, y_test = train_test_split(data_scaler, data_results)\n",
    "\n",
    "neigh = KNeighborsClassifier(n_neighbors=10)\n",
    "neigh.fit(x_train, y_train)\n",
    "\n",
    "y_predict = neigh.predict(x_test)\n",
    "\n",
    "calcula_metricas(metricas, y_test, y_predict)\n",
    "\n",
    "show_metricas(metricas)\n",
    "write_metricas(name_file, metricas, metodo)"
   ],
   "metadata": {
    "collapsed": false,
    "pycharm": {
     "name": "#%%\n"
    }
   }
  },
  {
   "cell_type": "code",
   "execution_count": 206,
   "outputs": [],
   "source": [
    "# # 'roc': 0,\n",
    "# metodo = 'KNN'\n",
    "# metricas = {'acc': 0, 'recall': 0, 'precision': 0, 'f1': 0, 'kappa': 0, 'balanced_acc': 0}\n",
    "#\n",
    "# for train_index, test_index in zip(train, test):\n",
    "#     x_train, x_test = data_scaler[train_index], data_scaler[test_index]\n",
    "#     y_train, y_test = data_results[train_index], data_results[test_index]\n",
    "#\n",
    "#     neigh = KNeighborsClassifier(n_neighbors=100)\n",
    "#     neigh.fit(x_train, y_train)\n",
    "#\n",
    "#     y_predict = neigh.predict(x_test)\n",
    "#\n",
    "#     calcula_metricas(metricas, y_test, y_predict)\n",
    "#\n",
    "# for metrica, value in metricas.items():\n",
    "#     metricas[metrica] = value/10\n",
    "#\n",
    "# show_metricas(metricas)\n",
    "# write_metricas(name_file, metricas, metodo)"
   ],
   "metadata": {
    "collapsed": false,
    "pycharm": {
     "name": "#%%\n"
    }
   }
  },
  {
   "cell_type": "markdown",
   "source": [
    "## Aplicando GaussianNB\n",
    "\n",
    "(Classificador Gaussiano Naïve Bayesiano)"
   ],
   "metadata": {
    "collapsed": false
   }
  },
  {
   "cell_type": "code",
   "execution_count": 207,
   "outputs": [
    {
     "name": "stdout",
     "output_type": "stream",
     "text": [
      "Acuária: 1.0\n",
      "Recall: 1.0\n",
      "Precisão: 1.0\n",
      "F-Measure: 1.0\n",
      "Indice Kappa: 1.0\n",
      "Acuária Balanceada: 1.0\n"
     ]
    }
   ],
   "source": [
    "metodo = 'Gauss'\n",
    "metricas = {'acc': 0, 'recall': 0, 'precision': 0, 'f1': 0, 'roc': 0, 'kappa': 0, 'balanced_acc': 0}\n",
    "\n",
    "\n",
    "x_train, x_test, y_train, y_test = train_test_split(data_scaler, data_results)\n",
    "\n",
    "gauss = GaussianNB()\n",
    "gauss.fit(x_train, y_train)\n",
    "\n",
    "y_predict = gauss.predict(x_test)\n",
    "\n",
    "calcula_metricas(metricas, y_test, y_predict)\n",
    "\n",
    "show_metricas(metricas)\n",
    "write_metricas(name_file, metricas, metodo)"
   ],
   "metadata": {
    "collapsed": false,
    "pycharm": {
     "name": "#%%\n"
    }
   }
  },
  {
   "cell_type": "code",
   "execution_count": 208,
   "outputs": [],
   "source": [
    "# metodo = 'Gauss'\n",
    "# metricas = {'acc': 0, 'recall': 0, 'precision': 0, 'f1': 0, 'roc': 0, 'kappa': 0, 'balanced_acc': 0}\n",
    "#\n",
    "# for train_index, test_index in zip(train, test):\n",
    "#     x_train, x_test = data_scaler[train_index], data_scaler[test_index]\n",
    "#     y_train, y_test = data_results[train_index], data_results[test_index]\n",
    "#\n",
    "#     gauss = GaussianNB()\n",
    "#     gauss.fit(x_train, y_train)\n",
    "#\n",
    "#     y_predict = gauss.predict(x_test)\n",
    "#\n",
    "#     calcula_metricas(metricas, y_test, y_predict)\n",
    "#\n",
    "# for metrica, value in metricas.items():\n",
    "#     metricas[metrica] = value/10\n",
    "#\n",
    "# show_metricas(metricas)\n",
    "# write_metricas(name_file, metricas, metodo)"
   ],
   "metadata": {
    "collapsed": false,
    "pycharm": {
     "name": "#%%\n"
    }
   }
  },
  {
   "cell_type": "markdown",
   "source": [
    "## Aplicando DecisionTreeClassifier\n",
    "\n",
    "Árvores de Decisão"
   ],
   "metadata": {
    "collapsed": false
   }
  },
  {
   "cell_type": "code",
   "execution_count": 209,
   "outputs": [
    {
     "name": "stdout",
     "output_type": "stream",
     "text": [
      "Acuária: 0.99609375\n",
      "Recall: 0.99609375\n",
      "Precisão: 0.9955357142857143\n",
      "F-Measure: 0.996103083930705\n",
      "Indice Kappa: 0.9958187015108207\n",
      "Acuária Balanceada: 0.99609375\n"
     ]
    }
   ],
   "source": [
    "metodo = 'Tree'\n",
    "metricas = {'acc': 0, 'recall': 0, 'precision': 0, 'f1': 0, 'roc': 0, 'kappa': 0, 'balanced_acc': 0}\n",
    "\n",
    "x_train, x_test, y_train, y_test = train_test_split(data_scaler, data_results)\n",
    "\n",
    "tree = DecisionTreeClassifier()\n",
    "tree.fit(x_train, y_train)\n",
    "\n",
    "y_predict = tree.predict(x_test)\n",
    "\n",
    "calcula_metricas(metricas, y_test, y_predict)\n",
    "\n",
    "show_metricas(metricas)\n",
    "write_metricas(name_file, metricas, metodo)"
   ],
   "metadata": {
    "collapsed": false,
    "pycharm": {
     "name": "#%%\n"
    }
   }
  },
  {
   "cell_type": "code",
   "execution_count": 210,
   "outputs": [],
   "source": [
    "# metodo = 'Tree'\n",
    "# metricas = {'acc': 0, 'recall': 0, 'precision': 0, 'f1': 0, 'roc': 0, 'kappa': 0, 'balanced_acc': 0}\n",
    "#\n",
    "# for train_index, test_index in zip(train, test):\n",
    "#     x_train, x_test = data_scaler[train_index], data_scaler[test_index]\n",
    "#     y_train, y_test = data_results[train_index], data_results[test_index]\n",
    "#\n",
    "#     tree = DecisionTreeClassifier()\n",
    "#     tree.fit(x_train, y_train)\n",
    "#\n",
    "#     y_predict = tree.predict(x_test)\n",
    "#\n",
    "#     calcula_metricas(metricas, y_test, y_predict)\n",
    "#\n",
    "# for metrica, value in metricas.items():\n",
    "#     metricas[metrica] = value/10\n",
    "#\n",
    "# show_metricas(metricas)\n",
    "# write_metricas(name_file, metricas, metodo)"
   ],
   "metadata": {
    "collapsed": false,
    "pycharm": {
     "name": "#%%\n"
    }
   }
  },
  {
   "cell_type": "markdown",
   "source": [
    "## Aplicando SVM\n",
    "\n",
    "Máquinas de Vetores de Suporte (SVMs)"
   ],
   "metadata": {
    "collapsed": false
   }
  },
  {
   "cell_type": "code",
   "execution_count": 211,
   "outputs": [
    {
     "name": "stdout",
     "output_type": "stream",
     "text": [
      "Acuária: 1.0\n",
      "Recall: 1.0\n",
      "Precisão: 1.0\n",
      "F-Measure: 1.0\n",
      "Indice Kappa: 1.0\n",
      "Acuária Balanceada: 1.0\n"
     ]
    }
   ],
   "source": [
    "metodo = 'SVM'\n",
    "metricas = {'acc': 0, 'recall': 0, 'precision': 0, 'f1': 0, 'roc': 0, 'kappa': 0, 'balanced_acc': 0}\n",
    "\n",
    "x_train, x_test, y_train, y_test = train_test_split(data_scaler, data_results)\n",
    "\n",
    "svm = SVC()\n",
    "svm.fit(x_train, y_train)\n",
    "\n",
    "y_predict = svm.predict(x_test)\n",
    "\n",
    "calcula_metricas(metricas, y_test, y_predict)\n",
    "\n",
    "show_metricas(metricas)\n",
    "write_metricas(name_file, metricas, metodo)"
   ],
   "metadata": {
    "collapsed": false,
    "pycharm": {
     "name": "#%%\n"
    }
   }
  },
  {
   "cell_type": "code",
   "execution_count": 212,
   "outputs": [],
   "source": [
    "# metodo = 'SVM'\n",
    "# metricas = {'acc': 0, 'recall': 0, 'precision': 0, 'f1': 0, 'roc': 0, 'kappa': 0, 'balanced_acc': 0}\n",
    "#\n",
    "# for train_index, test_index in zip(train, test):\n",
    "#     x_train, x_test = data_scaler[train_index], data_scaler[test_index]\n",
    "#     y_train, y_test = data_results[train_index], data_results[test_index]\n",
    "#\n",
    "#     svm = SVC()\n",
    "#     svm.fit(x_train, y_train)\n",
    "#\n",
    "#     y_predict = svm.predict(x_test)\n",
    "#\n",
    "#     calcula_metricas(metricas, y_test, y_predict)\n",
    "#\n",
    "# for metrica, value in metricas.items():\n",
    "#     metricas[metrica] = value/10\n",
    "#\n",
    "# show_metricas(metricas)\n",
    "# write_metricas(name_file, metricas, metodo)"
   ],
   "metadata": {
    "collapsed": false,
    "pycharm": {
     "name": "#%%\n"
    }
   }
  },
  {
   "cell_type": "markdown",
   "source": [
    "## DataFrame Selecionado"
   ],
   "metadata": {
    "collapsed": false
   }
  },
  {
   "cell_type": "markdown",
   "source": [
    "## Aplicando"
   ],
   "metadata": {
    "collapsed": false
   }
  },
  {
   "cell_type": "code",
   "execution_count": 213,
   "outputs": [],
   "source": [
    "kf = KFold(n_splits=2, shuffle=True, random_state=random.randint(0, 10))\n",
    "data_kfold = kf.split(data_scaler2)\n",
    "\n",
    "train = []\n",
    "test = []\n",
    "\n",
    "for train_index, test_index in data_kfold:\n",
    "    train.append(train_index)\n",
    "    test.append(test_index)"
   ],
   "metadata": {
    "collapsed": false,
    "pycharm": {
     "name": "#%%\n"
    }
   }
  },
  {
   "cell_type": "markdown",
   "source": [
    "## Aplicando KNN"
   ],
   "metadata": {
    "collapsed": false
   }
  },
  {
   "cell_type": "code",
   "execution_count": 214,
   "outputs": [
    {
     "name": "stdout",
     "output_type": "stream",
     "text": [
      "Acuária: 1.0\n",
      "Recall: 1.0\n",
      "Precisão: 1.0\n",
      "F-Measure: 1.0\n",
      "Indice Kappa: 1.0\n",
      "Acuária Balanceada: 1.0\n"
     ]
    }
   ],
   "source": [
    "metodo = 'KNNSELECT'\n",
    "metricas = {'acc': 0, 'recall': 0, 'precision': 0, 'f1': 0, 'roc': 0, 'kappa': 0, 'balanced_acc': 0}\n",
    "\n",
    "x_train, x_test, y_train, y_test = train_test_split(data_scaler, data_results)\n",
    "\n",
    "neigh = KNeighborsClassifier(n_neighbors=10)\n",
    "neigh.fit(x_train, y_train)\n",
    "\n",
    "y_predict = neigh.predict(x_test)\n",
    "\n",
    "calcula_metricas(metricas, y_test, y_predict)\n",
    "\n",
    "show_metricas(metricas)\n",
    "write_metricas(name_file, metricas, metodo)"
   ],
   "metadata": {
    "collapsed": false,
    "pycharm": {
     "name": "#%%\n"
    }
   }
  },
  {
   "cell_type": "code",
   "execution_count": 215,
   "outputs": [],
   "source": [
    "# metodo = 'KNNSELECT'\n",
    "# metricas = {'acc': 0, 'recall': 0, 'precision': 0, 'f1': 0, 'roc': 0, 'kappa': 0, 'balanced_acc': 0}\n",
    "#\n",
    "# for train_index, test_index in zip(train, test):\n",
    "#     x_train, x_test = data_scaler2[train_index], data_scaler2[test_index]\n",
    "#     y_train, y_test = data_results[train_index], data_results[test_index]\n",
    "#\n",
    "#     neigh = KNeighborsClassifier(n_neighbors=20)\n",
    "#     neigh.fit(x_train, y_train)\n",
    "#\n",
    "#     y_predict = neigh.predict(x_test)\n",
    "#\n",
    "#     calcula_metricas(metricas, y_test, y_predict)\n",
    "#\n",
    "# for metrica, value in metricas.items():\n",
    "#     metricas[metrica] = value/10\n",
    "#\n",
    "# show_metricas(metricas)\n",
    "# write_metricas(name_file, metricas, metodo)"
   ],
   "metadata": {
    "collapsed": false,
    "pycharm": {
     "name": "#%%\n"
    }
   }
  },
  {
   "cell_type": "markdown",
   "source": [
    "## Aplicando GaussianNB"
   ],
   "metadata": {
    "collapsed": false
   }
  },
  {
   "cell_type": "code",
   "execution_count": 216,
   "outputs": [
    {
     "name": "stdout",
     "output_type": "stream",
     "text": [
      "Acuária: 1.0\n",
      "Recall: 1.0\n",
      "Precisão: 1.0\n",
      "F-Measure: 1.0\n",
      "Indice Kappa: 1.0\n",
      "Acuária Balanceada: 1.0\n"
     ]
    }
   ],
   "source": [
    "metodo = 'GaussSELECT'\n",
    "metricas = {'acc': 0, 'recall': 0, 'precision': 0, 'f1': 0, 'roc': 0, 'kappa': 0, 'balanced_acc': 0}\n",
    "\n",
    "x_train, x_test, y_train, y_test = train_test_split(data_scaler, data_results)\n",
    "\n",
    "gauss = GaussianNB()\n",
    "gauss.fit(x_train, y_train)\n",
    "\n",
    "y_predict = gauss.predict(x_test)\n",
    "\n",
    "calcula_metricas(metricas, y_test, y_predict)\n",
    "\n",
    "show_metricas(metricas)\n",
    "write_metricas(name_file, metricas, metodo)"
   ],
   "metadata": {
    "collapsed": false,
    "pycharm": {
     "name": "#%%\n"
    }
   }
  },
  {
   "cell_type": "code",
   "execution_count": 217,
   "outputs": [],
   "source": [
    "# metodo = 'GaussSELECT'\n",
    "# metricas = {'acc': 0, 'recall': 0, 'precision': 0, 'f1': 0, 'roc': 0, 'kappa': 0, 'balanced_acc': 0}\n",
    "#\n",
    "# for train_index, test_index in zip(train, test):\n",
    "#     x_train, x_test = data_scaler2[train_index], data_scaler2[test_index]\n",
    "#     y_train, y_test = data_results[train_index], data_results[test_index]\n",
    "#\n",
    "#     gauss = GaussianNB()\n",
    "#     gauss.fit(x_train, y_train)\n",
    "#\n",
    "#     y_predict = gauss.predict(x_test)\n",
    "#\n",
    "#     calcula_metricas(metricas, y_test, y_predict)\n",
    "#\n",
    "# for metrica, value in metricas.items():\n",
    "#     metricas[metrica] = value/10\n",
    "#\n",
    "# show_metricas(metricas)\n",
    "# write_metricas(name_file, metricas, metodo)"
   ],
   "metadata": {
    "collapsed": false,
    "pycharm": {
     "name": "#%%\n"
    }
   }
  },
  {
   "cell_type": "markdown",
   "source": [
    "## Aplicando DecisionTreeClassifier"
   ],
   "metadata": {
    "collapsed": false
   }
  },
  {
   "cell_type": "code",
   "execution_count": 218,
   "outputs": [
    {
     "name": "stdout",
     "output_type": "stream",
     "text": [
      "Acuária: 0.98828125\n",
      "Recall: 0.98828125\n",
      "Precisão: 0.9872596153846154\n",
      "F-Measure: 0.9883769914215685\n",
      "Indice Kappa: 0.9874741082641528\n",
      "Acuária Balanceada: 0.9899305555555555\n"
     ]
    }
   ],
   "source": [
    "metodo = 'TreeSELECT'\n",
    "metricas = {'acc': 0, 'recall': 0, 'precision': 0, 'f1': 0, 'roc': 0, 'kappa': 0, 'balanced_acc': 0}\n",
    "\n",
    "x_train, x_test, y_train, y_test = train_test_split(data_scaler, data_results)\n",
    "\n",
    "tree = DecisionTreeClassifier()\n",
    "tree.fit(x_train, y_train)\n",
    "\n",
    "y_predict = tree.predict(x_test)\n",
    "\n",
    "calcula_metricas(metricas, y_test, y_predict)\n",
    "\n",
    "show_metricas(metricas)\n",
    "write_metricas(name_file, metricas, metodo)"
   ],
   "metadata": {
    "collapsed": false,
    "pycharm": {
     "name": "#%%\n"
    }
   }
  },
  {
   "cell_type": "code",
   "execution_count": 219,
   "outputs": [],
   "source": [
    "# metodo = 'TreeSELECT'\n",
    "# metricas = {'acc': 0, 'recall': 0, 'precision': 0, 'f1': 0, 'roc': 0, 'kappa': 0, 'balanced_acc': 0}\n",
    "#\n",
    "# for train_index, test_index in zip(train, test):\n",
    "#     x_train, x_test = data_scaler2[train_index], data_scaler2[test_index]\n",
    "#     y_train, y_test = data_results[train_index], data_results[test_index]\n",
    "#\n",
    "#     tree = DecisionTreeClassifier()\n",
    "#     tree.fit(x_train, y_train)\n",
    "#\n",
    "#     y_predict = tree.predict(x_test)\n",
    "#\n",
    "#     calcula_metricas(metricas, y_test, y_predict)\n",
    "#\n",
    "# for metrica, value in metricas.items():\n",
    "#     metricas[metrica] = value/10\n",
    "#\n",
    "# show_metricas(metricas)\n",
    "# write_metricas(name_file, metricas, metodo)"
   ],
   "metadata": {
    "collapsed": false,
    "pycharm": {
     "name": "#%%\n"
    }
   }
  },
  {
   "cell_type": "markdown",
   "source": [
    "## Aplicando SVM"
   ],
   "metadata": {
    "collapsed": false
   }
  },
  {
   "cell_type": "code",
   "execution_count": 220,
   "outputs": [
    {
     "name": "stdout",
     "output_type": "stream",
     "text": [
      "Acuária: 1.0\n",
      "Recall: 1.0\n",
      "Precisão: 1.0\n",
      "F-Measure: 1.0\n",
      "Indice Kappa: 1.0\n",
      "Acuária Balanceada: 1.0\n"
     ]
    }
   ],
   "source": [
    "metodo = 'SVMSELECT'\n",
    "metricas = {'acc': 0, 'recall': 0, 'precision': 0, 'f1': 0, 'roc': 0, 'kappa': 0, 'balanced_acc': 0}\n",
    "\n",
    "x_train, x_test, y_train, y_test = train_test_split(data_scaler, data_results)\n",
    "\n",
    "svm = SVC()\n",
    "svm.fit(x_train, y_train)\n",
    "\n",
    "y_predict = svm.predict(x_test)\n",
    "\n",
    "calcula_metricas(metricas, y_test, y_predict)\n",
    "\n",
    "show_metricas(metricas)\n",
    "write_metricas(name_file, metricas, metodo)"
   ],
   "metadata": {
    "collapsed": false,
    "pycharm": {
     "name": "#%%\n"
    }
   }
  },
  {
   "cell_type": "code",
   "execution_count": 221,
   "outputs": [],
   "source": [
    "# metodo = 'SVMSELECT'\n",
    "# metricas = {'acc': 0, 'recall': 0, 'precision': 0, 'f1': 0, 'roc': 0, 'kappa': 0, 'balanced_acc': 0}\n",
    "#\n",
    "# for train_index, test_index in zip(train, test):\n",
    "#     x_train, x_test = data_scaler2[train_index], data_scaler2[test_index]\n",
    "#     y_train, y_test = data_results[train_index], data_results[test_index]\n",
    "#\n",
    "#     svm = SVC()\n",
    "#     svm.fit(x_train, y_train)\n",
    "#\n",
    "#     y_predict = svm.predict(x_test)\n",
    "#\n",
    "#     calcula_metricas(metricas, y_test, y_predict)\n",
    "#\n",
    "# for metrica, value in metricas.items():\n",
    "#     metricas[metrica] = value/10\n",
    "#\n",
    "# show_metricas(metricas)\n",
    "# write_metricas(name_file, metricas, metodo)"
   ],
   "metadata": {
    "collapsed": false,
    "pycharm": {
     "name": "#%%\n"
    }
   }
  },
  {
   "cell_type": "code",
   "execution_count": 222,
   "outputs": [
    {
     "data": {
      "text/plain": "             Acurácia  Recall  Precisão      F1   Kappa  Acurácia Balanceada\nKNN            1.0000  1.0000    1.0000  1.0000  1.0000               1.0000\nGauss          1.0000  1.0000    1.0000  1.0000  1.0000               1.0000\nTree           0.9961  0.9961    0.9955  0.9961  0.9958               0.9961\nSVM            1.0000  1.0000    1.0000  1.0000  1.0000               1.0000\nKNNSELECT      1.0000  1.0000    1.0000  1.0000  1.0000               1.0000\nGaussSELECT    1.0000  1.0000    1.0000  1.0000  1.0000               1.0000\nTreeSELECT     0.9883  0.9883    0.9873  0.9884  0.9875               0.9899\nSVMSELECT      1.0000  1.0000    1.0000  1.0000  1.0000               1.0000",
      "text/html": "<div>\n<style scoped>\n    .dataframe tbody tr th:only-of-type {\n        vertical-align: middle;\n    }\n\n    .dataframe tbody tr th {\n        vertical-align: top;\n    }\n\n    .dataframe thead th {\n        text-align: right;\n    }\n</style>\n<table border=\"1\" class=\"dataframe\">\n  <thead>\n    <tr style=\"text-align: right;\">\n      <th></th>\n      <th>Acurácia</th>\n      <th>Recall</th>\n      <th>Precisão</th>\n      <th>F1</th>\n      <th>Kappa</th>\n      <th>Acurácia Balanceada</th>\n    </tr>\n  </thead>\n  <tbody>\n    <tr>\n      <th>KNN</th>\n      <td>1.0000</td>\n      <td>1.0000</td>\n      <td>1.0000</td>\n      <td>1.0000</td>\n      <td>1.0000</td>\n      <td>1.0000</td>\n    </tr>\n    <tr>\n      <th>Gauss</th>\n      <td>1.0000</td>\n      <td>1.0000</td>\n      <td>1.0000</td>\n      <td>1.0000</td>\n      <td>1.0000</td>\n      <td>1.0000</td>\n    </tr>\n    <tr>\n      <th>Tree</th>\n      <td>0.9961</td>\n      <td>0.9961</td>\n      <td>0.9955</td>\n      <td>0.9961</td>\n      <td>0.9958</td>\n      <td>0.9961</td>\n    </tr>\n    <tr>\n      <th>SVM</th>\n      <td>1.0000</td>\n      <td>1.0000</td>\n      <td>1.0000</td>\n      <td>1.0000</td>\n      <td>1.0000</td>\n      <td>1.0000</td>\n    </tr>\n    <tr>\n      <th>KNNSELECT</th>\n      <td>1.0000</td>\n      <td>1.0000</td>\n      <td>1.0000</td>\n      <td>1.0000</td>\n      <td>1.0000</td>\n      <td>1.0000</td>\n    </tr>\n    <tr>\n      <th>GaussSELECT</th>\n      <td>1.0000</td>\n      <td>1.0000</td>\n      <td>1.0000</td>\n      <td>1.0000</td>\n      <td>1.0000</td>\n      <td>1.0000</td>\n    </tr>\n    <tr>\n      <th>TreeSELECT</th>\n      <td>0.9883</td>\n      <td>0.9883</td>\n      <td>0.9873</td>\n      <td>0.9884</td>\n      <td>0.9875</td>\n      <td>0.9899</td>\n    </tr>\n    <tr>\n      <th>SVMSELECT</th>\n      <td>1.0000</td>\n      <td>1.0000</td>\n      <td>1.0000</td>\n      <td>1.0000</td>\n      <td>1.0000</td>\n      <td>1.0000</td>\n    </tr>\n  </tbody>\n</table>\n</div>"
     },
     "execution_count": 222,
     "metadata": {},
     "output_type": "execute_result"
    }
   ],
   "source": [
    "analise = './metricas.csv'\n",
    "metricas = pd.read_csv(\n",
    "    analise,\n",
    "    )\n",
    "metricas"
   ],
   "metadata": {
    "collapsed": false,
    "pycharm": {
     "name": "#%%\n"
    }
   }
  }
 ],
 "metadata": {
  "kernelspec": {
   "name": "pycharm-2757d701",
   "language": "python",
   "display_name": "PyCharm (machine-learning)"
  },
  "language_info": {
   "codemirror_mode": {
    "name": "ipython",
    "version": 3
   },
   "file_extension": ".py",
   "mimetype": "text/x-python",
   "name": "python",
   "nbconvert_exporter": "python",
   "pygments_lexer": "ipython3",
   "version": "3.7.3"
  }
 },
 "nbformat": 4,
 "nbformat_minor": 4
}