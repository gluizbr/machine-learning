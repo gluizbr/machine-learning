{
 "cells": [
  {
   "cell_type": "markdown",
   "source": [
    "**Image classification of flowers with Random Forest Classifier**:\n",
    "\n",
    "Aluno: Gabriel Luiz\n",
    "\n",
    "Disciplina: Tópico em Aprendizado de Máquina"
   ],
   "metadata": {
    "collapsed": false,
    "pycharm": {
     "name": "#%% md\n"
    }
   }
  },
  {
   "cell_type": "code",
   "execution_count": 1,
   "metadata": {},
   "outputs": [],
   "source": [
    "from sklearn.metrics import classification_report, confusion_matrix\n",
    "from sklearn.preprocessing import LabelEncoder\n",
    "from sklearn.preprocessing import MinMaxScaler\n",
    "import numpy as np\n",
    "import mahotas\n",
    "import cv2\n",
    "import os\n",
    "import h5py\n",
    "import glob\n",
    "import matplotlib.pyplot as plt\n",
    "from sklearn.model_selection import train_test_split, cross_val_score, GridSearchCV\n",
    "from sklearn.ensemble import RandomForestClassifier"
   ]
  },
  {
   "cell_type": "code",
   "execution_count": 2,
   "metadata": {},
   "outputs": [],
   "source": [
    "# make a fix file size\n",
    "fixed_size  = tuple((500,500))\n",
    "\n",
    "#train path\n",
    "train_path = \"./dataset/train\"\n",
    "\n",
    "# no of trees for Random Forests\n",
    "num_tree = 100\n",
    "\n",
    "# bins for histograms\n",
    "bins = 8\n",
    "\n",
    "# train_test_split size\n",
    "test_size = 0.10\n",
    "\n",
    "# seed for reproducing same result\n",
    "seed = 9\n"
   ]
  },
  {
   "cell_type": "code",
   "execution_count": 3,
   "metadata": {},
   "outputs": [],
   "source": [
    "# features description -1:  Hu Moments\n",
    "# Momentos invariantes de uma imagem\n",
    "# Usado para descrever os objetos da imagem\n",
    "def fd_hu_moments(image):\n",
    "    image = cv2.cvtColor(image, cv2.COLOR_BGR2GRAY)\n",
    "    feature = cv2.HuMoments(cv2.moments(image)).flatten()\n",
    "    return feature"
   ]
  },
  {
   "cell_type": "code",
   "execution_count": 4,
   "metadata": {},
   "outputs": [],
   "source": [
    "# feature-descriptor -2 Haralick Texture\n",
    "# Descreve as imagens a partir de suas texturas\n",
    "def fd_haralick(image):\n",
    "    # conver the image to grayscale\n",
    "    gray = cv2.cvtColor(image,cv2.COLOR_BGR2GRAY)\n",
    "    # Ccompute the haralick texture fetature ve tor\n",
    "    haralic = mahotas.features.haralick(gray).mean(axis=0)\n",
    "    return haralic\n"
   ]
  },
  {
   "cell_type": "code",
   "execution_count": 5,
   "metadata": {},
   "outputs": [],
   "source": [
    "# feature-description -3 Color Histogram\n",
    "# Representa as imagens com a distribuição de cores\n",
    "def fd_histogram(image, mask=None):\n",
    "    # conver the image to HSV colors-space\n",
    "    image = cv2.cvtColor(image, cv2.COLOR_BGR2HSV)\n",
    "    #COPUTE THE COLOR HISTPGRAM\n",
    "    hist  = cv2.calcHist([image],[0,1,2],None,[bins,bins,bins], [0, 256, 0, 256, 0, 256])\n",
    "    # normalize the histogram\n",
    "    cv2.normalize(hist,hist)\n",
    "    # return the histog....\n",
    "    return hist.flatten()"
   ]
  },
  {
   "cell_type": "code",
   "execution_count": 6,
   "metadata": {},
   "outputs": [
    {
     "name": "stdout",
     "output_type": "stream",
     "text": [
      "['daisy', 'dandelion', 'rose', 'sunflower', 'tulip']\n"
     ]
    }
   ],
   "source": [
    "# get the training data labels\n",
    "train_labels = os.listdir(train_path)\n",
    "\n",
    "# sort the training labesl\n",
    "train_labels.sort()\n",
    "print(train_labels)\n",
    "\n",
    "# empty list to hold feature vectors and labels\n",
    "global_features = []\n",
    "labels = []"
   ]
  },
  {
   "cell_type": "markdown",
   "metadata": {},
   "source": [
    "<h1>loop insise the folder for train images </h1>"
   ]
  },
  {
   "cell_type": "code",
   "execution_count": 7,
   "metadata": {},
   "outputs": [
    {
     "name": "stdout",
     "output_type": "stream",
     "text": [
      "CPU times: user 2 µs, sys: 0 ns, total: 2 µs\n",
      "Wall time: 5.25 µs\n",
      "[STATUS] processed folder: daisy\n",
      "[STATUS] processed folder: dandelion\n",
      "[STATUS] processed folder: rose\n",
      "[STATUS] processed folder: sunflower\n",
      "[STATUS] processed folder: tulip\n",
      "[STATUS] completed Global Feature Extraction...\n"
     ]
    }
   ],
   "source": [
    "# iterate the folder to get the image label name\n",
    "\n",
    "%time\n",
    "# lop over the training data sub folder\n",
    "\n",
    "for training_name in train_labels:\n",
    "    # join the training data path and each species training folder\n",
    "    dir = os.path.join(train_path, training_name)\n",
    "\n",
    "    # get the current training label\n",
    "    current_label = training_name\n",
    "\n",
    "    # loop over the images in each sub-folder\n",
    "    for file in os.listdir(dir):\n",
    "\n",
    "        file = dir + \"/\" + os.fsdecode(file)\n",
    "\n",
    "        # read the image and resize it to a fixed-size\n",
    "        image = cv2.imread(file)\n",
    "        if image is not None:\n",
    "            image = cv2.resize(image,fixed_size)\n",
    "            fv_hu_moments = fd_hu_moments(image)\n",
    "            fv_haralick   = fd_haralick(image)\n",
    "            fv_histogram  = fd_histogram(image)\n",
    "\n",
    "        # Concatenate global features into a single matrix\n",
    "        global_feature = np.hstack([fv_histogram, fv_haralick, fv_hu_moments])\n",
    "\n",
    "        # update the list of labels and feature vectors\n",
    "        labels.append(current_label)\n",
    "        global_features.append(global_feature)\n",
    "\n",
    "    print(\"[STATUS] processed folder: {}\".format(current_label))\n",
    "\n",
    "print(\"[STATUS] completed Global Feature Extraction...\")\n"
   ]
  },
  {
   "cell_type": "code",
   "execution_count": 8,
   "metadata": {},
   "outputs": [
    {
     "name": "stdout",
     "output_type": "stream",
     "text": [
      "CPU times: user 33 µs, sys: 15 µs, total: 48 µs\n",
      "Wall time: 23.4 µs\n",
      "[STATUS] feature vector size (4323, 532)\n",
      "[STATUS] training Labels (4323,)\n",
      "[STATUS] training labels encoded...{}\n",
      "[STATUS] feature vector normalized...\n",
      "[STATUS] target labels: [0 0 0 ... 4 4 4]\n",
      "[STATUS] target labels shape: (4323,)\n"
     ]
    }
   ],
   "source": [
    "%time\n",
    "# get the overall feature vector size\n",
    "print(\"[STATUS] feature vector size {}\".format(np.array(global_features).shape))\n",
    "\n",
    "# get the overall training label size\n",
    "print(\"[STATUS] training Labels {}\".format(np.array(labels).shape))\n",
    "\n",
    "# encode the target labels\n",
    "targetNames = np.unique(labels)\n",
    "le = LabelEncoder()\n",
    "target = le.fit_transform(labels)\n",
    "print(\"[STATUS] training labels encoded...{}\")\n",
    "# normalize the feature vector in the range (0-1)\n",
    "scaler = MinMaxScaler(feature_range=(0, 1))\n",
    "rescaled_features = scaler.fit_transform(global_features)\n",
    "print(\"[STATUS] feature vector normalized...\")\n",
    "\n",
    "print(\"[STATUS] target labels: {}\".format(target))\n",
    "print(\"[STATUS] target labels shape: {}\".format(target.shape))\n"
   ]
  },
  {
   "cell_type": "code",
   "execution_count": 9,
   "outputs": [],
   "source": [
    "# split the training and testing data\n",
    "(trainDataGlobal, testDataGlobal, trainLabelsGlobal, testLabelsGlobal) = train_test_split(np.array(rescaled_features),\n",
    "                                                                                          np.array(target),\n",
    "                                                                                          test_size=test_size,\n",
    "                                                                                          random_state=seed)\n"
   ],
   "metadata": {
    "collapsed": false,
    "pycharm": {
     "name": "#%%\n"
    }
   }
  },
  {
   "cell_type": "markdown",
   "metadata": {},
   "source": [
    "<h3>RandomForest</h3>"
   ]
  },
  {
   "cell_type": "code",
   "execution_count": 10,
   "metadata": {},
   "outputs": [
    {
     "name": "stdout",
     "output_type": "stream",
     "text": [
      "              precision    recall  f1-score   support\n",
      "\n",
      "           0       0.69      0.64      0.66        75\n",
      "           1       0.58      0.69      0.63        99\n",
      "           2       0.73      0.55      0.63        74\n",
      "           3       0.80      0.84      0.82        80\n",
      "           4       0.71      0.71      0.71       105\n",
      "\n",
      "    accuracy                           0.69       433\n",
      "   macro avg       0.70      0.69      0.69       433\n",
      "weighted avg       0.70      0.69      0.69       433\n",
      "\n",
      "[[48 19  2  2  4]\n",
      " [17 68  1  9  4]\n",
      " [ 2 11 41  1 19]\n",
      " [ 1  8  1 67  3]\n",
      " [ 2 12 11  5 75]]\n"
     ]
    }
   ],
   "source": [
    "# create the model - Random Forests\n",
    "clf  = RandomForestClassifier(n_estimators=num_tree)\n",
    "\n",
    "# fit the training data to the model\n",
    "clf.fit(trainDataGlobal, trainLabelsGlobal)\n",
    "clf_pred = clf.predict(testDataGlobal)\n",
    "print(classification_report(testLabelsGlobal,clf_pred))\n",
    "print(confusion_matrix(testLabelsGlobal,clf_pred))"
   ]
  },
  {
   "cell_type": "code",
   "execution_count": 11,
   "outputs": [
    {
     "data": {
      "text/plain": "GridSearchCV(cv=5, estimator=RandomForestClassifier(),\n             param_grid={'criterion': ('gini', 'entropy'), 'max_depth': [2, 3],\n                         'max_features': ('auto', 'log2'),\n                         'min_samples_split': [2, 3, 4],\n                         'n_estimators': [10, 20, 50, 100, 200]})"
     },
     "execution_count": 11,
     "metadata": {},
     "output_type": "execute_result"
    }
   ],
   "source": [
    "parameters={\"n_estimators\":[10,20,50,100,200],\n",
    "           \"max_depth\":[2,3],\n",
    "           \"min_samples_split\":[2,3,4],\n",
    "           \"max_features\":('auto','log2'),\n",
    "           \"criterion\":('gini','entropy')}\n",
    "\n",
    "grid=GridSearchCV(clf, parameters, cv=5)\n",
    "grid.fit(trainDataGlobal,trainLabelsGlobal)"
   ],
   "metadata": {
    "collapsed": false,
    "pycharm": {
     "name": "#%%\n"
    }
   }
  },
  {
   "cell_type": "code",
   "execution_count": 12,
   "outputs": [
    {
     "data": {
      "text/plain": "{'criterion': 'gini',\n 'max_depth': 3,\n 'max_features': 'auto',\n 'min_samples_split': 3,\n 'n_estimators': 200}"
     },
     "execution_count": 12,
     "metadata": {},
     "output_type": "execute_result"
    }
   ],
   "source": [
    "grid.best_params_"
   ],
   "metadata": {
    "collapsed": false,
    "pycharm": {
     "name": "#%%\n"
    }
   }
  },
  {
   "cell_type": "code",
   "execution_count": 15,
   "outputs": [
    {
     "data": {
      "text/plain": "0.5922879177377892"
     },
     "execution_count": 15,
     "metadata": {},
     "output_type": "execute_result"
    }
   ],
   "source": [
    "estimator=grid.best_estimator_\n",
    "estimator.score(trainDataGlobal,trainLabelsGlobal)"
   ],
   "metadata": {
    "collapsed": false,
    "pycharm": {
     "name": "#%%\n"
    }
   }
  },
  {
   "cell_type": "code",
   "execution_count": 14,
   "metadata": {
    "pycharm": {
     "name": "#%%\n"
    }
   },
   "outputs": [],
   "source": [
    "\n",
    "# # path to test data\n",
    "# test_path = \"./dataset/test\"\n",
    "#\n",
    "# # loop through the test images\n",
    "# for file in os.listdir(test_path):\n",
    "#\n",
    "#     file = test_path + \"/\" + file\n",
    "#     #print(file)\n",
    "#\n",
    "#     # read the image\n",
    "#     image = cv2.imread(file)\n",
    "#\n",
    "#     # resize the image\n",
    "#     image = cv2.resize(image, fixed_size)\n",
    "#\n",
    "#     # Global Feature extraction\n",
    "#     fv_hu_moments = fd_hu_moments(image)\n",
    "#     fv_haralick   = fd_haralick(image)\n",
    "#     fv_histogram  = fd_histogram(image)\n",
    "#\n",
    "#     # Concatenate global features\n",
    "#\n",
    "#     global_feature = np.hstack([fv_histogram, fv_haralick, fv_hu_moments])\n",
    "#\n",
    "#     # predict label of test image\n",
    "#     prediction = clf.predict(global_feature.reshape(1,-1))[0]\n",
    "#\n",
    "#     # show predicted label on image\n",
    "#     cv2.putText(image, train_labels[prediction], (20,30), cv2.FONT_HERSHEY_SIMPLEX, 1.0, (0,255,255), 3)\n",
    "#\n",
    "#     # display the output image\n",
    "#     plt.imshow(cv2.cvtColor(image, cv2.COLOR_BGR2RGB))\n",
    "#     plt.show()"
   ]
  }
 ],
 "metadata": {
  "kernelspec": {
   "name": "pycharm-2757d701",
   "language": "python",
   "display_name": "PyCharm (machine-learning)"
  },
  "language_info": {
   "codemirror_mode": {
    "name": "ipython",
    "version": 3
   },
   "file_extension": ".py",
   "mimetype": "text/x-python",
   "name": "python",
   "nbconvert_exporter": "python",
   "pygments_lexer": "ipython3",
   "version": "3.6.2"
  }
 },
 "nbformat": 4,
 "nbformat_minor": 2
}